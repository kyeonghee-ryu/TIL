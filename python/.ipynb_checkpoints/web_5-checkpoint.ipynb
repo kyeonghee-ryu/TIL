{
 "cells": [
  {
   "cell_type": "markdown",
   "metadata": {},
   "source": [
    "# 1. 다나와 웹사이트 무선청소기 정보 크롤링"
   ]
  },
  {
   "cell_type": "code",
   "execution_count": 1,
   "metadata": {},
   "outputs": [],
   "source": [
    "from selenium import webdriver\n",
    "driver = webdriver.Chrome('c:/scrap/chromedriver.exe')\n",
    "url = 'http://search.danawa.com/dsearch.php?query=무선청소기&tab=main'"
   ]
  },
  {
   "cell_type": "code",
   "execution_count": 2,
   "metadata": {},
   "outputs": [],
   "source": [
    "driver.get(url)"
   ]
  },
  {
   "cell_type": "code",
   "execution_count": 3,
   "metadata": {},
   "outputs": [],
   "source": [
    "from bs4 import BeautifulSoup\n",
    "html = driver.page_source\n",
    "soup = BeautifulSoup(html,'html.parser')"
   ]
  },
  {
   "cell_type": "markdown",
   "metadata": {},
   "source": [
    "### 1-1. 리스트에 있는 데이터만 가져오기"
   ]
  },
  {
   "cell_type": "code",
   "execution_count": 29,
   "metadata": {},
   "outputs": [
    {
     "name": "stdout",
     "output_type": "stream",
     "text": [
      "<li class=\"prod_item\" id=\"productItem9781572\">\n",
      "<input id=\"productItem_categoryInfo_9781572\" type=\"hidden\" value=\"생활가전_청소기\"/>\n",
      "<input id=\"min_price_9781572\" type=\"hidden\" value=\"147160\"/>\n",
      "<div class=\"prod_main_info\">\n",
      "<div class=\"thumb_image\">\n",
      "<a class=\"thumb_link\" href=\"http://prod.danawa.com/info/?pcode=9781572&amp;keyword=무선청소기&amp;cate=103740\" id=\"thumbLink_9781572\" onmousedown=\"_trkEventLog('통합검색_상품블로그_유입');\" target=\"_blank\">\n",
      "<img alt=\"V10\" class=\"click_log_product_standard_img_\" src=\"http://img.danawa.com/prod_img/500000/572/781/img/9781572_1.jpg?shrink=160:160&amp;_v=20210110210436\"/>\n",
      "</a>\n",
      "<a class=\"btn_view_zoom\" data-assemblygallerycategory=\"N\" href=\"#\" id=\"imageZoom_9781572\" onclick=\"return false;\">\n",
      "<span class=\"ico i_zoom_vw\"></span>이미지보기\n",
      "\t\t\t\t\t\t\t</a>\n",
      "<input id=\"hidden_cate_sub_c1\" type=\"hidden\" value=\"72\"/>\n",
      "<input id=\"hidden_cate_sub_c2\" type=\"hidden\" value=\"80\"/>\n",
      "<input id=\"hidden_cate_sub_c3\" type=\"hidden\" value=\"81\"/>\n",
      "</div>\n",
      "<div class=\"prod_info\">\n",
      "<p class=\"prod_name\">\n",
      "<a class=\"click_log_product_standard_title_\" href=\"http://prod.danawa.com/info/?pcode=9781572&amp;keyword=무선청소기&amp;cate=103740\" onmousedown=\"_trkEventLog('통합검색_상품블로그_유입'); doCTR('%EB%AC%B4%EC%84%A0%EC%B2%AD%EC%86%8C%EA%B8%B0','9781572',1);\" target=\"_blank\">샤오미 드리미 V10</a>\n",
      "</p>\n",
      "<dl class=\"prod_spec_set\">\n",
      "<dt class=\"screen_out\">상세 스펙</dt>\n",
      "<dd>\n",
      "<div class=\"spec_list\"><a class=\"view_dic\" href=\"#\" onclick=\"$.termDicViewLink(8501,'view',this,0,72,80); return false;\">핸디/스틱<b>청소기</b></a> / <a class=\"view_dic\" href=\"#\" onclick=\"$.termDicViewLink(7445,'view',this,0,72,80); return false;\">핸디+스틱형</a> / <a class=\"view_dic\" href=\"#\" onclick=\"$.termDicViewLink(14900,'view',this,0,72,80); return false;\">무선형</a> / <a class=\"view_dic\" href=\"#\" onclick=\"$.termDicViewLink(213565,'view',this,0,72,80); return false;\">전압</a>: <a class=\"view_dic\" href=\"#\" onclick=\"$.termDicViewLink(213565,'view',this,0,72,80); return false;\">25.2V</a> / <a class=\"view_dic\" href=\"#\" onclick=\"$.termDicViewLink(14801,'view',this,0,72,80); return false;\">헤파필터</a> / <a class=\"view_dic\" href=\"#\" onclick=\"$.termDicViewLink(14801,'view',this,0,72,80); return false;\">H12급</a> / <a class=\"view_dic\" href=\"#\" onclick=\"$.termDicViewLink(30024,'view',this,0,72,80); return false;\">5단계여과</a> / <a class=\"view_dic\" href=\"#\" onclick=\"$.termDicViewLink(3996,'view',this,0,72,80); return false;\">흡입력</a>: <a class=\"view_dic\" href=\"#\" onclick=\"$.termDicViewLink(3996,'view',this,0,72,80); return false;\">140AW</a> / <a class=\"view_dic\" href=\"#\" onclick=\"$.termDicViewLink(3996,'view',this,0,72,80); return false;\">흡입력</a>: <a class=\"view_dic\" href=\"#\" onclick=\"$.termDicViewLink(3996,'view',this,0,72,80); return false;\">22000Pa</a> / <a class=\"view_dic\" href=\"#\" onclick=\"$.termDicViewLink(214653,'view',this,0,72,80); return false;\">먼지통용량</a>: <a class=\"view_dic\" href=\"#\" onclick=\"$.termDicViewLink(214653,'view',this,0,72,80); return false;\">0.5L</a> / <a class=\"view_dic\" href=\"#\" onclick=\"$.termDicViewLink(14921,'view',this,0,72,80); return false;\">충전시간</a>: <a class=\"view_dic\" href=\"#\" onclick=\"$.termDicViewLink(14921,'view',this,0,72,80); return false;\">3시간30분</a> / <a class=\"view_dic\" href=\"#\" onclick=\"$.termDicViewLink(8515,'view',this,0,72,80); return false;\">사용시간</a>: <a class=\"view_dic\" href=\"#\" onclick=\"$.termDicViewLink(8515,'view',this,0,72,80); return false;\">1시간</a> / <a class=\"view_dic\" href=\"#\" onclick=\"$.termDicViewLink(214659,'view',this,0,72,80); return false;\">용량</a>: <a class=\"view_dic\" href=\"#\" onclick=\"$.termDicViewLink(214659,'view',this,0,72,80); return false;\">2500mAh</a> / 구성: <a class=\"view_dic\" href=\"#\" onclick=\"$.termDicViewLink(18333,'view',this,0,72,80); return false;\">바닥</a>, <a class=\"view_dic\" href=\"#\" onclick=\"$.termDicViewLink(18453,'view',this,0,72,80); return false;\">침구</a>, <a class=\"view_dic\" href=\"#\" onclick=\"$.termDicViewLink(18442,'view',this,0,72,80); return false;\">솔형</a>, <a class=\"view_dic\" href=\"#\" onclick=\"$.termDicViewLink(18436,'view',this,0,72,80); return false;\">틈새</a>, <a class=\"view_dic\" href=\"#\" onclick=\"$.termDicViewLink(27313,'view',this,0,72,80); return false;\">연장툴</a>, <a class=\"view_dic\" href=\"#\" onclick=\"$.termDicViewLink(30019,'view',this,0,72,80); return false;\">거치대</a> / <a class=\"view_dic\" href=\"#\" onclick=\"$.termDicViewLink(27312,'view',this,0,72,80); return false;\">무게</a>: <a class=\"view_dic\" href=\"#\" onclick=\"$.termDicViewLink(27312,'view',this,0,72,80); return false;\">1.5kg</a> / <a class=\"view_dic\" href=\"#\" onclick=\"$.termDicViewLink(14771,'view',this,0,72,80); return false;\">색상:화이트</a> / <a class=\"view_dic\" href=\"#\" onclick=\"$.termDicViewLink(1743,'view',this,0,72,80); return false;\">소비전력</a>: <a class=\"view_dic\" href=\"#\" onclick=\"$.termDicViewLink(1743,'view',this,0,72,80); return false;\">450W</a> </div>\n",
      "</dd>\n",
      "</dl>\n",
      "<div class=\"relation_goods_unit\" id=\"relation_goods_unit_9781572\"><dl class=\"unit_goods_list\"><dt class=\"title_unit\">관련용품▶</dt><dd class=\"unit_lists\"><a class=\"unit_link view_dic\" data-relationcode=\"10560216\" href=\"#\" onclick=\"return false;\">헤파필터</a><span class=\"ucomma\">,</span><a class=\"unit_link view_dic\" data-relationcode=\"10526325\" href=\"#\" onclick=\"return false;\">롤브러쉬</a></dd></dl></div>\n",
      "<div class=\"prod_sub_info\">\n",
      "<div class=\"prod_sub_meta\">\n",
      "<dl class=\"meta_item mt_date\">\n",
      "<dt>등록월</dt>\n",
      "<dd>2019.10</dd>\n",
      "</dl>\n",
      "<dl class=\"meta_item mt_comment\">\n",
      "<dt><span class=\"dt_behind\">상품의견</span></dt>\n",
      "<dd>\n",
      "<div class=\"cnt_star\">\n",
      "<div class=\"point_type_list\">\n",
      "<div class=\"mask\" style=\"width:92%\">\n",
      "</div>\n",
      "</div>\n",
      "<div class=\"point_num\">\n",
      "<strong>4.6</strong>점\n",
      "\t\t\t\t\t\t\t\t\t\t\t\t\t\t</div>\n",
      "</div>\n",
      "<div class=\"cnt_opinion\">\n",
      "\t\t\t\t\t\t\t\t\t\t\t\t\t\t(<a class=\"click_log_prod_content_count\" href=\"http://prod.danawa.com/info/?pcode=9781572&amp;keyword=무선청소기&amp;cate=103740#bookmark_cm_opinion\" onmousedown=\"_trkEventLog('통합검색_상품블로그_유입');\" target=\"_blank\"><strong>766</strong></a>건)\n",
      "\t\t\t\t\t\t\t\t\t\t\t\t\t</div>\n",
      "</dd>\n",
      "</dl>\n",
      "<dl class=\"meta_item\">\n",
      "<dt class=\"screen_out\">관심상품</dt>\n",
      "<dd>\n",
      "<a class=\"click_log_wishList\" href=\"#\" onclick=\"javascript:$.danawaAddProductToWishList(this, '9781572',' search', '', '', '147160');return false;\" onmousedown=\"doCTR('%EB%AC%B4%EC%84%A0%EC%B2%AD%EC%86%8C%EA%B8%B0','9781572',4);\" title=\"관심상품에 담기\">관심상품</a>\n",
      "</dd>\n",
      "<input id=\"wishListBundleVal_9781572\" type=\"hidden\" value=\"//샤오미 드리미 V10\"/>\n",
      "</dl>\n",
      "</div>\n",
      "<dl class=\"prod_category_location\">\n",
      "<dt class=\"screen_out\">상품분류</dt>\n",
      "<dd>\n",
      "<a href=\"http://prod.danawa.com/list/?cate=103740\" onmousedown=\"80\" target=\"doCTR('%EB%AC%B4%EC%84%A0%EC%B2%AD%EC%86%8C%EA%B8%B0',9781572,3);\"><span>생활가전</span> &gt; <span>청소기</span> &gt; <span>핸디/스틱</span></a> <div class=\"more_cate_layer\" style=\"display: none; z-index: 1;\">\n",
      "<ul class=\"list_category_location\">\n",
      "</ul>\n",
      "</div>\n",
      "</dd>\n",
      "</dl>\n",
      "</div>\n",
      "</div>\n",
      "<div class=\"prod_pricelist\" data-cate=\"72|80|81|0\">\n",
      "<ul>\n",
      "<li class=\"rank_one\" id=\"productInfoDetail_9781572\">\n",
      "<p class=\"chk_sect\">\n",
      "\t\t\t\t\t\t\t\t\t\t180몰\n",
      "\t\t\t\t\t\t\t\t\t\t\t\t\t\t\t\t\t\t\t\t\t<label for=\"prodCompareCheck_9781572\">\n",
      "<input id=\"prodCompareCheck_9781572\" type=\"checkbox\"/><strong>상품비교</strong>\n",
      "</label>\n",
      "<input name=\"compareValue\" type=\"hidden\" value=\"9781572\"/>\n",
      "<input name=\"compareRepValue\" type=\"hidden\" value=\"9781572\"/>\n",
      "</p>\n",
      "<p class=\"price_sect\">\n",
      "<a class=\"click_log_product_standard_price_\" href=\"http://prod.danawa.com/info/?pcode=9781572&amp;keyword=무선청소기&amp;cate=103740\" onmousedown=\"doCTR('%EB%AC%B4%EC%84%A0%EC%B2%AD%EC%86%8C%EA%B8%B0','9781572',1);; _trkEventLog('통합검색_상품블로그_유입'); \" target=\"_blank\">\n",
      "<strong>147,160</strong>원\t\t\t\t\t\t\t\t\t\t</a>\n",
      "<span class=\"more_btn_wrap\">\n",
      "<button class=\"ico i_more\">가격정보 더보기</button>\n",
      "<span class=\"layer_price_more\" id=\"layer_price_more_9781572\"></span>\n",
      "<span class=\"sep_line\"></span>\n",
      "</span>\n",
      "</p>\n",
      "<p class=\"memory_sect\">\n",
      "\t\t\t\t\t\t\t\t\t\t\t\t\t\t\t\t\t\t\t\t\t\t\t해외구매\t\t\t\t\t\t\t\t\t\t\t\t\t\t\t\t\t\t\t\t\t\t<a href=\"http://prod.danawa.com/info/?pcode=9781572&amp;keyword=무선청소기&amp;cate=103740\" onmousedown=\"doCTR('%EB%AC%B4%EC%84%A0%EC%B2%AD%EC%86%8C%EA%B8%B0','9781572',1);\" target=\"_blank\">\n",
      "</a>\n",
      "</p>\n",
      "</li>\n",
      "</ul>\n",
      "</div>\n",
      "</div>\n",
      "</li>\n"
     ]
    }
   ],
   "source": [
    "# 첫 번째 데이터 확인\n",
    "prod_item = soup.select('#productListArea > div.main_prodlist.main_prodlist_list > ul > li')[0]\n",
    "print(prod_item)"
   ]
  },
  {
   "cell_type": "code",
   "execution_count": 32,
   "metadata": {},
   "outputs": [
    {
     "name": "stdout",
     "output_type": "stream",
     "text": [
      "\n",
      "샤오미 드리미 V10\n",
      "\n",
      "\n",
      "샤오미 드리미 V10\n",
      "\n"
     ]
    }
   ],
   "source": [
    "#제품명\n",
    "name = prod_item.select('p.prod_name')[0].text\n",
    "print(name)"
   ]
  },
  {
   "cell_type": "code",
   "execution_count": 11,
   "metadata": {},
   "outputs": [
    {
     "name": "stdout",
     "output_type": "stream",
     "text": [
      "2019.10\n"
     ]
    }
   ],
   "source": [
    "#등록월\n",
    "date = prod_item.select('dl.meta_item.mt_date > dd')[0].text\n",
    "print(date)"
   ]
  },
  {
   "cell_type": "code",
   "execution_count": 16,
   "metadata": {},
   "outputs": [
    {
     "name": "stdout",
     "output_type": "stream",
     "text": [
      "147,160\n"
     ]
    }
   ],
   "source": [
    "# 가격\n",
    "price = prod_item.select('p.price_sect strong')[0].text\n",
    "print(price)"
   ]
  },
  {
   "cell_type": "code",
   "execution_count": 18,
   "metadata": {},
   "outputs": [
    {
     "name": "stdout",
     "output_type": "stream",
     "text": [
      "핸디/스틱청소기 / 핸디+스틱형 / 무선형 / 전압: 25.2V / 헤파필터 / H12급 / 5단계여과 / 흡입력: 140AW / 흡입력: 22000Pa / 먼지통용량: 0.5L / 충전시간: 3시간30분 / 사용시간: 1시간 / 용량: 2500mAh / 구성: 바닥, 침구, 솔형, 틈새, 연장툴, 거치대 / 무게: 1.5kg / 색상:화이트 / 소비전력: 450W \n"
     ]
    }
   ],
   "source": [
    "# 스펙\n",
    "spec = prod_item.select('div.spec_list')[0].text\n",
    "print(spec)"
   ]
  },
  {
   "cell_type": "code",
   "execution_count": 33,
   "metadata": {},
   "outputs": [
    {
     "name": "stdout",
     "output_type": "stream",
     "text": [
      "[['\\n샤오미 드리미 V10\\n', '2019.10', '147,160', '핸디/스틱청소기 / 핸디+스틱형 / 무선형 / 전압: 25.2V / 헤파필터 / H12급 / 5단계여과 / 흡입력: 140AW / 흡입력: 22000Pa / 먼지통용량: 0.5L / 충전시간: 3시간30분 / 사용시간: 1시간 / 용량: 2500mAh / 구성: 바닥, 침구, 솔형, 틈새, 연장툴, 거치대 / 무게: 1.5kg / 색상:화이트 / 소비전력: 450W '], ['\\nLG전자 코드제로 ThinQ A9S A9700\\n', '2020.03', '960,260', '핸디/스틱청소기 / 핸디+스틱형 / 무선형 / 헤파필터 / 2중터보싸이클론 / 5단계여과 / 인버터모터 / 흡입력: 200W / 충전시간: 4시간 / 사용시간: 2시간 / 배터리: 리튬이온 (2개) / 구성: 바닥, 물걸레, 침구, 솔형, 굳은먼지, 상부청소, 틈새, 긴틈새, 매트리스, 연장툴, 거치대 / 자동물공급 / 디스플레이표시창 / 배터리잔량표시 / WiFi / 색상:판타지실버 / 소비전력: 590W / 미세먼지인증(SLG) / 크기(가로x세로x깊이): 250x1120x260mm\\t\\t\\t\\t\\t\\t\\t\\t'], ['\\n샤오미 CLEANFLY 차량용 무선 청소기 3세대 (해외구매)\\n', '2020.02', '49,900', '차량용청소기 / 무선 / 흡입력: 16,800Pa / 최대출력: 120W / 헤파필터 / 추가노즐: 틈새, 솔브러쉬, 연장호스 / 사용시간: 25분 / 크기 : 369x72mm / 무게 : 560g\\t\\t\\t\\t\\t\\t\\t\\t'], ['\\n삼성전자 제트 VS15R8500BF\\n', '2020.10', '387,310', '핸디/스틱청소기 / 핸디+스틱형 / 무선형 / 전압: 21.6V / 헤파필터 / 싸이클론 / 5단계여과 / 인버터모터 / 흡입력: 150W / 먼지통용량: 0.5L / 충전시간: 3시간30분 / 사용시간: 40분 / 배터리: 리튬이온 / 구성: 바닥, 솔형, 틈새, 거치대 / 디스플레이표시창 / 프리볼트 / 무게: 2.57kg / 색상:틸민트 / 소비전력: 410W / 알레르기인증(BAF) / 미세먼지인증(SLG) / 크기(가로x세로x깊이): 250x1123x215mm\\t\\t\\t\\t\\t\\t\\t\\t'], ['\\nLG전자 코드제로 ThinQ A9S A9570\\n', '2020.04', '879,710', '핸디/스틱청소기 / 핸디+스틱형 / 무선형 / 헤파필터 / 2중터보싸이클론 / 5단계여과 / 인버터모터 / 흡입력: 200W / 충전시간: 4시간 / 사용시간: 2시간 / 배터리: 리튬이온 (2개) / 구성: 바닥, 물걸레, 침구, 솔형, 굳은먼지, 틈새, 매트리스, 거치대 / 자동물공급 / 디스플레이표시창 / 배터리잔량표시 / WiFi / 색상:판타지실버 / 소비전력: 590W / 미세먼지인증(SLG) / 크기(가로x세로x깊이): 250x1120x260mm\\t\\t\\t\\t\\t\\t\\t\\t'], ['\\nFQwsLzckeD\\n', '', '651177', '\\n\\t\\t\\t\\t\\t\\t\\t\\tFQwsLzckeD651177\\n\\t\\t\\t\\t\\t\\t\\t'], ['\\n다이슨 V8 플러피\\n', '2019.05', '426,910', '핸디/스틱청소기 / 핸디+스틱형 / 무선형 / 전압: 21.6V / 싸이클론 / 흡입력: 155AW / 충전시간: 5시간 / 사용시간: 40분 / 배터리: 리튬이온 / 구성: 소프트롤러, 미니모터, 솔형, 더스팅, 틈새, 매트리스, 연장툴, 도킹스테이션 / 무게: 2.58kg / 소비전력: 485W / 크기(가로x세로x깊이): 250x1264x224mm\\t\\t\\t\\t\\t\\t\\t\\t'], ['\\n삼성전자 제트 VS20T9258SDCS\\n', '2020.09', '848,990', '핸디/스틱청소기 / 핸디+스틱형 / 무선형 / 전압: 21.6V / 헤파필터 / 싸이클론 / 5단계여과 / 인버터모터 / 흡입력: 200W / 먼지통용량: 0.5L / 충전시간: 3시간30분 / 사용시간: 2시간 / 배터리: 리튬이온 (2개) / 구성: 바닥, 물걸레, 침구, 솔형, 틈새, 연장툴, 거치대 / 디스플레이표시창 / 프리볼트 / 무게: 2.64kg / 색상:티탄+그레이 / 소비전력: 550W / 알레르기인증(BAF) / 미세먼지인증(SLG) / 크기(가로x세로x깊이): 250x1123x215mm / [VCA-SAE90A] 청정스테이션 / 색상: 블랙 / 크기(가로x세로x깊이): 185x600x180mm\\t\\t\\t\\t\\t\\t\\t\\t'], ['\\nLG전자 코드제로 A9 A9100\\n', '2020.11', '513,770', '핸디/스틱청소기 / 핸디+스틱형 / 무선형 / 헤파필터 / 2중터보싸이클론 / 5단계여과 / 인버터모터 / 충전시간: 3시간30분 / 사용시간: 40분 / 배터리: 리튬이온 / 구성: 바닥, 솔형, 틈새, 거치대 / 배터리잔량표시 / 색상:판타지실버 / 소비전력: 450W / 알레르기인증(BAF) / 미세먼지인증(SLG) / 크기(가로x세로x깊이): 250x1120x260mm\\t\\t\\t\\t\\t\\t\\t\\t'], ['\\n샤오미 드리미 V11\\n', '2020.06', '254,310', '핸디/스틱청소기 / 핸디+스틱형 / 무선형 / 전압: 25.2V / 멀티싸이클론 / 5단계여과 / BLDC모터 / 흡입력: 150AW / 흡입력: 25000Pa / 먼지통용량: 0.5L / 충전시간: 4시간 / 사용시간: 1시간30분 / 용량: 3000mAh / 구성: 바닥, 침구, 솔형, 틈새, 연장툴, 거치대 / 디스플레이표시창 / 무게: 1.6kg / 색상:레드 / 소비전력: 450W / 크기(가로x세로): 202x1221mm\\t\\t\\t\\t\\t\\t\\t\\t'], ['\\n일렉트로룩스 WELL Q6 WQ61-1OGG\\n', '2020.09', '166,980', '핸디/스틱청소기 / 핸디+스틱형 / 무선형 / 전압: 18V / 싸이클론 / 5단계여과 / 먼지통용량: 0.3L / 충전시간: 4시간30분 / 사용시간: 45분 / 배터리: 리튬이온 / 구성: 바닥, 솔형, 틈새, 거치대 / 브러쉬자동청소 / 셀프스탠딩 / LED라이트 / 배터리잔량표시 / 무게: 2.65kg / 색상:그라나이트그레이 / 크기(가로x세로x깊이): 386x692x146mm\\t\\t\\t\\t\\t\\t\\t\\t'], ['\\n삼성전자 제트 VS20T9257SECS\\n', '2020.09', '746,680', '핸디/스틱청소기 / 핸디+스틱형 / 무선형 / 전압: 21.6V / 헤파필터 / 싸이클론 / 5단계여과 / 인버터모터 / 흡입력: 200W / 먼지통용량: 0.5L / 충전시간: 3시간30분 / 사용시간: 2시간 / 배터리: 리튬이온 (2개) / 구성: 바닥, 물걸레, 솔형, 틈새, 연장툴, 거치대 / 디스플레이표시창 / 프리볼트 / 무게: 2.64kg / 색상:티탄+민트 / 소비전력: 550W / 알레르기인증(BAF) / 미세먼지인증(SLG) / 크기(가로x세로x깊이): 250x1123x215mm / [VCA-SAE90A] 청정스테이션 / 색상: 블랙 / 크기(가로x세로x깊이): 185x600x180mm\\t\\t\\t\\t\\t\\t\\t\\t'], ['\\n다이슨 V10 카본파이버\\n', '2018.09', '588,550', '핸디/스틱청소기 / 핸디+스틱형 / 무선형 / 전압: 25.2V / 싸이클론 / 흡입력: 160AW / 충전시간: 3시간30분 / 사용시간: 1시간 / 배터리: 리튬이온 / 구성: 소프트롤러, 토크드라이브, 미니모터, 솔형, 더스팅, 틈새, 긴틈새, 연장툴, 도킹스테이션 / 무게: 2.5kg / 소비전력: 525W / 크기(가로x세로x깊이): 250x1241x256mm\\t\\t\\t\\t\\t\\t\\t\\t'], ['\\n삼성전자 제트 VS20T9213QDCSP\\n', '2020.12', '716,040', '핸디/스틱청소기 / 핸디+스틱형 / 무선형 / 전압: 21.6V / 헤파필터 / 싸이클론 / 5단계여과 / 인버터모터 / 흡입력: 200W / 먼지통용량: 0.5L / 충전시간: 3시간30분 / 사용시간: 1시간 / 배터리: 리튬이온 (2개) / 구성: 바닥, 솔형, 틈새, 거치대 / 디스플레이표시창 / 프리볼트 / 무게: 2.64kg / 색상:티탄+그레이 / 소비전력: 550W / 알레르기인증(BAF) / 미세먼지인증(SLG) / 크기(가로x세로x깊이): 250x1123x215mm / [VCA-SAE90A] 청정스테이션 / 색상: 블랙 / 크기(가로x세로x깊이): 185x600x180mm\\t\\t\\t\\t\\t\\t\\t\\t'], ['\\n다이슨 디지털 슬림 플러피+\\n', '2020.07', '691,360', '핸디/스틱청소기 / 핸디+스틱형 / 무선형 / 싸이클론 / 5단계여과 / 흡입력: 100AW / 먼지통용량: 0.3L / 충전시간: 3시간30분 / 사용시간: 40분 / 구성: 슬림소프트롤러, 미니모터, 솔형, 스터번더트, 틈새, 매트리스, 연장툴, 거치대, 도킹스테이션 / 디스플레이표시창 / 무게: 1.9kg / 색상:오렌지 / 크기(가로x세로x깊이): 250x1100x250mm\\t\\t\\t\\t\\t\\t\\t\\t'], ['\\nLG전자 코드제로 ThinQ A9S A9470\\n', '2020.05', '1,006,830', '핸디/스틱청소기 / 핸디+스틱형 / 무선형 / 헤파필터 / 2중터보싸이클론 / 5단계여과 / 인버터모터 / 충전시간: 4시간 / 사용시간: 2시간 / 배터리: 리튬이온 (2개) / 구성: 바닥, 물걸레, 솔형, 틈새, 거치대 / 자동물공급 / 디스플레이표시창 / 배터리잔량표시 / WiFi / 색상:아이언그레이 / 소비전력: 590W / 미세먼지인증(SLG) / 크기(가로x세로x깊이): 250x1120x260mm\\t\\t\\t\\t\\t\\t\\t\\t'], ['\\nLG전자 코드제로 ThinQ A9S A9500\\n', '2020.05', '820,010', '핸디/스틱청소기 / 핸디+스틱형 / 무선형 / 헤파필터 / 2중터보싸이클론 / 5단계여과 / 인버터모터 / 흡입력: 200W / 충전시간: 4시간 / 사용시간: 2시간 / 배터리: 리튬이온 (2개) / 구성: 바닥, 침구, 솔형, 굳은먼지, 틈새, 매트리스, 거치대 / 디스플레이표시창 / 배터리잔량표시 / WiFi / 색상:아이언그레이 / 소비전력: 590W / 미세먼지인증(SLG) / 크기(가로x세로x깊이): 250x1120x260mm\\t\\t\\t\\t\\t\\t\\t\\t'], ['\\n다이슨 V11 컴플리트\\n', '2019.04', '799,700', '핸디/스틱청소기 / 핸디+스틱형 / 무선형 / 싸이클론 / 흡입력: 185AW / 먼지통용량: 0.54L / 충전시간: 4시간30분 / 사용시간: 1시간 / 구성: 하이토크, 소프트롤러, 미니모터, 솔형, 더스팅, 스터번더트, 틈새, 매트리스, 거치대, 도킹스테이션 / 디스플레이표시창 / 무게: 2.95kg / 색상:니켈블루 / 크기(가로x세로x깊이): 250x1280x261mm\\t\\t\\t\\t\\t\\t\\t\\t'], ['\\n샤오미 SHUNZAO 차량용 무선청소기 2세대 Z1 PRO (해외구매)\\n', '2019.10', '42,140', '차량용청소기 / 무선 / 흡입력: 12,000Pa / 최대출력: 120W / 2중필터 / 추가노즐: 틈새, 솔브러쉬 / LED라이트 / 사용시간: 30분 / 충전시간: 2시간30분 / 충전방식: USB C타입 / 크기: 73x76x336mm / 무게: 610g\\t\\t\\t\\t\\t\\t\\t\\t'], ['\\n다이슨 옴니 글라이드 컴플리트+\\n', '2020.10', '558,480', '핸디/스틱청소기 / 핸디+스틱형 / 무선형 / 싸이클론 / 5단계여과 / 흡입력: 50AW / 먼지통용량: 0.2L / 충전시간: 3시간30분 / 사용시간: 20분 / 배터리: 리튬이온 / 구성: 전방향플러피, 미니모터, 솔형, 틈새, 서페이스, 연장툴, 거치대, 도킹스테이션 / 무게: 1.9kg / 색상:퍼플 / 크기(가로x세로x깊이): 208x1077x92mm\\t\\t\\t\\t\\t\\t\\t\\t'], ['\\n일렉트로룩스 PURE Q9 PQ91-3EM\\n', '2019.09', '334,960', '핸디/스틱청소기 / 핸디+스틱형 / 무선형 / 전압: 25.2V / 싸이클론 / 5단계여과 / 먼지통용량: 0.3L / 충전시간: 4시간 / 사용시간: 55분 / 배터리: 리튬이온 / 구성: 바닥, 솔형, 틈새, 긴틈새, 거치대 / 브러쉬자동청소 / 셀프스탠딩 / LED라이트 / 무게: 2.75kg / 색상:마호가니브론즈 / 크기(가로x세로x깊이): 256x1100x130mm\\t\\t\\t\\t\\t\\t\\t\\t'], ['\\n다이슨 옴니 글라이드+\\n', '2020.10', '482,290', '핸디/스틱청소기 / 핸디+스틱형 / 무선형 / 싸이클론 / 5단계여과 / 흡입력: 50AW / 먼지통용량: 0.2L / 충전시간: 3시간30분 / 사용시간: 20분 / 배터리: 리튬이온 / 구성: 전방향플러피, 미니모터, 솔형, 틈새, 서페이스, 도킹스테이션 / 무게: 1.9kg / 색상:골드 / 크기(가로x세로x깊이): 208x1077x92mm\\t\\t\\t\\t\\t\\t\\t\\t'], ['\\n삼성전자 제트 VS20T9213QDCSW\\n', '2020.10', '755,540', '핸디/스틱청소기 / 핸디+스틱형 / 무선형 / 전압: 21.6V / 헤파필터 / 싸이클론 / 5단계여과 / 인버터모터 / 흡입력: 200W / 먼지통용량: 0.5L / 충전시간: 3시간30분 / 사용시간: 1시간 / 배터리: 리튬이온 / 구성: 바닥, 물걸레, 솔형, 틈새, 거치대 / 디스플레이표시창 / 프리볼트 / 무게: 2.64kg / 색상:티탄+그레이 / 소비전력: 550W / 알레르기인증(BAF) / 미세먼지인증(SLG) / 크기(가로x세로x깊이): 250x1123x215mm / [VCA-SAE90A] 청정스테이션 / 색상: 블랙 / 크기(가로x세로x깊이): 185x600x180mm\\t\\t\\t\\t\\t\\t\\t\\t'], ['\\nLG전자 코드제로 A9S A9300\\n', '2020.05', '696,350', '핸디/스틱청소기 / 핸디+스틱형 / 무선형 / 헤파필터 / 2중터보싸이클론 / 5단계여과 / 인버터모터 / 흡입력: 200W / 충전시간: 4시간 / 사용시간: 1시간 / 배터리: 리튬이온 / 구성: 바닥, 솔형, 굳은먼지, 틈새, 매트리스, 거치대 / 디스플레이표시창 / 배터리잔량표시 / WiFi / 색상:아이언그레이 / 소비전력: 590W / 미세먼지인증(SLG) / 크기(가로x세로x깊이): 250x1120x260mm\\t\\t\\t\\t\\t\\t\\t\\t'], ['\\nLG전자 코드제로 ThinQ A9S A9400\\n', '2020.05', '793,440', '핸디/스틱청소기 / 핸디+스틱형 / 무선형 / 헤파필터 / 2중터보싸이클론 / 5단계여과 / 인버터모터 / 흡입력: 200W / 충전시간: 4시간 / 사용시간: 2시간 / 배터리: 리튬이온 (2개) / 구성: 바닥, 솔형, 굳은먼지, 틈새, 매트리스, 거치대 / 디스플레이표시창 / 배터리잔량표시 / WiFi / 색상:판타지실버 / 소비전력: 590W / 미세먼지인증(SLG) / 크기(가로x세로x깊이): 250x1120x260mm\\t\\t\\t\\t\\t\\t\\t\\t'], ['\\n샤오미 SHUNZAO Z11\\n', '2020.01', '159,000', '핸디/스틱청소기 / 핸디+스틱형 / 무선형 / 전압: 25.2V / 헤파필터 / 싸이클론 / 5단계여과 / 흡입력: 150AW / 흡입력: 26000Pa / 먼지통용량: 0.5L / 충전시간: 3시간 / 사용시간: 1시간 / 배터리: 리튬이온 / 용량: 2500mAh / 구성: 바닥, 침구, 솔형, 틈새, 연장툴, 거치대 / 디스플레이표시창 / 배터리잔량표시 / 색상:화이트 '], ['\\n휴스톰 HS-10000\\n', '2019.03', '137,240', '물걸레청소기 / 스틱형 / 회전식 / 무선형 / 전압: 14.6V / 충전시간: 2시간30분 / 사용시간: 30분 / 배터리: 리튬이온 / 용량: 2750mAh / LED라이트 / 가구손상방지 / 각도조절 / 셀프스탠딩 / 배터리잔량표시 / 프리볼트 / 무게: 3.7kg / 색상:블랙 / 모터과열방지 / 과충전방지 / 오토스토핑 / 패드: 극세사(벨크로형) / 크기(가로x세로x깊이): 410x1180x205mm\\t\\t\\t\\t\\t\\t\\t\\t'], ['\\nDIBEA TSX-25000A\\n', '2019.12', '190,890', '핸디/스틱청소기 / 핸디+스틱형 / 무선형 / 전압: 29.6V / 헤파필터 / H13급 / 싸이클론 / BLDC모터 / 흡입력: 25000Pa / 먼지통용량: 0.5L / 충전시간: 2시간 / 사용시간: 45분 / 배터리: 리튬이온 / 용량: 2000mAh / 구성: 바닥, 침구, 솔형, 틈새, 연장툴, 거치대 / LED라이트 / 무게: 1.35kg / 색상:블랙 / 소비전력: 400W / 크기(가로x세로x깊이): 256x1172x217xmm\\t\\t\\t\\t\\t\\t\\t\\t'], ['\\n신일산업 SVC-D900RK\\n', '2020.03', '27,950', '핸디/스틱청소기 / 핸디형 / 무선형 / 전압: 7.5V / 먼지통용량: 0.4L / 물통용량: 0.1L / 충전시간: 6시간30분 / 사용시간: 15분 / 용량: 300mAh / 구성: 틈새 / 프리볼트 / 무게: 1kg / 색상:화이트 / 소비전력: 40W / 건습식 / 크기(가로x세로x깊이): 137x405x144mm\\t\\t\\t\\t\\t\\t\\t\\t'], ['\\n일렉트로룩스 WELL Q7 WQ71-2OIB\\n', '2020.09', '237,550', '핸디/스틱청소기 / 핸디+스틱형 / 무선형 / 전압: 21.6V / 싸이클론 / 5단계여과 / 먼지통용량: 0.3L / 충전시간: 4시간30분 / 사용시간: 50분 / 배터리: 리튬이온 / 구성: 바닥, 솔형, 더스팅, 틈새, 거치대 / 브러쉬자동청소 / 셀프스탠딩 / LED라이트 / 배터리잔량표시 / 무게: 2.8kg / 색상:인디고블루 / 크기(가로x세로x깊이): 386x692x140mm\\t\\t\\t\\t\\t\\t\\t\\t'], ['\\n삼성전자 VC-H22\\n', '2018.07', '29,130', '핸디/스틱청소기 / 핸디형 / 무선형 / 충전시간: 8시간 / 사용시간: 10분 / 배터리: 니켈수소 / 무게: 0.76kg / 소비전력: 48W / 크기(가로x세로x깊이): 103x317x174mm\\t\\t\\t\\t\\t\\t\\t\\t'], ['\\n일렉트로룩스 PURE Q9 PQ92-3OBF\\n', '2020.05', '314,840', '핸디/스틱청소기 / 핸디+스틱형 / 무선형 / 전압: 25.2V / 싸이클론 / 5단계여과 / 먼지통용량: 0.3L / 충전시간: 4시간 / 사용시간: 53분 / 배터리: 리튬이온 / 구성: 바닥, 솔형, 더스팅, 틈새, 거치대 / 셀프스탠딩 / LED라이트 / 배터리잔량표시 / 무게: 2.89kg / 색상:인디고블루 / 크기(가로x세로x깊이): 256x1097x155mm\\t\\t\\t\\t\\t\\t\\t\\t'], ['\\n삼성전자 제트 VS15R8543S1CW\\n', '2020.03', '487,490', '핸디/스틱청소기 / 핸디+스틱형 / 무선형 / 전압: 21.6V / 헤파필터 / 싸이클론 / 5단계여과 / 인버터모터 / 흡입력: 150W / 먼지통용량: 0.5L / 충전시간: 3시간30분 / 사용시간: 40분 / 배터리: 리튬이온 / 구성: 바닥, 솔형, 틈새, 연장툴, 거치대 / 디스플레이표시창 / 프리볼트 / 무게: 2.57kg / 색상:틸민트 / 소비전력: 410W / 알레르기인증(BAF) / 미세먼지인증(SLG) / 크기(가로x세로x깊이): 250x1123x215mm / [VCA-SAE90A] 청정스테이션 / 색상: 화이트 / 크기(가로x세로x깊이): 185x600x180mm\\t\\t\\t\\t\\t\\t\\t\\t'], ['\\n샤오미 드리미 V9\\n', '2019.02', '286,080', '핸디/스틱청소기 / 핸디+스틱형 / 무선형 / 전압: 25.2V / 헤파필터 / 싸이클론 / 5단계여과 / 흡입력: 120AW / 흡입력: 20000Pa / 먼지통용량: 0.5L / 충전시간: 3시간30분 / 사용시간: 60분 / 용량: 2500mAh / 구성: 바닥, 침구, 솔형, 틈새, 연장툴, 거치대 / 무게: 1.5kg / 색상:화이트 / 소비전력: 400W '], ['\\nLG전자 코드제로 A9S A9370\\n', '2020.06', '704,220', '핸디/스틱청소기 / 핸디+스틱형 / 무선형 / 헤파필터 / 2중터보싸이클론 / 5단계여과 / 인버터모터 / 충전시간: 4시간 / 사용시간: 1시간 / 배터리: 리튬이온 / 구성: 바닥, 물걸레, 솔형, 틈새, 거치대 / 자동물공급 / 디스플레이표시창 / 배터리잔량표시 / WiFi / 색상:아이언그레이 / 소비전력: 590W / 미세먼지인증(SLG) / 크기(가로x세로x깊이): 250x1120x260mm\\t\\t\\t\\t\\t\\t\\t\\t'], ['\\n샤오미 미지아 차량용 핸디 무선 청소기 (해외구매)\\n', '2020.09', '33,520', '차량용청소기 / 무선 / 흡입력: 13,000Pa / 최대출력: 120W / 헤파필터 / 추가노즐: 틈새, 솔브러쉬 / 사용시간: 9~30분 / 버튼 잠금 장치 / 2단 세기 조절 / 크기: 55x267mm / 무게: 500g\\t\\t\\t\\t\\t\\t\\t\\t'], ['\\n삼성전자 제트 VS20R9078S2\\n', '2019.02', '673,490', '핸디/스틱청소기 / 핸디+스틱형 / 무선형 / 전압: 21.9V / 헤파필터 / 싸이클론 / 5단계여과 / 인버터모터 / 흡입력: 200W / 먼지통용량: 0.5L / 충전시간: 3시간30분 / 사용시간: 2시간 / 배터리: 리튬이온 (2개) / 구성: 바닥, 물걸레, 침구, 솔형, 틈새, 연장툴, 거치대 / 물걸레 / 디스플레이표시창 / 프리볼트 / 무게: 2.7kg / 색상:티탄+블루 / 소비전력: 550W / 알레르기인증(BAF) / 미세먼지인증(SLG) / 크기(가로x세로x깊이): 250x1136x215mm\\t\\t\\t\\t\\t\\t\\t\\t'], ['\\n샤오미 SWDK-D260\\n', '2017.08', '104,710', '물걸레청소기 / 스틱형 / 왕복식 / 무선형 / 전압: 12.6V / 충전시간: 3시간 / 사용시간: 50분 / 배터리: 리튬이온 / 용량: 2000mAh / 물분사 / LED라이트 / 프리볼트 / 무게: 2.4kg / 색상:화이트 / 110V / 변환어댑터: 필요\\t\\t\\t\\t\\t\\t\\t\\t'], ['\\n다이슨 V8 카본파이버\\n', '2017.09', '460,560', '핸디/스틱청소기 / 핸디+스틱형 / 무선형 / 싸이클론 / 흡입력: 155W / 충전시간: 5시간 / 사용시간: 40분 / 배터리: 리튬이온 / 구성: 소프트롤러, 다이렉트드라이브, 미니모터, 솔형, 더스팅, 틈새, 긴틈새, 매트리스, 연장툴, 업탑어댑터, 도킹스테이션 / 무게: 2.63kg / 소비전력: 485W / 크기(가로x세로x깊이): 250x1244x210mm\\t\\t\\t\\t\\t\\t\\t\\t'], ['\\n샤오미 TROUVER TECH SOLO10\\n', '2020.11', '94,760', '핸디/스틱청소기 / 핸디+스틱형 / 무선형 / 전압: 21.6V / 5단계여과 / BLDC모터 / 흡입력: 85AW / 흡입력: 18000Pa / 먼지통용량: 0.4L / 충전시간: 3시간30분 / 사용시간: 48분 / 용량: 2000mAh / 구성: 바닥, 솔형, 틈새 / 디스플레이표시창 / 배터리잔량표시 / 무게: 1.4kg / 색상:화이트+레드 / 소비전력: 300W '], ['\\n일렉트로룩스 라피도 ZB6114\\n', '2017.05', '77,130', '핸디/스틱청소기 / 핸디형 / 무선형 / 전압: 14.4V / 싸이클론 / 3단계여과 / 충전시간: 4시간 / 사용시간: 24분 / 배터리: 리튬이온 / 구성: 거치대 / 무게: 1.13kg / 색상:텅스텐메탈릭 / 5단계각도조절 / 바퀴 / 크기(가로x세로x깊이): 124x410x137mm\\t\\t\\t\\t\\t\\t\\t\\t']]\n"
     ]
    }
   ],
   "source": [
    "# 모든 리스트 불러오기\n",
    "prod_item = soup.select('#productListArea > div.main_prodlist.main_prodlist_list > ul > li')\n",
    "data = []\n",
    "\n",
    "for i in prod_item:\n",
    "    try: \n",
    "        name = i.select('p.prod_name')[0].text\n",
    "    except:\n",
    "        name = ''\n",
    "    try: \n",
    "        date = i.select('dl.meta_item.mt_date > dd')[0].text\n",
    "    except:\n",
    "        date = ''\n",
    "    try: \n",
    "        price = i.select('p.price_sect strong')[0].text\n",
    "    except:\n",
    "        price = ''\n",
    "    try: \n",
    "        spec = i.select('div.spec_list')[0].text\n",
    "    except:\n",
    "        spec = ''\n",
    "    data.append([name,date,price,spec])\n",
    "print(data)"
   ]
  },
  {
   "cell_type": "markdown",
   "metadata": {},
   "source": [
    "### 1-2. 한 페이지 내의 모든 데이터 가져오기"
   ]
  },
  {
   "cell_type": "code",
   "execution_count": 4,
   "metadata": {},
   "outputs": [
    {
     "name": "stdout",
     "output_type": "stream",
     "text": [
      "<li class=\"prod_item\" id=\"productItem9781572\">\n",
      "<input id=\"productItem_categoryInfo_9781572\" type=\"hidden\" value=\"생활가전_청소기\"/>\n",
      "<input id=\"min_price_9781572\" type=\"hidden\" value=\"147160\"/>\n",
      "<div class=\"prod_main_info\">\n",
      "<div class=\"thumb_image\">\n",
      "<a class=\"thumb_link\" href=\"http://prod.danawa.com/info/?pcode=9781572&amp;keyword=무선청소기&amp;cate=103740\" id=\"thumbLink_9781572\" onmousedown=\"_trkEventLog('통합검색_상품블로그_유입');\" target=\"_blank\">\n",
      "<img alt=\"V10\" class=\"click_log_product_standard_img_\" src=\"http://img.danawa.com/prod_img/500000/572/781/img/9781572_1.jpg?shrink=160:160&amp;_v=20210110210436\"/>\n",
      "</a>\n",
      "<a class=\"btn_view_zoom\" data-assemblygallerycategory=\"N\" href=\"#\" id=\"imageZoom_9781572\" onclick=\"return false;\">\n",
      "<span class=\"ico i_zoom_vw\"></span>이미지보기\n",
      "\t\t\t\t\t\t\t</a>\n",
      "<input id=\"hidden_cate_sub_c1\" type=\"hidden\" value=\"72\"/>\n",
      "<input id=\"hidden_cate_sub_c2\" type=\"hidden\" value=\"80\"/>\n",
      "<input id=\"hidden_cate_sub_c3\" type=\"hidden\" value=\"81\"/>\n",
      "</div>\n",
      "<div class=\"prod_info\">\n",
      "<p class=\"prod_name\">\n",
      "<a class=\"click_log_product_standard_title_\" href=\"http://prod.danawa.com/info/?pcode=9781572&amp;keyword=무선청소기&amp;cate=103740\" onmousedown=\"_trkEventLog('통합검색_상품블로그_유입'); doCTR('%EB%AC%B4%EC%84%A0%EC%B2%AD%EC%86%8C%EA%B8%B0','9781572',1);\" target=\"_blank\">샤오미 드리미 V10</a>\n",
      "</p>\n",
      "<dl class=\"prod_spec_set\">\n",
      "<dt class=\"screen_out\">상세 스펙</dt>\n",
      "<dd>\n",
      "<div class=\"spec_list\"><a class=\"view_dic\" href=\"#\" onclick=\"$.termDicViewLink(8501,'view',this,0,72,80); return false;\">핸디/스틱<b>청소기</b></a> / <a class=\"view_dic\" href=\"#\" onclick=\"$.termDicViewLink(7445,'view',this,0,72,80); return false;\">핸디+스틱형</a> / <a class=\"view_dic\" href=\"#\" onclick=\"$.termDicViewLink(14900,'view',this,0,72,80); return false;\">무선형</a> / <a class=\"view_dic\" href=\"#\" onclick=\"$.termDicViewLink(213565,'view',this,0,72,80); return false;\">전압</a>: <a class=\"view_dic\" href=\"#\" onclick=\"$.termDicViewLink(213565,'view',this,0,72,80); return false;\">25.2V</a> / <a class=\"view_dic\" href=\"#\" onclick=\"$.termDicViewLink(14801,'view',this,0,72,80); return false;\">헤파필터</a> / <a class=\"view_dic\" href=\"#\" onclick=\"$.termDicViewLink(14801,'view',this,0,72,80); return false;\">H12급</a> / <a class=\"view_dic\" href=\"#\" onclick=\"$.termDicViewLink(30024,'view',this,0,72,80); return false;\">5단계여과</a> / <a class=\"view_dic\" href=\"#\" onclick=\"$.termDicViewLink(3996,'view',this,0,72,80); return false;\">흡입력</a>: <a class=\"view_dic\" href=\"#\" onclick=\"$.termDicViewLink(3996,'view',this,0,72,80); return false;\">140AW</a> / <a class=\"view_dic\" href=\"#\" onclick=\"$.termDicViewLink(3996,'view',this,0,72,80); return false;\">흡입력</a>: <a class=\"view_dic\" href=\"#\" onclick=\"$.termDicViewLink(3996,'view',this,0,72,80); return false;\">22000Pa</a> / <a class=\"view_dic\" href=\"#\" onclick=\"$.termDicViewLink(214653,'view',this,0,72,80); return false;\">먼지통용량</a>: <a class=\"view_dic\" href=\"#\" onclick=\"$.termDicViewLink(214653,'view',this,0,72,80); return false;\">0.5L</a> / <a class=\"view_dic\" href=\"#\" onclick=\"$.termDicViewLink(14921,'view',this,0,72,80); return false;\">충전시간</a>: <a class=\"view_dic\" href=\"#\" onclick=\"$.termDicViewLink(14921,'view',this,0,72,80); return false;\">3시간30분</a> / <a class=\"view_dic\" href=\"#\" onclick=\"$.termDicViewLink(8515,'view',this,0,72,80); return false;\">사용시간</a>: <a class=\"view_dic\" href=\"#\" onclick=\"$.termDicViewLink(8515,'view',this,0,72,80); return false;\">1시간</a> / <a class=\"view_dic\" href=\"#\" onclick=\"$.termDicViewLink(214659,'view',this,0,72,80); return false;\">용량</a>: <a class=\"view_dic\" href=\"#\" onclick=\"$.termDicViewLink(214659,'view',this,0,72,80); return false;\">2500mAh</a> / 구성: <a class=\"view_dic\" href=\"#\" onclick=\"$.termDicViewLink(18333,'view',this,0,72,80); return false;\">바닥</a>, <a class=\"view_dic\" href=\"#\" onclick=\"$.termDicViewLink(18453,'view',this,0,72,80); return false;\">침구</a>, <a class=\"view_dic\" href=\"#\" onclick=\"$.termDicViewLink(18442,'view',this,0,72,80); return false;\">솔형</a>, <a class=\"view_dic\" href=\"#\" onclick=\"$.termDicViewLink(18436,'view',this,0,72,80); return false;\">틈새</a>, <a class=\"view_dic\" href=\"#\" onclick=\"$.termDicViewLink(27313,'view',this,0,72,80); return false;\">연장툴</a>, <a class=\"view_dic\" href=\"#\" onclick=\"$.termDicViewLink(30019,'view',this,0,72,80); return false;\">거치대</a> / <a class=\"view_dic\" href=\"#\" onclick=\"$.termDicViewLink(27312,'view',this,0,72,80); return false;\">무게</a>: <a class=\"view_dic\" href=\"#\" onclick=\"$.termDicViewLink(27312,'view',this,0,72,80); return false;\">1.5kg</a> / <a class=\"view_dic\" href=\"#\" onclick=\"$.termDicViewLink(14771,'view',this,0,72,80); return false;\">색상:화이트</a> / <a class=\"view_dic\" href=\"#\" onclick=\"$.termDicViewLink(1743,'view',this,0,72,80); return false;\">소비전력</a>: <a class=\"view_dic\" href=\"#\" onclick=\"$.termDicViewLink(1743,'view',this,0,72,80); return false;\">450W</a> </div>\n",
      "</dd>\n",
      "</dl>\n",
      "<div class=\"relation_goods_unit\" id=\"relation_goods_unit_9781572\"><dl class=\"unit_goods_list\"><dt class=\"title_unit\">관련용품▶</dt><dd class=\"unit_lists\"><a class=\"unit_link view_dic\" data-relationcode=\"10560216\" href=\"#\" onclick=\"return false;\">헤파필터</a><span class=\"ucomma\">,</span><a class=\"unit_link view_dic\" data-relationcode=\"10526325\" href=\"#\" onclick=\"return false;\">롤브러쉬</a></dd></dl></div>\n",
      "<div class=\"prod_sub_info\">\n",
      "<div class=\"prod_sub_meta\">\n",
      "<dl class=\"meta_item mt_date\">\n",
      "<dt>등록월</dt>\n",
      "<dd>2019.10</dd>\n",
      "</dl>\n",
      "<dl class=\"meta_item mt_comment\">\n",
      "<dt><span class=\"dt_behind\">상품의견</span></dt>\n",
      "<dd>\n",
      "<div class=\"cnt_star\">\n",
      "<div class=\"point_type_list\">\n",
      "<div class=\"mask\" style=\"width:92%\">\n",
      "</div>\n",
      "</div>\n",
      "<div class=\"point_num\">\n",
      "<strong>4.6</strong>점\n",
      "\t\t\t\t\t\t\t\t\t\t\t\t\t\t</div>\n",
      "</div>\n",
      "<div class=\"cnt_opinion\">\n",
      "\t\t\t\t\t\t\t\t\t\t\t\t\t\t(<a class=\"click_log_prod_content_count\" href=\"http://prod.danawa.com/info/?pcode=9781572&amp;keyword=무선청소기&amp;cate=103740#bookmark_cm_opinion\" onmousedown=\"_trkEventLog('통합검색_상품블로그_유입');\" target=\"_blank\"><strong>766</strong></a>건)\n",
      "\t\t\t\t\t\t\t\t\t\t\t\t\t</div>\n",
      "</dd>\n",
      "</dl>\n",
      "<dl class=\"meta_item\">\n",
      "<dt class=\"screen_out\">관심상품</dt>\n",
      "<dd>\n",
      "<a class=\"click_log_wishList\" href=\"#\" onclick=\"javascript:$.danawaAddProductToWishList(this, '9781572',' search', '', '', '147160');return false;\" onmousedown=\"doCTR('%EB%AC%B4%EC%84%A0%EC%B2%AD%EC%86%8C%EA%B8%B0','9781572',4);\" title=\"관심상품에 담기\">관심상품</a>\n",
      "</dd>\n",
      "<input id=\"wishListBundleVal_9781572\" type=\"hidden\" value=\"//샤오미 드리미 V10\"/>\n",
      "</dl>\n",
      "</div>\n",
      "<dl class=\"prod_category_location\">\n",
      "<dt class=\"screen_out\">상품분류</dt>\n",
      "<dd>\n",
      "<a href=\"http://prod.danawa.com/list/?cate=103740\" onmousedown=\"80\" target=\"doCTR('%EB%AC%B4%EC%84%A0%EC%B2%AD%EC%86%8C%EA%B8%B0',9781572,3);\"><span>생활가전</span> &gt; <span>청소기</span> &gt; <span>핸디/스틱</span></a> <div class=\"more_cate_layer\" style=\"display: none; z-index: 1;\">\n",
      "<ul class=\"list_category_location\">\n",
      "</ul>\n",
      "</div>\n",
      "</dd>\n",
      "</dl>\n",
      "</div>\n",
      "</div>\n",
      "<div class=\"prod_pricelist\" data-cate=\"72|80|81|0\">\n",
      "<ul>\n",
      "<li class=\"rank_one\" id=\"productInfoDetail_9781572\">\n",
      "<p class=\"chk_sect\">\n",
      "\t\t\t\t\t\t\t\t\t\t180몰\n",
      "\t\t\t\t\t\t\t\t\t\t\t\t\t\t\t\t\t\t\t\t\t<label for=\"prodCompareCheck_9781572\">\n",
      "<input id=\"prodCompareCheck_9781572\" type=\"checkbox\"/><strong>상품비교</strong>\n",
      "</label>\n",
      "<input name=\"compareValue\" type=\"hidden\" value=\"9781572\"/>\n",
      "<input name=\"compareRepValue\" type=\"hidden\" value=\"9781572\"/>\n",
      "</p>\n",
      "<p class=\"price_sect\">\n",
      "<a class=\"click_log_product_standard_price_\" href=\"http://prod.danawa.com/info/?pcode=9781572&amp;keyword=무선청소기&amp;cate=103740\" onmousedown=\"doCTR('%EB%AC%B4%EC%84%A0%EC%B2%AD%EC%86%8C%EA%B8%B0','9781572',1);; _trkEventLog('통합검색_상품블로그_유입'); \" target=\"_blank\">\n",
      "<strong>147,160</strong>원\t\t\t\t\t\t\t\t\t\t</a>\n",
      "<span class=\"more_btn_wrap\">\n",
      "<button class=\"ico i_more\">가격정보 더보기</button>\n",
      "<span class=\"layer_price_more\" id=\"layer_price_more_9781572\"></span>\n",
      "<span class=\"sep_line\"></span>\n",
      "</span>\n",
      "</p>\n",
      "<p class=\"memory_sect\">\n",
      "\t\t\t\t\t\t\t\t\t\t\t\t\t\t\t\t\t\t\t\t\t\t\t해외구매\t\t\t\t\t\t\t\t\t\t\t\t\t\t\t\t\t\t\t\t\t\t<a href=\"http://prod.danawa.com/info/?pcode=9781572&amp;keyword=무선청소기&amp;cate=103740\" onmousedown=\"doCTR('%EB%AC%B4%EC%84%A0%EC%B2%AD%EC%86%8C%EA%B8%B0','9781572',1);\" target=\"_blank\">\n",
      "</a>\n",
      "</p>\n",
      "</li>\n",
      "</ul>\n",
      "</div>\n",
      "</div>\n",
      "</li>\n"
     ]
    }
   ],
   "source": [
    "# 첫번째 데이터 가져오기\n",
    "prod_item = soup.select('li.prod_item')[1]\n",
    "print(prod_item)\n"
   ]
  },
  {
   "cell_type": "code",
   "execution_count": 5,
   "metadata": {},
   "outputs": [
    {
     "name": "stdout",
     "output_type": "stream",
     "text": [
      "\n",
      "샤오미 드리미 V10\n",
      "\n"
     ]
    }
   ],
   "source": [
    "name = prod_item.select('p.prod_name')[0].text\n",
    "print(name)"
   ]
  },
  {
   "cell_type": "code",
   "execution_count": 7,
   "metadata": {},
   "outputs": [
    {
     "name": "stdout",
     "output_type": "stream",
     "text": [
      "147,160\n"
     ]
    }
   ],
   "source": [
    "price = prod_item.select('li.rank_one > p.price_sect > a > strong')[0].text\n",
    "print(price)"
   ]
  },
  {
   "cell_type": "code",
   "execution_count": 12,
   "metadata": {},
   "outputs": [
    {
     "name": "stdout",
     "output_type": "stream",
     "text": [
      "핸디/스틱청소기 / 핸디+스틱형 / 무선형 / 전압: 25.2V / 헤파필터 / H12급 / 5단계여과 / 흡입력: 140AW / 흡입력: 22000Pa / 먼지통용량: 0.5L / 충전시간: 3시간30분 / 사용시간: 1시간 / 용량: 2500mAh / 구성: 바닥, 침구, 솔형, 틈새, 연장툴, 거치대 / 무게: 1.5kg / 색상:화이트 / 소비전력: 450W \n"
     ]
    }
   ],
   "source": [
    "spec = prod_item.select('div.spec_list')[0].text\n",
    "print(spec)"
   ]
  },
  {
   "cell_type": "code",
   "execution_count": 18,
   "metadata": {},
   "outputs": [
    {
     "name": "stdout",
     "output_type": "stream",
     "text": [
      "[['\\n라이프로 RX10\\n\\n광고상품\\n\\n', '', '\\n로봇청소기\\n\\t \\t\\t\\t\\t\\t\\t\\t\\t / 흡입+걸레\\n\\t \\t\\t\\t\\t\\t\\t\\t\\t / 전압\\n\\t \\t\\t\\t\\t\\t\\t\\t\\t: 14.4V\\n\\t \\t\\t\\t\\t\\t\\t\\t\\t / 헤파필터\\n\\t \\t\\t\\t\\t\\t\\t\\t\\t / H14급\\n\\t \\t\\t\\t\\t\\t\\t\\t\\t / BLDC모터\\n\\t \\t\\t\\t\\t\\t\\t\\t\\t / 흡입력\\n\\t \\t\\t\\t\\t\\t\\t\\t\\t: 3000Pa\\n\\t \\t\\t\\t\\t\\t\\t\\t\\t / 먼지통용량\\n\\t \\t\\t\\t\\t\\t\\t\\t\\t: 0.475L\\n\\t \\t\\t\\t\\t\\t\\t\\t\\t / 물통용량\\n\\t \\t\\t\\t\\t\\t\\t\\t\\t: 0.22L\\n\\t \\t\\t\\t\\t\\t\\t\\t\\t / 사용시간\\n\\t \\t\\t\\t\\t\\t\\t\\t\\t: 3시간\\n\\t \\t\\t\\t\\t\\t\\t\\t\\t / 배터리\\n\\t \\t\\t\\t\\t\\t\\t\\t\\t: 리튬이온\\n\\t \\t\\t\\t\\t\\t\\t\\t\\t / 용량\\n\\t \\t\\t\\t\\t\\t\\t\\t\\t: 5200mAh\\n\\t \\t\\t\\t\\t\\t\\t\\t\\t / LDS센서\\n\\t \\t\\t\\t\\t\\t\\t\\t\\t / 추락방지센서\\n\\t \\t\\t\\t\\t\\t\\t\\t\\t / 범핑센서\\n\\t \\t\\t\\t\\t\\t\\t\\t\\t / 청소모드\\n\\t \\t\\t\\t\\t\\t\\t\\t\\t: 지정영역청소\\n\\t \\t\\t\\t\\t\\t\\t\\t\\t / 스마트폰제어: 간편업데이트\\n\\t \\t\\t\\t\\t\\t\\t\\t\\t, 금지구역\\n\\t \\t\\t\\t\\t\\t\\t\\t\\t, 원격예약\\n\\t \\t\\t\\t\\t\\t\\t\\t\\t, 원격청소\\n\\t \\t\\t\\t\\t\\t\\t\\t\\t, 이동동선확인\\n\\t \\t\\t\\t\\t\\t\\t\\t\\t / 스마트맵핑\\n\\t \\t\\t\\t\\t\\t\\t\\t\\t / 바닥마스터\\n\\t \\t\\t\\t\\t\\t\\t\\t\\t / 문턱등반 / 자동충전\\n\\t \\t\\t\\t\\t\\t\\t\\t\\t / 음성안내\\n\\t \\t\\t\\t\\t\\t\\t\\t\\t / 리모콘\\n\\t \\t\\t\\t\\t\\t\\t\\t\\t / 소비전력\\n\\t \\t\\t\\t\\t\\t\\t\\t\\t: 30W\\n\\t \\t\\t\\t\\t\\t\\t\\t\\t / 색상:퓨어화이트, 매트블랙\\n\\t \\t\\t\\t\\t\\t\\t\\t\\t / 크기(가로x세로x깊이): 325x96x325mm\\t\\t\\t\\t\\t\\t\\t\\t'], ['\\n샤오미 드리미 V10\\n', '147,160', '핸디/스틱청소기 / 핸디+스틱형 / 무선형 / 전압: 25.2V / 헤파필터 / H12급 / 5단계여과 / 흡입력: 140AW / 흡입력: 22000Pa / 먼지통용량: 0.5L / 충전시간: 3시간30분 / 사용시간: 1시간 / 용량: 2500mAh / 구성: 바닥, 침구, 솔형, 틈새, 연장툴, 거치대 / 무게: 1.5kg / 색상:화이트 / 소비전력: 450W '], ['\\nLG전자 코드제로 ThinQ A9S A9700\\n', '935,740', '핸디/스틱청소기 / 핸디+스틱형 / 무선형 / 헤파필터 / 2중터보싸이클론 / 5단계여과 / 인버터모터 / 흡입력: 200W / 충전시간: 4시간 / 사용시간: 2시간 / 배터리: 리튬이온 (2개) / 구성: 바닥, 물걸레, 침구, 솔형, 굳은먼지, 상부청소, 틈새, 긴틈새, 매트리스, 연장툴, 거치대 / 자동물공급 / 디스플레이표시창 / 배터리잔량표시 / WiFi / 색상:판타지실버 / 소비전력: 590W / 미세먼지인증(SLG) / 크기(가로x세로x깊이): 250x1120x260mm\\t\\t\\t\\t\\t\\t\\t\\t'], ['\\nmXK6jAOKXz\\n', '845375', '\\n\\t\\t\\t\\t\\t\\t\\t\\tmXK6jAOKXz845375\\n\\t\\t\\t\\t\\t\\t\\t'], ['\\n샤오미 CLEANFLY 차량용 무선 청소기 3세대 (해외구매)\\n', '49,900', '차량용청소기 / 무선 / 흡입력: 16,800Pa / 최대출력: 120W / 헤파필터 / 추가노즐: 틈새, 솔브러쉬, 연장호스 / 사용시간: 25분 / 크기 : 369x72mm / 무게 : 560g\\t\\t\\t\\t\\t\\t\\t\\t'], ['\\n삼성전자 제트 VS15R8500BF\\n', '387,310', '핸디/스틱청소기 / 핸디+스틱형 / 무선형 / 전압: 21.6V / 헤파필터 / 싸이클론 / 5단계여과 / 인버터모터 / 흡입력: 150W / 먼지통용량: 0.5L / 충전시간: 3시간30분 / 사용시간: 40분 / 배터리: 리튬이온 / 구성: 바닥, 솔형, 틈새, 거치대 / 디스플레이표시창 / 프리볼트 / 무게: 2.57kg / 색상:틸민트 / 소비전력: 410W / 알레르기인증(BAF) / 미세먼지인증(SLG) / 크기(가로x세로x깊이): 250x1123x215mm\\t\\t\\t\\t\\t\\t\\t\\t'], ['\\nLG전자 코드제로 ThinQ A9S A9570\\n', '879,700', '핸디/스틱청소기 / 핸디+스틱형 / 무선형 / 헤파필터 / 2중터보싸이클론 / 5단계여과 / 인버터모터 / 흡입력: 200W / 충전시간: 4시간 / 사용시간: 2시간 / 배터리: 리튬이온 (2개) / 구성: 바닥, 물걸레, 침구, 솔형, 굳은먼지, 틈새, 매트리스, 거치대 / 자동물공급 / 디스플레이표시창 / 배터리잔량표시 / WiFi / 색상:판타지실버 / 소비전력: 590W / 미세먼지인증(SLG) / 크기(가로x세로x깊이): 250x1120x260mm\\t\\t\\t\\t\\t\\t\\t\\t'], ['\\n다이슨 V8 플러피\\n', '427,130', '핸디/스틱청소기 / 핸디+스틱형 / 무선형 / 전압: 21.6V / 싸이클론 / 흡입력: 155AW / 충전시간: 5시간 / 사용시간: 40분 / 배터리: 리튬이온 / 구성: 소프트롤러, 미니모터, 솔형, 더스팅, 틈새, 매트리스, 연장툴, 도킹스테이션 / 무게: 2.58kg / 소비전력: 485W / 크기(가로x세로x깊이): 250x1264x224mm\\t\\t\\t\\t\\t\\t\\t\\t'], ['\\n삼성전자 제트 VS20T9258SDCS\\n', '848,990', '핸디/스틱청소기 / 핸디+스틱형 / 무선형 / 전압: 21.6V / 헤파필터 / 싸이클론 / 5단계여과 / 인버터모터 / 흡입력: 200W / 먼지통용량: 0.5L / 충전시간: 3시간30분 / 사용시간: 2시간 / 배터리: 리튬이온 (2개) / 구성: 바닥, 물걸레, 침구, 솔형, 틈새, 연장툴, 거치대 / 디스플레이표시창 / 프리볼트 / 무게: 2.64kg / 색상:티탄+그레이 / 소비전력: 550W / 알레르기인증(BAF) / 미세먼지인증(SLG) / 크기(가로x세로x깊이): 250x1123x215mm / [VCA-SAE90A] 청정스테이션 / 색상: 블랙 / 크기(가로x세로x깊이): 185x600x180mm\\t\\t\\t\\t\\t\\t\\t\\t'], ['\\nLG전자 코드제로 A9 A9100\\n', '513,770', '핸디/스틱청소기 / 핸디+스틱형 / 무선형 / 헤파필터 / 2중터보싸이클론 / 5단계여과 / 인버터모터 / 충전시간: 3시간30분 / 사용시간: 40분 / 배터리: 리튬이온 / 구성: 바닥, 솔형, 틈새, 거치대 / 배터리잔량표시 / 색상:판타지실버 / 소비전력: 450W / 알레르기인증(BAF) / 미세먼지인증(SLG) / 크기(가로x세로x깊이): 250x1120x260mm\\t\\t\\t\\t\\t\\t\\t\\t'], ['\\n샤오미 드리미 V11\\n', '254,310', '핸디/스틱청소기 / 핸디+스틱형 / 무선형 / 전압: 25.2V / 멀티싸이클론 / 5단계여과 / BLDC모터 / 흡입력: 150AW / 흡입력: 25000Pa / 먼지통용량: 0.5L / 충전시간: 4시간 / 사용시간: 1시간30분 / 용량: 3000mAh / 구성: 바닥, 침구, 솔형, 틈새, 연장툴, 거치대 / 디스플레이표시창 / 무게: 1.6kg / 색상:레드 / 소비전력: 450W / 크기(가로x세로): 202x1221mm\\t\\t\\t\\t\\t\\t\\t\\t'], ['\\n일렉트로룩스 WELL Q6 WQ61-1OGG\\n', '166,980', '핸디/스틱청소기 / 핸디+스틱형 / 무선형 / 전압: 18V / 싸이클론 / 5단계여과 / 먼지통용량: 0.3L / 충전시간: 4시간30분 / 사용시간: 45분 / 배터리: 리튬이온 / 구성: 바닥, 솔형, 틈새, 거치대 / 브러쉬자동청소 / 셀프스탠딩 / LED라이트 / 배터리잔량표시 / 무게: 2.65kg / 색상:그라나이트그레이 / 크기(가로x세로x깊이): 386x692x146mm\\t\\t\\t\\t\\t\\t\\t\\t'], ['\\n삼성전자 제트 VS20T9257SECS\\n', '746,680', '핸디/스틱청소기 / 핸디+스틱형 / 무선형 / 전압: 21.6V / 헤파필터 / 싸이클론 / 5단계여과 / 인버터모터 / 흡입력: 200W / 먼지통용량: 0.5L / 충전시간: 3시간30분 / 사용시간: 2시간 / 배터리: 리튬이온 (2개) / 구성: 바닥, 물걸레, 솔형, 틈새, 연장툴, 거치대 / 디스플레이표시창 / 프리볼트 / 무게: 2.64kg / 색상:티탄+민트 / 소비전력: 550W / 알레르기인증(BAF) / 미세먼지인증(SLG) / 크기(가로x세로x깊이): 250x1123x215mm / [VCA-SAE90A] 청정스테이션 / 색상: 블랙 / 크기(가로x세로x깊이): 185x600x180mm\\t\\t\\t\\t\\t\\t\\t\\t'], ['\\n다이슨 V10 카본파이버\\n', '588,550', '핸디/스틱청소기 / 핸디+스틱형 / 무선형 / 전압: 25.2V / 싸이클론 / 흡입력: 160AW / 충전시간: 3시간30분 / 사용시간: 1시간 / 배터리: 리튬이온 / 구성: 소프트롤러, 토크드라이브, 미니모터, 솔형, 더스팅, 틈새, 긴틈새, 연장툴, 도킹스테이션 / 무게: 2.5kg / 소비전력: 525W / 크기(가로x세로x깊이): 250x1241x256mm\\t\\t\\t\\t\\t\\t\\t\\t'], ['\\n삼성전자 제트 VS20T9213QDCSP\\n', '726,200', '핸디/스틱청소기 / 핸디+스틱형 / 무선형 / 전압: 21.6V / 헤파필터 / 싸이클론 / 5단계여과 / 인버터모터 / 흡입력: 200W / 먼지통용량: 0.5L / 충전시간: 3시간30분 / 사용시간: 1시간 / 배터리: 리튬이온 (2개) / 구성: 바닥, 솔형, 틈새, 거치대 / 디스플레이표시창 / 프리볼트 / 무게: 2.64kg / 색상:티탄+그레이 / 소비전력: 550W / 알레르기인증(BAF) / 미세먼지인증(SLG) / 크기(가로x세로x깊이): 250x1123x215mm / [VCA-SAE90A] 청정스테이션 / 색상: 블랙 / 크기(가로x세로x깊이): 185x600x180mm\\t\\t\\t\\t\\t\\t\\t\\t'], ['\\n다이슨 디지털 슬림 플러피+\\n', '691,300', '핸디/스틱청소기 / 핸디+스틱형 / 무선형 / 싸이클론 / 5단계여과 / 흡입력: 100AW / 먼지통용량: 0.3L / 충전시간: 3시간30분 / 사용시간: 40분 / 구성: 슬림소프트롤러, 미니모터, 솔형, 스터번더트, 틈새, 매트리스, 연장툴, 거치대, 도킹스테이션 / 디스플레이표시창 / 무게: 1.9kg / 색상:오렌지 / 크기(가로x세로x깊이): 250x1100x250mm\\t\\t\\t\\t\\t\\t\\t\\t'], ['\\nLG전자 코드제로 ThinQ A9S A9470\\n', '836,710', '핸디/스틱청소기 / 핸디+스틱형 / 무선형 / 헤파필터 / 2중터보싸이클론 / 5단계여과 / 인버터모터 / 충전시간: 4시간 / 사용시간: 2시간 / 배터리: 리튬이온 (2개) / 구성: 바닥, 물걸레, 솔형, 틈새, 거치대 / 자동물공급 / 디스플레이표시창 / 배터리잔량표시 / WiFi / 색상:아이언그레이 / 소비전력: 590W / 미세먼지인증(SLG) / 크기(가로x세로x깊이): 250x1120x260mm\\t\\t\\t\\t\\t\\t\\t\\t'], ['\\nLG전자 코드제로 ThinQ A9S A9500\\n', '820,010', '핸디/스틱청소기 / 핸디+스틱형 / 무선형 / 헤파필터 / 2중터보싸이클론 / 5단계여과 / 인버터모터 / 흡입력: 200W / 충전시간: 4시간 / 사용시간: 2시간 / 배터리: 리튬이온 (2개) / 구성: 바닥, 침구, 솔형, 굳은먼지, 틈새, 매트리스, 거치대 / 디스플레이표시창 / 배터리잔량표시 / WiFi / 색상:아이언그레이 / 소비전력: 590W / 미세먼지인증(SLG) / 크기(가로x세로x깊이): 250x1120x260mm\\t\\t\\t\\t\\t\\t\\t\\t'], ['\\n다이슨 V11 컴플리트\\n', '800,220', '핸디/스틱청소기 / 핸디+스틱형 / 무선형 / 싸이클론 / 흡입력: 185AW / 먼지통용량: 0.54L / 충전시간: 4시간30분 / 사용시간: 1시간 / 구성: 하이토크, 소프트롤러, 미니모터, 솔형, 더스팅, 스터번더트, 틈새, 매트리스, 거치대, 도킹스테이션 / 디스플레이표시창 / 무게: 2.95kg / 색상:니켈블루 / 크기(가로x세로x깊이): 250x1280x261mm\\t\\t\\t\\t\\t\\t\\t\\t'], ['\\n샤오미 SHUNZAO 차량용 무선청소기 2세대 Z1 PRO (해외구매)\\n', '42,140', '차량용청소기 / 무선 / 흡입력: 12,000Pa / 최대출력: 120W / 2중필터 / 추가노즐: 틈새, 솔브러쉬 / LED라이트 / 사용시간: 30분 / 충전시간: 2시간30분 / 충전방식: USB C타입 / 크기: 73x76x336mm / 무게: 610g\\t\\t\\t\\t\\t\\t\\t\\t'], ['\\n다이슨 옴니 글라이드 컴플리트+\\n', '556,630', '핸디/스틱청소기 / 핸디+스틱형 / 무선형 / 싸이클론 / 5단계여과 / 흡입력: 50AW / 먼지통용량: 0.2L / 충전시간: 3시간30분 / 사용시간: 20분 / 배터리: 리튬이온 / 구성: 전방향플러피, 미니모터, 솔형, 틈새, 서페이스, 연장툴, 거치대, 도킹스테이션 / 무게: 1.9kg / 색상:퍼플 / 크기(가로x세로x깊이): 208x1077x92mm\\t\\t\\t\\t\\t\\t\\t\\t'], ['\\n일렉트로룩스 PURE Q9 PQ91-3EM\\n', '334,900', '핸디/스틱청소기 / 핸디+스틱형 / 무선형 / 전압: 25.2V / 싸이클론 / 5단계여과 / 먼지통용량: 0.3L / 충전시간: 4시간 / 사용시간: 55분 / 배터리: 리튬이온 / 구성: 바닥, 솔형, 틈새, 긴틈새, 거치대 / 브러쉬자동청소 / 셀프스탠딩 / LED라이트 / 무게: 2.75kg / 색상:마호가니브론즈 / 크기(가로x세로x깊이): 256x1100x130mm\\t\\t\\t\\t\\t\\t\\t\\t'], ['\\n다이슨 옴니 글라이드+\\n', '482,290', '핸디/스틱청소기 / 핸디+스틱형 / 무선형 / 싸이클론 / 5단계여과 / 흡입력: 50AW / 먼지통용량: 0.2L / 충전시간: 3시간30분 / 사용시간: 20분 / 배터리: 리튬이온 / 구성: 전방향플러피, 미니모터, 솔형, 틈새, 서페이스, 도킹스테이션 / 무게: 1.9kg / 색상:골드 / 크기(가로x세로x깊이): 208x1077x92mm\\t\\t\\t\\t\\t\\t\\t\\t'], ['\\n삼성전자 제트 VS20T9213QDCSW\\n', '755,540', '핸디/스틱청소기 / 핸디+스틱형 / 무선형 / 전압: 21.6V / 헤파필터 / 싸이클론 / 5단계여과 / 인버터모터 / 흡입력: 200W / 먼지통용량: 0.5L / 충전시간: 3시간30분 / 사용시간: 1시간 / 배터리: 리튬이온 / 구성: 바닥, 물걸레, 솔형, 틈새, 거치대 / 디스플레이표시창 / 프리볼트 / 무게: 2.64kg / 색상:티탄+그레이 / 소비전력: 550W / 알레르기인증(BAF) / 미세먼지인증(SLG) / 크기(가로x세로x깊이): 250x1123x215mm / [VCA-SAE90A] 청정스테이션 / 색상: 블랙 / 크기(가로x세로x깊이): 185x600x180mm\\t\\t\\t\\t\\t\\t\\t\\t'], ['\\nLG전자 코드제로 A9S A9300\\n', '696,350', '핸디/스틱청소기 / 핸디+스틱형 / 무선형 / 헤파필터 / 2중터보싸이클론 / 5단계여과 / 인버터모터 / 흡입력: 200W / 충전시간: 4시간 / 사용시간: 1시간 / 배터리: 리튬이온 / 구성: 바닥, 솔형, 굳은먼지, 틈새, 매트리스, 거치대 / 디스플레이표시창 / 배터리잔량표시 / WiFi / 색상:아이언그레이 / 소비전력: 590W / 미세먼지인증(SLG) / 크기(가로x세로x깊이): 250x1120x260mm\\t\\t\\t\\t\\t\\t\\t\\t'], ['\\nLG전자 코드제로 ThinQ A9S A9400\\n', '730,800', '핸디/스틱청소기 / 핸디+스틱형 / 무선형 / 헤파필터 / 2중터보싸이클론 / 5단계여과 / 인버터모터 / 흡입력: 200W / 충전시간: 4시간 / 사용시간: 2시간 / 배터리: 리튬이온 (2개) / 구성: 바닥, 솔형, 굳은먼지, 틈새, 매트리스, 거치대 / 디스플레이표시창 / 배터리잔량표시 / WiFi / 색상:판타지실버 / 소비전력: 590W / 미세먼지인증(SLG) / 크기(가로x세로x깊이): 250x1120x260mm\\t\\t\\t\\t\\t\\t\\t\\t'], ['\\n샤오미 SHUNZAO Z11\\n', '159,000', '핸디/스틱청소기 / 핸디+스틱형 / 무선형 / 전압: 25.2V / 헤파필터 / 싸이클론 / 5단계여과 / 흡입력: 150AW / 흡입력: 26000Pa / 먼지통용량: 0.5L / 충전시간: 3시간 / 사용시간: 1시간 / 배터리: 리튬이온 / 용량: 2500mAh / 구성: 바닥, 침구, 솔형, 틈새, 연장툴, 거치대 / 디스플레이표시창 / 배터리잔량표시 / 색상:화이트 '], ['\\n휴스톰 HS-10000\\n', '137,180', '물걸레청소기 / 스틱형 / 회전식 / 무선형 / 전압: 14.6V / 충전시간: 2시간30분 / 사용시간: 30분 / 배터리: 리튬이온 / 용량: 2750mAh / LED라이트 / 가구손상방지 / 각도조절 / 셀프스탠딩 / 배터리잔량표시 / 프리볼트 / 무게: 3.7kg / 색상:블랙 / 모터과열방지 / 과충전방지 / 오토스토핑 / 패드: 극세사(벨크로형) / 크기(가로x세로x깊이): 410x1180x205mm\\t\\t\\t\\t\\t\\t\\t\\t'], ['\\nDIBEA TSX-25000A\\n', '190,890', '핸디/스틱청소기 / 핸디+스틱형 / 무선형 / 전압: 29.6V / 헤파필터 / H13급 / 싸이클론 / BLDC모터 / 흡입력: 25000Pa / 먼지통용량: 0.5L / 충전시간: 2시간 / 사용시간: 45분 / 배터리: 리튬이온 / 용량: 2000mAh / 구성: 바닥, 침구, 솔형, 틈새, 연장툴, 거치대 / LED라이트 / 무게: 1.35kg / 색상:블랙 / 소비전력: 400W / 크기(가로x세로x깊이): 256x1172x217xmm\\t\\t\\t\\t\\t\\t\\t\\t'], ['\\n신일산업 SVC-D900RK\\n', '27,950', '핸디/스틱청소기 / 핸디형 / 무선형 / 전압: 7.5V / 먼지통용량: 0.4L / 물통용량: 0.1L / 충전시간: 6시간30분 / 사용시간: 15분 / 용량: 300mAh / 구성: 틈새 / 프리볼트 / 무게: 1kg / 색상:화이트 / 소비전력: 40W / 건습식 / 크기(가로x세로x깊이): 137x405x144mm\\t\\t\\t\\t\\t\\t\\t\\t'], ['\\n일렉트로룩스 WELL Q7 WQ71-2OIB\\n', '237,550', '핸디/스틱청소기 / 핸디+스틱형 / 무선형 / 전압: 21.6V / 싸이클론 / 5단계여과 / 먼지통용량: 0.3L / 충전시간: 4시간30분 / 사용시간: 50분 / 배터리: 리튬이온 / 구성: 바닥, 솔형, 더스팅, 틈새, 거치대 / 브러쉬자동청소 / 셀프스탠딩 / LED라이트 / 배터리잔량표시 / 무게: 2.8kg / 색상:인디고블루 / 크기(가로x세로x깊이): 386x692x140mm\\t\\t\\t\\t\\t\\t\\t\\t'], ['\\n삼성전자 VC-H22\\n', '29,100', '핸디/스틱청소기 / 핸디형 / 무선형 / 충전시간: 8시간 / 사용시간: 10분 / 배터리: 니켈수소 / 무게: 0.76kg / 소비전력: 48W / 크기(가로x세로x깊이): 103x317x174mm\\t\\t\\t\\t\\t\\t\\t\\t'], ['\\n일렉트로룩스 PURE Q9 PQ92-3OBF\\n', '314,770', '핸디/스틱청소기 / 핸디+스틱형 / 무선형 / 전압: 25.2V / 싸이클론 / 5단계여과 / 먼지통용량: 0.3L / 충전시간: 4시간 / 사용시간: 53분 / 배터리: 리튬이온 / 구성: 바닥, 솔형, 더스팅, 틈새, 거치대 / 셀프스탠딩 / LED라이트 / 배터리잔량표시 / 무게: 2.89kg / 색상:인디고블루 / 크기(가로x세로x깊이): 256x1097x155mm\\t\\t\\t\\t\\t\\t\\t\\t'], ['\\n삼성전자 제트 VS15R8543S1CW\\n', '487,440', '핸디/스틱청소기 / 핸디+스틱형 / 무선형 / 전압: 21.6V / 헤파필터 / 싸이클론 / 5단계여과 / 인버터모터 / 흡입력: 150W / 먼지통용량: 0.5L / 충전시간: 3시간30분 / 사용시간: 40분 / 배터리: 리튬이온 / 구성: 바닥, 솔형, 틈새, 연장툴, 거치대 / 디스플레이표시창 / 프리볼트 / 무게: 2.57kg / 색상:틸민트 / 소비전력: 410W / 알레르기인증(BAF) / 미세먼지인증(SLG) / 크기(가로x세로x깊이): 250x1123x215mm / [VCA-SAE90A] 청정스테이션 / 색상: 화이트 / 크기(가로x세로x깊이): 185x600x180mm\\t\\t\\t\\t\\t\\t\\t\\t'], ['\\n샤오미 드리미 V9\\n', '116,890', '핸디/스틱청소기 / 핸디+스틱형 / 무선형 / 전압: 25.2V / 헤파필터 / 싸이클론 / 5단계여과 / 흡입력: 120AW / 흡입력: 20000Pa / 먼지통용량: 0.5L / 충전시간: 3시간30분 / 사용시간: 60분 / 용량: 2500mAh / 구성: 바닥, 침구, 솔형, 틈새, 연장툴, 거치대 / 무게: 1.5kg / 색상:화이트 / 소비전력: 400W '], ['\\nLG전자 코드제로 A9S A9370\\n', '704,270', '핸디/스틱청소기 / 핸디+스틱형 / 무선형 / 헤파필터 / 2중터보싸이클론 / 5단계여과 / 인버터모터 / 충전시간: 4시간 / 사용시간: 1시간 / 배터리: 리튬이온 / 구성: 바닥, 물걸레, 솔형, 틈새, 거치대 / 자동물공급 / 디스플레이표시창 / 배터리잔량표시 / WiFi / 색상:아이언그레이 / 소비전력: 590W / 미세먼지인증(SLG) / 크기(가로x세로x깊이): 250x1120x260mm\\t\\t\\t\\t\\t\\t\\t\\t'], ['\\n샤오미 미지아 차량용 핸디 무선 청소기 (해외구매)\\n', '33,520', '차량용청소기 / 무선 / 흡입력: 13,000Pa / 최대출력: 120W / 헤파필터 / 추가노즐: 틈새, 솔브러쉬 / 사용시간: 9~30분 / 버튼 잠금 장치 / 2단 세기 조절 / 크기: 55x267mm / 무게: 500g\\t\\t\\t\\t\\t\\t\\t\\t'], ['\\n삼성전자 제트 VS20R9078S2\\n', '673,430', '핸디/스틱청소기 / 핸디+스틱형 / 무선형 / 전압: 21.9V / 헤파필터 / 싸이클론 / 5단계여과 / 인버터모터 / 흡입력: 200W / 먼지통용량: 0.5L / 충전시간: 3시간30분 / 사용시간: 2시간 / 배터리: 리튬이온 (2개) / 구성: 바닥, 물걸레, 침구, 솔형, 틈새, 연장툴, 거치대 / 물걸레 / 디스플레이표시창 / 프리볼트 / 무게: 2.7kg / 색상:티탄+블루 / 소비전력: 550W / 알레르기인증(BAF) / 미세먼지인증(SLG) / 크기(가로x세로x깊이): 250x1136x215mm\\t\\t\\t\\t\\t\\t\\t\\t'], ['\\n샤오미 SWDK-D260\\n', '60,290', '물걸레청소기 / 스틱형 / 왕복식 / 무선형 / 전압: 12.6V / 충전시간: 3시간 / 사용시간: 50분 / 배터리: 리튬이온 / 용량: 2000mAh / 물분사 / LED라이트 / 프리볼트 / 무게: 2.4kg / 색상:화이트 / 110V / 변환어댑터: 필요\\t\\t\\t\\t\\t\\t\\t\\t'], ['\\n다이슨 V8 카본파이버\\n', '460,560', '핸디/스틱청소기 / 핸디+스틱형 / 무선형 / 싸이클론 / 흡입력: 155W / 충전시간: 5시간 / 사용시간: 40분 / 배터리: 리튬이온 / 구성: 소프트롤러, 다이렉트드라이브, 미니모터, 솔형, 더스팅, 틈새, 긴틈새, 매트리스, 연장툴, 업탑어댑터, 도킹스테이션 / 무게: 2.63kg / 소비전력: 485W / 크기(가로x세로x깊이): 250x1244x210mm\\t\\t\\t\\t\\t\\t\\t\\t'], ['\\n샤오미 TROUVER TECH SOLO10\\n', '94,760', '핸디/스틱청소기 / 핸디+스틱형 / 무선형 / 전압: 21.6V / 5단계여과 / BLDC모터 / 흡입력: 85AW / 흡입력: 18000Pa / 먼지통용량: 0.4L / 충전시간: 3시간30분 / 사용시간: 48분 / 용량: 2000mAh / 구성: 바닥, 솔형, 틈새 / 디스플레이표시창 / 배터리잔량표시 / 무게: 1.4kg / 색상:화이트+레드 / 소비전력: 300W '], ['\\n일렉트로룩스 라피도 ZB6114\\n', '77,100', '핸디/스틱청소기 / 핸디형 / 무선형 / 전압: 14.4V / 싸이클론 / 3단계여과 / 충전시간: 4시간 / 사용시간: 24분 / 배터리: 리튬이온 / 구성: 거치대 / 무게: 1.13kg / 색상:텅스텐메탈릭 / 5단계각도조절 / 바퀴 / 크기(가로x세로x깊이): 124x410x137mm\\t\\t\\t\\t\\t\\t\\t\\t']]\n",
      "42\n"
     ]
    }
   ],
   "source": [
    "#전체 데이터 가져오기\n",
    "prod_item = soup.select('li.prod_item')\n",
    "data = []\n",
    "for i in prod_item:\n",
    "    try:\n",
    "        name = i.select('p.prod_name')[0].text\n",
    "    except:\n",
    "        name = ''\n",
    "    try:\n",
    "        price = i.select('li.rank_one > p.price_sect > a > strong')[0].text\n",
    "    except:\n",
    "        price = ''\n",
    "    try:\n",
    "        spec = i.select('div.spec_list')[0].text\n",
    "    except:\n",
    "        spec = ''\n",
    "    data.append([name,price,spec])\n",
    "    \n",
    "print(data)\n",
    "    \n",
    "print(len(data))"
   ]
  },
  {
   "cell_type": "markdown",
   "metadata": {},
   "source": [
    "# 2. 스타벅스 매장 정보 크롤링"
   ]
  },
  {
   "cell_type": "code",
   "execution_count": 19,
   "metadata": {},
   "outputs": [],
   "source": [
    "from selenium import webdriver\n",
    "driver = webdriver.Chrome('c:/scrap/chromedriver.exe')\n",
    "url = 'https://www.istarbucks.co.kr/store/store_map.do?disp=locale'"
   ]
  },
  {
   "cell_type": "code",
   "execution_count": 20,
   "metadata": {},
   "outputs": [],
   "source": [
    "driver.get(url)"
   ]
  },
  {
   "cell_type": "markdown",
   "metadata": {},
   "source": [
    "### 2-1 서울 -> 전체 선택하기"
   ]
  },
  {
   "cell_type": "code",
   "execution_count": 21,
   "metadata": {},
   "outputs": [],
   "source": [
    "seoulBtn = '#container > div > form > fieldset > div > section > article.find_store_cont > article > article:nth-child(4) > div.loca_step1 > div.loca_step1_cont > ul > li:nth-child(1) > a'"
   ]
  },
  {
   "cell_type": "code",
   "execution_count": 23,
   "metadata": {},
   "outputs": [],
   "source": [
    "driver.find_element_by_css_selector(seoulBtn).click()"
   ]
  },
  {
   "cell_type": "code",
   "execution_count": 24,
   "metadata": {},
   "outputs": [],
   "source": [
    "allSeoul = '#mCSB_2_container > ul > li:nth-child(1) > a'"
   ]
  },
  {
   "cell_type": "code",
   "execution_count": 25,
   "metadata": {},
   "outputs": [],
   "source": [
    "driver.find_element_by_css_selector(allSeoul).click()"
   ]
  },
  {
   "cell_type": "markdown",
   "metadata": {},
   "source": [
    "### 2-2 매장정보 크롤링"
   ]
  },
  {
   "cell_type": "code",
   "execution_count": 27,
   "metadata": {},
   "outputs": [],
   "source": [
    "# 첫 번째 매장 정보\n",
    "from bs4 import BeautifulSoup\n",
    "html = driver.page_source\n",
    "soup = BeautifulSoup(html,'html.parser')"
   ]
  },
  {
   "cell_type": "code",
   "execution_count": 31,
   "metadata": {},
   "outputs": [
    {
     "name": "stdout",
     "output_type": "stream",
     "text": [
      "<li class=\"quickResultLstCon\" data-code=\"3762\" data-hlytag=\"null\" data-index=\"0\" data-lat=\"37.501087\" data-long=\"127.043069\" data-name=\"역삼아레나빌딩\" data-storecd=\"1509\" style=\"background:#fff\"> <strong>역삼아레나빌딩  <img alt=\"\" class=\"setStoreFavBtn mCS_img_loaded\" data-my_siren_order_store_yn=\"N\" data-name=\"역삼아레나빌딩\" data-store=\"1509\" data-yn=\"N\" src=\"//image.istarbucks.co.kr/common/img/store/icon_fav_off.png\"/></strong> <p class=\"result_details\">서울특별시 강남구 언주로 425 (역삼동)<br/>1522-3232</p> <i class=\"pin_general\">리저브 매장 2번</i></li>\n"
     ]
    }
   ],
   "source": [
    "sb_seoul = soup.select('#mCSB_3_container > ul > li')[0]\n",
    "print(sb_seoul)\n"
   ]
  },
  {
   "cell_type": "code",
   "execution_count": 41,
   "metadata": {},
   "outputs": [
    {
     "name": "stdout",
     "output_type": "stream",
     "text": [
      "역삼아레나빌딩  \n"
     ]
    }
   ],
   "source": [
    "# 매장 이름\n",
    "name = sb_seoul.select('strong')[0].text\n",
    "print(name)"
   ]
  },
  {
   "cell_type": "code",
   "execution_count": 44,
   "metadata": {},
   "outputs": [
    {
     "name": "stdout",
     "output_type": "stream",
     "text": [
      "서울특별시 강남구 언주로 425 (역삼동)\n"
     ]
    }
   ],
   "source": [
    "#매장 주소\n",
    "addr = str(sb_seoul.select('p.result_details')[0]).split('<br/>')[0].split('>')[1]\n",
    "print(addr)"
   ]
  },
  {
   "cell_type": "code",
   "execution_count": 45,
   "metadata": {},
   "outputs": [
    {
     "name": "stdout",
     "output_type": "stream",
     "text": [
      "1522-3232\n"
     ]
    }
   ],
   "source": [
    "#전화번호\n",
    "tel = str(sb_seoul.select('p.result_details')[0]).split('<br/>')[1].split('<')[0]\n",
    "print(tel)"
   ]
  },
  {
   "cell_type": "code",
   "execution_count": 49,
   "metadata": {},
   "outputs": [
    {
     "name": "stdout",
     "output_type": "stream",
     "text": [
      "37.501087\n",
      "127.043069\n"
     ]
    }
   ],
   "source": [
    "#매장 경도 , 위도\n",
    "lat = sb_seoul['data-lat']\n",
    "print(lat)\n",
    "long = sb_seoul['data-long']\n",
    "print(long)"
   ]
  },
  {
   "cell_type": "code",
   "execution_count": 51,
   "metadata": {},
   "outputs": [
    {
     "name": "stdout",
     "output_type": "stream",
     "text": [
      "리저브 매장 2번\n"
     ]
    }
   ],
   "source": [
    "#매장 종류\n",
    "store_type = sb_seoul.select('i.pin_general')[0].text\n",
    "print(store_type)"
   ]
  },
  {
   "cell_type": "code",
   "execution_count": 57,
   "metadata": {},
   "outputs": [
    {
     "name": "stdout",
     "output_type": "stream",
     "text": [
      "[['역삼아레나빌딩  ', '서울특별시 강남구 언주로 425 (역삼동)', '1522-3232', '37.501087', '127.043069', '리저브 매장 2번'], ['논현역사거리  ', '서울특별시 강남구 강남대로 538 (논현동)', '1522-3232', '37.510178', '127.022223', '리저브 매장 2번'], ['신사역성일빌딩  ', '서울특별시 강남구 강남대로 584 (논현동)', '1522-3232', '37.514132', '127.020563', '리저브 매장 2번'], ['국기원사거리  ', '서울특별시 강남구 테헤란로 125 (역삼동)', '1522-3232', '37.499517', '127.031495', '리저브 매장 2번'], ['스탈릿대치R  ', '서울특별시 강남구 남부순환로 2947 (대치동)', '1522-3232', '37.494668', '127.062583', ''], ['봉은사역  ', '서울특별시 강남구 봉은사로 619 (삼성동)', '1522-3232', '37.515000', '127.063196', '리저브 매장 2번'], ['압구정윤성빌딩  ', '서울특별시 강남구 논현로 834 (신사동)', '1522-3232', '37.5227934', '127.0286009', '리저브 매장 2번'], ['코엑스별마당  ', '서울특별시 강남구 영동대로 513 (삼성동)', '1522-3232', '37.510150', '127.060275', '리저브 매장 2번'], ['삼성역섬유센터R  ', '서울특별시 강남구 테헤란로 518 (대치동)', '1522-3232', '37.507750', '127.060651', ''], ['압구정R  ', '서울특별시 강남구 언주로 861 (신사동)', '1522-3232', '37.5273669', '127.033061', ''], ['수서역R  ', '서울특별시 강남구 광평로 281 (수서동)', '1522-3232', '37.488008', '127.102650', ''], ['양재강남빌딩R  ', '서울특별시 강남구 남부순환로 2621 (도곡동)', '1522-3232', '37.485192', '127.036685', ''], ['선릉동신빌딩R  ', '서울특별시 강남구 테헤란로 409 (삼성동)', '1522-3232', '37.505321', '127.050409', ''], ['봉은사로선정릉  ', '서울특별시 강남구 봉은사로 446 (삼성동)', '1522-3232', '37.511293', '127.048409', '리저브 매장 2번'], ['강남오거리  ', '서울특별시 강남구 봉은사로2길 39 (역삼동)', '1522-3232', '37.502117', '127.026672', '리저브 매장 2번'], ['스타필드코엑스몰R  ', '서울특별시 강남구 영동대로 513 (삼성동) 코엑스 A106호', '1522-3232', '37.50999', '127.061455', ''], ['강남구청정문  ', '서울특별시 강남구 학동로 419 (청담동)', '1522-3232', '37.518181', '127.045995', '리저브 매장 2번'], ['도곡공원  ', '서울특별시 강남구 도곡로 205 (역삼동)', '1522-3232', '37.492805', '127.041309', '리저브 매장 2번'], ['강남R  ', '서울특별시 강남구 강남대로 390 (역삼동)', '1522-3232', '37.497711', '127.028439', ''], ['대치은마사거리  ', '서울특별시 강남구 도곡로 457 (대치동)', '1522-3232', '37.498973', '127.060172', '리저브 매장 2번'], ['청담영동대로  ', '서울특별시 강남구 영동대로 720 (청담동)', '1522-3232', '37.522156', '127.056449', '리저브 매장 2번'], ['압구정  ', '서울특별시 강남구 압구정로30길 17 (신사동)', '1522-3232', '37.526283', '127.029560', '리저브 매장 2번'], ['신사가로수  ', '서울특별시 강남구 가로수길 59 ', '1522-3232', '37.521852', '127.022510', '리저브 매장 2번'], ['청담스타R  ', '서울특별시 강남구 도산대로57길 24 (청담동)', '1522-3232', '37.525216', '127.041827', ''], ['강남우성  ', '서울특별시 강남구 강남대로 328 (역삼동)', '1522-3232', '37.492396', '127.030910', '리저브 매장 2번'], ['학동사거리  ', '서울특별시 강남구 도산대로 328 (논현동)', '1522-3232', '37.52236449999999', '127.03795430000002', '리저브 매장 2번'], ['대치사거리  ', '서울특별시 강남구 삼성로 402 (대치동)', '1522-3232', '37.503331', '127.058817', '리저브 매장 2번'], ['포스코사거리  ', '서울특별시 강남구 테헤란로 505 (삼성동) 화진빌딩', '1522-3232', '37.5075307', '127.05742710000004', '리저브 매장 2번'], ['을지병원사거리  ', '서울특별시 강남구 논현로 752 (논현동,구산빌딩)', '1522-3232', '37.5191632', '127.0286446', '리저브 매장 2번'], ['신사역  ', '서울특별시 강남구 도산대로 108 (논현동) 렉스타워', '1522-3232', '37.5162021', '127.0207428', '리저브 매장 2번'], ['도곡역  ', '서울특별시 강남구 남부순환로 2909 (대치동)', '1522-3232', '37.492167', '127.057398', '리저브 매장 2번'], ['서울세관사거리  ', '서울특별시 강남구 언주로 650 (논현동) 한국건설기술인협회', '1522-3232', '37.514887', '127.035653', '리저브 매장 2번'], ['청담사거리  ', '서울특별시 강남구 도산대로 458 (청담동) 리츠타워', '1522-3232', '37.5236351', '127.04686509999999', '리저브 매장 2번'], ['한티역  ', '서울특별시 강남구 도곡로 408, 디마크빌딩 101호 (대치동)', '1522-3232', '37.496801', '127.055055', '리저브 매장 2번'], ['역삼초교사거리  ', '서울특별시 강남구 역삼로 123 (역삼동)', '1522-3232', '37.4941059', '127.03299730000003', '리저브 매장 2번'], ['코엑스몰  ', '서울특별시 강남구 영동대로 513 (삼성동) 코엑스 O103호', '1522-3232', '37.513715', '127.059245', '리저브 매장 2번'], ['가로수길  ', '서울특별시 강남구 논현로175길 94, 1~2층 (신사동)', '1522-3232', '37.5231593', '127.02162499999997', '리저브 매장 2번'], ['역삼대로  ', '서울특별시 강남구 테헤란로 211, 한국고등교육재단빌딩 1층 (역삼동)', '1522-3232', '37.501623', '127.039375', '리저브 매장 2번'], ['역삼포스코  ', '서울특별시 강남구 테헤란로 134, P&amp;S TOWER (역삼동)', '1522-3232', '37.499721', '127.033582', '리저브 매장 2번'], ['강남대로  ', '서울특별시 강남구 강남대로 456, 한석타워 2층 1-2호 (역삼동)', '1522-3232', '37.50314', '127.025546', '리저브 매장 2번'], ['청담  ', '서울특별시 강남구 도산대로 532, 인희빌딩 1층 (청담동)', '1522-3232', '37.5243631', '127.05155990000003', '리저브 매장 2번'], ['삼성도심공항  ', '서울특별시 강남구 테헤란로87길 33 (삼성동)', '1522-3232', '37.5097863', '127.05791339999996', '리저브 매장 2번'], ['삼성교  ', '서울특별시 강남구 영동대로86길 12, 동남유화빌딩 1층', '1522-3232', '37.507794', '127.06517', '리저브 매장 2번'], ['학동역  ', '서울특별시 강남구 논현로 704 (논현동)', '1522-3232', '37.51464884', '127.0307302', '리저브 매장 2번'], ['대치  ', '서울특별시 강남구 도곡로 511 (대치동)', '1522-3232', '37.49966175', '127.0622171', '리저브 매장 2번'], ['기술센터  ', '서울특별시 강남구 테헤란로 305, 한국기술센터 1층 (역삼동)', '1522-3232', '37.50329211', '127.0436409', '리저브 매장 2번'], ['SSG마켓도곡R  ', '서울특별시 강남구 언주로30길 57, 타워팰리스Ⅱ F 지하1층 (도곡동)', '1522-3232', '37.490298', '127.054895', ''], ['삼성  ', '서울특별시 강남구 테헤란로 443, 애플트리타워 1층 (삼성동)', '1522-3232', '37.50703529', '127.0555503', '리저브 매장 2번'], ['선릉세화빌딩  ', '서울특별시 강남구 테헤란로64길 18, 세화빌딩 1층 (대치동)', '1522-3232', '37.50377562', '127.051196', '리저브 매장 2번'], ['압구정역  ', '서울특별시 강남구 압구정로 170, 관영빌딩 1층 지하1층 (신사동)', '1522-3232', '37.52674095', '127.0281105', '리저브 매장 2번'], ['압구정로  ', '서울특별시 강남구 압구정로42길 32 (신사동)', '1522-3232', '37.52680046', '127.0347174', '리저브 매장 2번'], ['구역삼사거리  ', '서울특별시 강남구 논현로 401 (역삼동)', '1522-3232', '37.49592355', '127.0388645', '리저브 매장 2번'], ['큰길타워  ', '서울특별시 강남구 테헤란로 223, 큰길타워빌딩 (역삼동)', '1522-3232', '37.50236693', '127.0407', '리저브 매장 2번'], ['강남구청역  ', '서울특별시 강남구 선릉로 669, 웰빙센터 1층 (논현동)', '1522-3232', '37.5165849', '127.04124330000002', '리저브 매장 2번'], ['대치역  ', '서울특별시 강남구 남부순환로 2936, 원플러스 상가107호 (대치동)', '1522-3232', '37.493554', '127.061874', '리저브 매장 2번'], ['포이  ', '서울특별시 강남구 논현로 88 (개포동)', '1522-3232', '37.47781106', '127.0451411', '리저브 매장 2번'], ['아크플레이스  ', '서울특별시 강남구 테헤란로 142 (역삼동)', '1522-3232', '37.49971982', '127.0349084', '리저브 매장 2번'], ['학여울역  ', '서울특별시 강남구 영동대로 215 (대치동)', '1522-3232', '37.49803646', '127.0684943', '리저브 매장 2번'], ['선정릉역  ', '서울특별시 강남구 봉은사로 407 (삼성동) 에프오빌딩', '1522-3232', '37.51075489999999', '127.04455970000003', '리저브 매장 2번'], ['삼성현대힐  ', '서울특별시 강남구 삼성로 605 (삼성동)', '1522-3232', '37.51354184', '127.0527183', '리저브 매장 2번'], ['GS타워  ', '서울특별시 강남구 논현로 508 (역삼동)', '1522-3232', '37.5018592', '127.03727759999992', '리저브 매장 2번'], ['압구정미소  ', '서울특별시 강남구 논현로 841 (신사동)', '1522-3232', '37.52405601', '127.027915', '리저브 매장 2번'], ['선릉역  ', '서울특별시 강남구 테헤란로 334, LG화재 빌딩 (역삼동)', '1522-3232', '37.50393894', '127.0485135', '리저브 매장 2번'], ['수서  ', '서울특별시 강남구 밤고개로1길 10 (수서동) 수서현대벤쳐빌 지하2층', '1522-3232', '37.48801132', '127.1017508', '리저브 매장 2번'], ['코엑스사거리  ', '서울특별시 강남구 영동대로 616 (삼성동)', '1522-3232', '37.515351', '127.060109', '리저브 매장 2번'], ['역삼럭키  ', '서울특별시 강남구 도곡로 183 (역삼동)', '1522-3232', '37.492209', '127.039389', '리저브 매장 2번'], ['차병원사거리  ', '서울특별시 강남구 봉은사로 213, 센트럴타워 (논현동)', '1522-3232', '37.508032', '127.035373', '리저브 매장 2번'], ['청담공원  ', '서울특별시 강남구 학동로 506 (삼성동)', '1522-3232', '37.5186549', '127.05143870000006', '리저브 매장 2번'], ['신압구정  ', '서울특별시 강남구 언주로174길 29 (신사동)', '1522-3232', '37.528115', '127.036441', '리저브 매장 2번'], ['아크로힐스논현  ', '서울특별시 강남구 봉은사로 304, 금강빌딩 1-2층 (역삼동)', '1522-3232', '37.50898041', '127.0403869', '리저브 매장 2번'], ['뱅뱅사거리  ', '서울특별시 강남구 강남대로 282 (도곡동)', '1522-3232', '37.488585', '127.032415', '리저브 매장 2번'], ['강남비젼타워  ', '서울특별시 강남구 테헤란로2길 27, 1층 101호 (역삼동)', '1522-3232', '37.4964557', '127.02968850000002', '리저브 매장 2번'], ['역삼역  ', '서울특별시 강남구 테헤란로 145, 우신빌딩 1층 (역삼동)', '1522-3232', '37.50080096', '127.0351577', '리저브 매장 2번'], ['압구정로데오역  ', '서울특별시 강남구 선릉로 836, 삼원빌딩 1,2층 (청담동)', '1522-3232', '37.526549', '127.040437', '리저브 매장 2번'], ['르네상스사거리  ', '서울특별시 강남구 테헤란로 306 (역삼동)', '1522-3232', '37.502721', '127.044308', '리저브 매장 2번'], ['포스코  ', '서울특별시 강남구 삼성로86길 7, 1층 (대치동)', '1522-3232', '37.50576', '127.057966', '리저브 매장 2번'], ['선릉로  ', '서울특별시 강남구 선릉로93길 22, 대흥빌딩 1층 (역삼동)', '1522-3232', '37.505053', '127.046577', '리저브 매장 2번'], ['논현힐탑  ', '서울특별시 강남구 논현로 648 (논현동)', '1522-3232', '37.5115577', '127.03226199999994', '리저브 매장 2번'], ['도산가로수길  ', '서울특별시 강남구 도산대로 134, 2층 (논현동)', '1522-3232', '37.51736229999999', '127.02329570000006', '리저브 매장 2번'], ['코엑스아셈타워  ', '서울특별시 강남구 영동대로 517 (삼성동)', '1522-3232', '37.513019', '127.059838', '리저브 매장 2번'], ['대치삼성프라자  ', '서울특별시 강남구 영동대로 237 (대치동)', '1522-3232', '37.500313', '127.066961', '리저브 매장 2번'], ['테헤란로아남타워  ', '서울특별시 강남구 테헤란로 311 (역삼동)', '1522-3232', '37.50383', '127.04487', '리저브 매장 2번'], ['미아뉴타운  ', '서울특별시 강북구 삼양로 161 (미아동)', '1522-3232', '37.618319', '127.021072', '리저브 매장 2번'], ['강북구청사거리  ', '서울특별시 강북구 도봉로 365 (수유동)', '1522-3232', '37.6400354', '127.0273766', '리저브 매장 2번'], ['미아사거리역  ', '서울특별시 강북구 도봉로 32 (미아동)', '1522-3232', '37.611809', '127.0306971', '리저브 매장 2번'], ['수유역  ', '서울특별시 강북구 도봉로 342 (번동)', '1522-3232', '37.6380167', '127.02613500000007', '리저브 매장 2번'], ['미아역  ', '서울특별시 강북구 도봉로 196 (미아동)', '1522-3232', '37.626148', '127.026578', '리저브 매장 2번'], ['발산역사거리  ', '서울특별시 강서구 공항대로 248 (마곡동)', '1522-3232', '37.558509', '126.835096', '리저브 매장 2번'], ['마곡역  ', '서울특별시 강서구 공항대로 168 (마곡동)', '1522-3232', '37.559611', '126.826298', '리저브 매장 2번'], ['우장산역  ', '서울특별시 강서구 강서로 267 (내발산동)', '1522-3232', '37.549501', '126.835984', '리저브 매장 2번'], ['마곡사이언스타워R  ', '서울특별시 강서구 마곡동로 62 (마곡동)', '1522-3232', '37.5605261', '126.833887', ''], ['방화DT  ', '서울특별시 강서구 방화대로 375 (방화동)', '1522-3232', '37.574339', '126.816415', ''], ['마곡나루역  ', '서울특별시 강서구 마곡중앙로 161-17 (마곡동)', '1522-3232', '37.56813', '126.82614', '리저브 매장 2번'], ['마곡GMG  ', '서울특별시 강서구 마곡중앙6로 16 (마곡동) 117,118,119,120호', '1522-3232', '37.560487', '126.829667', '리저브 매장 2번'], ['가양역  ', '서울특별시 강서구 양천로 476 (등촌동)', '1522-3232', '37.561640', '126.853327', '리저브 매장 2번'], ['화곡DT  ', '서울특별시 강서구 등촌로 57 (화곡동)', '1522-3232', '37.535149', '126.863232', ''], ['양천향교역  ', '서울특별시 강서구 강서로 463 (마곡동)', '1522-3232', '37.566964', '126.840731', '리저브 매장 2번'], ['화곡동  ', '서울특별시 강서구 화곡로 142(화곡동)', '1522-3232', '37.5405115', '126.8372413', '리저브 매장 2번'], ['등촌  ', '서울특별시 강서구 공항대로 329 (등촌동)', '1522-3232', '37.5582043', '126.84433919999992', '리저브 매장 2번'], ['염창역  ', '서울특별시 강서구 공항대로 627 (염창동)', '1522-3232', '37.547359', '126.874436', '리저브 매장 2번'], ['발산역  ', '서울특별시 강서구 강서로 388 (등촌동) 그랜드마트', '1522-3232', '37.56033', '126.839279', '리저브 매장 2번'], ['가양이마트  ', '서울특별시 강서구 양천로 559, 가양이마트 1층 (가양동)', '1522-3232', '37.5578966', '126.86229779999996', '리저브 매장 2번'], ['까치산역  ', '서울특별시 강서구 강서로13길 3 (화곡동)', '1522-3232', '37.532303', '126.846077', '리저브 매장 2번'], ['낙성대역  ', '서울특별시 관악구 남부순환로 1908 (봉천동)', '1522-3232', '37.477946', '126.961193', '리저브 매장 2번'], ['관악서울대입구R  ', '서울특별시 관악구 관악로 158 (봉천동)', '1522-3232', '37.479343', '126.952780', ''], ['신림DT  ', '서울특별시 관악구 남부순환로 1419 (신림동)', '1522-3232', '37.480935', '126.908407', ''], ['서울대역  ', '서울특별시 관악구 남부순환로 1817 (봉천동)', '1522-3232', '37.481599', '126.952200', '리저브 매장 2번'], ['낙성대DT  ', '서울특별시 관악구 남부순환로 1948 (봉천동)', '1522-3232', '37.476169', '126.965005', ''], ['사당  ', '서울특별시 관악구 남부순환로 2082-25', '1522-3232', '37.47601', '126.980997', ''], ['보라매대교  ', '서울특별시 관악구 보라매로3길 23, 대교빌딩 1층 (봉천동)', '1522-3232', '37.491449', '126.925432', '리저브 매장 2번'], ['신림사거리  ', '서울특별시 관악구 남부순환로 1619 (신림동)', '1522-3232', '37.484768', '126.930467', '리저브 매장 2번'], ['신림  ', '서울특별시 관악구 신림로 355-1 (신림동)', '1522-3232', '37.48609493', '126.9291602', '리저브 매장 2번'], ['신림역포도몰  ', '서울특별시 관악구 신림로 330, PODO MALL 1층 101 일부 (신림동)', '1522-3232', '37.48385383', '126.9301799', '리저브 매장 2번'], ['서울대입구역  ', '서울특별시 관악구 남부순환로 1812 (봉천동)', '1522-3232', '37.48118', '126.951324', '리저브 매장 2번'], ['건국대  ', '서울특별시 광진구 능동로 117 (화양동)', '1522-3232', '37.5415592', '127.0711244', '리저브 매장 2번'], ['어린이대공원역  ', '서울특별시 광진구 능동로243 ', '1522-3232', '37.551946', '127.076404', '리저브 매장 2번'], ['아차산역  ', '서울특별시 광진구 천호대로 676 ', '1522-3232', '37.5505388', '127.0898757', '리저브 매장 2번'], ['올림픽대교북단  ', '서울특별시 광진구 광나루로 608 (구의동)', '1522-3232', '37.541129', '127.095240', '리저브 매장 2번'], ['구의DT  ', '서울특별시 광진구 광나루로 519 (구의동)', '1522-3232', '37.5451984', '127.0871587', ''], ['자양사거리  ', '서울특별시 광진구 아차산로 355', '1522-3232', '37.5371158', '127.0825821', '리저브 매장 2번'], ['군자역  ', '서울특별시 광진구 천호대로 548 (군자동) 중앙빌딩', '1522-3232', '37.556965', '127.079032', '리저브 매장 2번'], ['광나루  ', '서울특별시 광진구 아차산로 607, 1,2층 (광장동)', '1522-3232', '37.547442', '127.105934', '리저브 매장 2번'], ['건대스타시티  ', '서울특별시 광진구 아차산로 262 (자양동)', '1522-3232', '37.538544', '127.073009', '리저브 매장 2번'], ['자양  ', '서울특별시 광진구 능동로 50 (자양동)', '1522-3232', '37.5354769', '127.06914619999998', '리저브 매장 2번'], ['강변역  ', '서울특별시 광진구 구의강변로 64 (구의동) 구의아크로리버', '1522-3232', '37.536155', '127.093086', '리저브 매장 2번'], ['건대입구  ', '서울특별시 광진구 능동로 107 (화양동)', '1522-3232', '37.5406604', '127.07072249999999', '리저브 매장 2번'], ['구의역  ', '서울특별시 광진구 아차산로 373 (구의동)', '1522-3232', '37.53698', '127.084015', '리저브 매장 2번'], ['광장  ', '서울특별시 광진구 아차산로 537-17 (광장동)', '1522-3232', '37.542518', '127.099651', '리저브 매장 2번'], ['건국클래식  ', '서울특별시 광진구 능동로 90 (자양동) 더 클래식500', '1522-3232', '37.538466', '127.071271', '리저브 매장 2번'], ['자양이마트  ', '서울시 광진구 아차산로 272 스타시티 지하1층 일부', '1522-3232', '37.537817', '127.072597', '리저브 매장 2번'], ['금천구청역  ', '서울특별시 금천구 시흥대로73길 67 엠타워 112,113,114,115호', '1522-3232', '37.455983', '126.895727', '리저브 매장 2번'], ['가산에스케이  ', '서울특별시 금천구 가산디지털1로 171 (가산동)', '1522-3232', '37.48061318', '126.8805702', '리저브 매장 2번'], ['독산사거리  ', '서울특별시 금천구 시흥대로 426 (독산동)', '1522-3232', '37.471511', '126.898775', '리저브 매장 2번'], ['금천시흥  ', '서울특별시 금천구 시흥대로 164 (시흥동)', '1522-3232', '37.448624', '126.903183', '리저브 매장 2번'], ['가산디지털단지역  ', '서울특별시 금천구 벚꽃로 298 (가산동)', '1522-3232', '37.481324', '126.883779', '리저브 매장 2번'], ['금천독산  ', '서울특별시 금천구 두산로 70 (독산동)', '1522-3232', '37.46914', '126.895246', '리저브 매장 2번'], ['가산디지털  ', '서울특별시 금천구 가산디지털1로 168 (가산동)', '1522-3232', '37.4798346', '126.88249969999992', '리저브 매장 2번'], ['W-Mall  ', '서울특별시 금천구 디지털로 188 (가산동)', '1522-3232', '37.47730499', '126.8876908', '리저브 매장 2번'], ['마리오아울렛  ', '서울특별시 금천구 벚꽃로 266 마리오아울렛3관', '1522-3232', '37.478701', '126.885076', '리저브 매장 2번'], ['가산브이타워  ', '서울특별시 금천구 가산디지털1로 128 (가산동)', '1522-3232', '37.477221', '126.883683', '리저브 매장 2번'], ['가산그레이트  ', '서울특별시 금천구 디지털로9길 32, 갑을그레이트밸리 1층 (가산동)', '1522-3232', '37.4794491', '126.88747680000006', '리저브 매장 2번'], ['월계역  ', '서울특별시 노원구 초안산로2라길26 월계동(104,105,106호)', '1522-3232', '37.6295', '127.0574', '리저브 매장 2번'], ['월계트레이더스  ', '서울특별시 노원구 마들로3길 15 ', '1522-3232', '37.6277053', '127.06149779999998', '리저브 매장 2번'], ['상계초교사거리  ', '서울특별시 노원구 노원로 449 ', '1522-3232', '37.656776', '127.066442 ', '리저브 매장 2번'], ['공릉DT  ', '서울특별시 노원구 동일로 1015 (공릉동)', '1522-3232', '37.6206884', '127.0743116', ''], ['노원마들역  ', '서울특별시 노원구 노원로 569 (상계동, 임광아파트)', '1522-3232', '37.660941', '127.058008', '리저브 매장 2번'], ['공릉역  ', '서울특별시 노원구 동일로 1081 (공릉동)', '1522-3232', '37.626337', '127.072252', '리저브 매장 2번'], ['은행사거리  ', '서울특별시 노원구 중계로 217, 중흥빌딩 103,203호 (중계동)', '1522-3232', '37.65048737', '127.0759861', '리저브 매장 2번'], ['노원KT  ', '서울특별시 노원구 노해로 502, (주)KT 노원사옥 (상계동)', '1522-3232', '37.654562', '127.063617', '리저브 매장 2번'], ['광운대  ', '서울특별시 노원구 석계로 104 (월계동)', '1522-3232', '37.6231479', '127.06070090000003', '리저브 매장 2번'], ['중계역  ', '서울특별시 노원구 동일로 1339, 대한빌딩 (상계동)', '1522-3232', '37.64817', '127.062244', '리저브 매장 2번'], ['노원역  ', '서울특별시 노원구 동일로 1413, 1층 (상계동)', '1522-3232', '37.654751', '127.060034', '리저브 매장 2번'], ['월계이마트  ', '서울특별시 노원구 마들로3길 15 (월계동)', '1522-3232', '37.627155', '127.062094', '리저브 매장 2번'], ['창동이마트  ', '서울특별시 도봉구 노해로65길 4 (창동)', '1522-3232', '37.651645', '127.046869', '리저브 매장 2번'], ['쌍문역  ', '서울특별시 도봉구 도봉로 480 (창동)', '1522-3232', '37.648456', '127.034783', '리저브 매장 2번'], ['노량진동  ', '서울특별시 동작구 노량진로 190 (노량진동, 고려교육타워-어바니엘한강) 101호~105호', '1522-3232', '37.513068', '126.946537', '리저브 매장 2번'], ['남성역  ', '서울특별시 동작구 사당로 219 (사당동)', '1522-3232', '37.4841198', '126.9725739', '리저브 매장 2번'], ['상도역  ', '서울특별시 동작구 상도로37길 1 (상도1동)', '1522-3232', '37.5031936', '126.9484581', '리저브 매장 2번'], ['보라매공원R  ', '서울특별시 동작구 보라매로5길 35 (신대방동, 파크스퀘어,보라매현대APT)', '1522-3232', '37.49226212712864', '126.92334570798292', ''], ['이수자이  ', '서울특별시 동작구 사당로 300 (사당동 이수자이)', '1522-3232', '37.484414', '126.980047', '리저브 매장 2번'], ['노량진역  ', '서울특별시 동작구 노량진로 134 (노량진동)', '1522-3232', '37.513390', '126.940879', '리저브 매장 2번'], ['신대방삼거리역  ', '서울특별시 동작구 상도로 102 (상도동)', '1522-3232', '37.499914', '126.931766', '리저브 매장 2번'], ['중앙대  ', '서울특별시 동작구 흑석로 75-1 (흑석동)', '1522-3232', '37.506933', '126.958125', '리저브 매장 2번'], ['숭실대입구역  ', '서울특별시 동작구 상도로 354 (상도동)', '1522-3232', '37.4968346', '126.95271230000003', '리저브 매장 2번'], ['숭실대  ', '서울특별시 동작구 사당로 4 (상도동)', '1522-3232', '37.49538073', '126.9548891', '리저브 매장 2번'], ['사당역  ', '서울특별시 동작구 동작대로 21, 양지빌딩 1-3층 (사당동)', '1522-3232', '37.47849216', '126.9813456', '리저브 매장 2번'], ['서강대프라자  ', '서울특별시 마포구 백범로 35 (신수동)', '1522-3232', '37.551073', '126.943096', '리저브 매장 2번'], ['상암YTN  ', '서울특별시 마포구 상암산로 76 (상암동)', '1522-3232', '37.579183', '126.892315', '리저브 매장 2번'], ['마포용강동  ', '서울특별시 마포구 토정로 295 (용강동)', '1522-3232', '37.541186', '126.942209', '리저브 매장 2번'], ['홍대입구역사거리R  ', '서울특별시 마포구 양화로 125 (서교동)', '1522-3232', '37.554636', '126.92036', ''], ['마포경찰서후문  ', '서울특별시 마포구 마포대로 173-14 (아현동)', '1522-3232', '37.550800', '126.953432', '리저브 매장 2번'], ['공덕  ', '서울특별시 마포구 마포대로 130 (공덕동)', '1522-3232', '37.545913', '126.952956', '리저브 매장 2번'], ['합정폴리스R  ', '서울특별시 마포구 양화로 45 (서교동, 메세나폴리스)', '1522-3232', '37.5509', '126.9134', ''], ['홍대공항철도역  ', '서울특별시 마포구 양화로 178 (동교동)', '1522-3232', '37.557491', '126.925146', '리저브 매장 2번'], ['마포염리  ', '서울특별시 마포구 독막로 311 (염리동)', '1522-3232', '37.543876', '126.947680', '리저브 매장 2번'], ['서강광흥창역  ', '서울특별시 마포구 서강로 69 (창전동)', '1522-3232', '37.549377', '126.931661', '리저브 매장 2번'], ['합정  ', '서울특별시 마포구 월드컵로1길 14 (합정동) 마포한강푸르지오 110, 111, 112-2', '1522-3232', '37.549630', '126.912999', '리저브 매장 2번'], ['서강대흥역  ', '서울특별시 마포구 백범로 89-5 (대흥동)', '1522-3232', '37.548178', '126.941576', '리저브 매장 2번'], ['서교동사거리  ', '서울특별시 마포구 양화로 105 (서교동)', '1522-3232', '37.553376', '126.918564', '리저브 매장 2번'], ['상암사보이시티  ', '서울특별시 마포구 월드컵북로54길 17 (상암동)', '1522-3232', '37.581470', '126.888983', '리저브 매장 2번'], ['신촌오거리  ', '서울특별시 마포구 신촌로16길 10 (노고산동)', '1522-3232', '37.555137', '126.934694', '리저브 매장 2번'], ['상암디지털큐브  ', '서울특별시 마포구 상암산로 34', '1522-3232', '37.5763132', '126.8892477', '리저브 매장 2번'], ['상수역  ', '서울특별시 마포구 독막로 88 (상수동)', '1522-3232', '37.5474817', '126.92321579999998', '리저브 매장 2번'], ['공덕오거리  ', '서울특별시 마포구 마포대로 86 (도화동) 창강빌딩', '1522-3232', '37.5424641', '126.95057730000008', '리저브 매장 2번'], ['서교  ', '서울특별시 마포구 양화로 78 (서교동) 서교빌딩 1층', '1522-3232', '37.551385', '126.9169208', '리저브 매장 2번'], ['서강대  ', '서울특별시 마포구 백범로 23 (신수동)', '1522-3232', '37.5524584', '126.9378262', '리저브 매장 2번'], ['상암MBC  ', '서울특별시 마포구 성암로 267 (상암동)', '1522-3232', '37.581297', '126.890908', '리저브 매장 2번'], ['홍대역  ', '서울특별시 마포구 양화로 165, 상진빌딩 1층 (동교동)', '1522-3232', '37.557175', '126.923654', '리저브 매장 2번'], ['동교  ', '서울특별시 마포구 월드컵북로 22, 영준빌딩 1층 (동교동)', '1522-3232', '37.556928', '126.919819', '리저브 매장 2번'], ['애오개역  ', '서울특별시 마포구 마포대로 201, 마포트라팰리스II (아현동)', '1522-3232', '37.55218737', '126.9555203', '리저브 매장 2번'], ['홍대갤러리  ', '서울특별시 마포구 와우산로 101, 정명빌딩 (서교동)', '1522-3232', '37.55328184', '126.9248279', '리저브 매장 2번'], ['상암DMC  ', '서울특별시 마포구 월드컵북로 375, DMC이안오피스텔1단지 102호,202호 (상암동)', '1522-3232', '37.577623', '126.890684', '리저브 매장 2번'], ['마포일진빌딩  ', '서울특별시 마포구 마포대로 45, 일진빌딩 1층 (도화동)', '1522-3232', '37.54043451', '126.9463168', '리저브 매장 2번'], ['마포아크로  ', '서울특별시 마포구 마포대로 68 (도화동) 마포아크로타워', '1522-3232', '37.54145556', '126.948819', '리저브 매장 2번'], ['홍대삼거리  ', '서울특별시 마포구 와우산로 64 (상수동)', '1522-3232', '37.550266', '126.923179', '리저브 매장 2번'], ['망원역  ', '서울특별시 마포구 월드컵로 74 (서교동)', '1522-3232', '37.555829', '126.910637', '리저브 매장 2번'], ['마포이마트  ', '서울특별시 마포구 백범로 212 (신공덕동) 마포이마트', '1522-3232', '37.542421', '126.953341', '리저브 매장 2번'], ['합정메세나몰  ', '서울특별시 마포구 양화로 45 (서교동, 메세나폴리스)', '1522-3232', '37.551004', '126.913848', '리저브 매장 2번'], ['홍대역8번출구  ', '서울특별시 마포구 양화로 166 (동교동)', '1522-3232', '37.556743503599', '126.924166543608', '리저브 매장 2번'], ['가재울뉴타운  ', '서울특별시 서대문구 가재울미래로 2 ', '1522-3232', '37.5749841', '126.9164441', '리저브 매장 2번'], ['남가좌사거리  ', '서울특별시 서대문구 거북골로 84 (남가좌동, DMC에코자이104동)', '1522-3232', '37.577386', '126.920815', '리저브 매장 2번'], ['신촌역  ', '서울특별시 서대문구 신촌로 73 (창천동)', '1522-3232', '37.556167', '126.934673', '리저브 매장 2번'], ['연희동  ', '서울특별시 서대문구 연희로 97 (연희동)', '1522-3232', '37.566702', '126.930475', '리저브 매장 2번'], ['아현역  ', '서울특별시 서대문구 신촌로35길 10 (북아현동, E편한세상신촌 4단지)', '1522-3232', '37.558421', '126.956349', '리저브 매장 2번'], ['홍제역  ', '서울특별시 서대문구 통일로 451 (홍제동)', '1522-3232', '37.588658', '126.943864', '리저브 매장 2번'], ['연세백양로  ', '서울특별시 서대문구 연세로 50 (신촌동) 연세대학교', '1522-3232', '37.562644', '126.937529', '리저브 매장 2번'], ['연희DT  ', '서울특별시 서대문구 연희로 144 (연희동)', '1522-3232', '37.5702143', '126.9339777', ''], ['경기대  ', '서울특별시 서대문구 충정로 53 (충정로2가)', '1522-3232', '37.56367995', '126.9646045', '리저브 매장 2번'], ['신촌  ', '서울특별시 서대문구 연세로 10-1 (창천동)', '1522-3232', '37.55648577', '126.9371155', '리저브 매장 2번'], ['이대R  ', '서울특별시 서대문구 이화여대길 34 (대현동)', '1522-3232', '37.55848315', '126.9459643', ''], ['연세종합관  ', '서울특별시 서대문구 연세로 50, 연세세브란스 종합관 (신촌동)', '1522-3232', '37.56177145', '126.9414708', '리저브 매장 2번'], ['이대ECC  ', '서울특별시 서대문구 이화여대길 52 (대현동) 이화여자대학교 B415호', '1522-3232', '37.561631', '126.947350', '리저브 매장 2번'], ['연대  ', '서울특별시 서대문구 연세로 35 (창천동)', '1522-3232', '37.558706', '126.936727', '리저브 매장 2번'], ['신촌아트레온  ', '서울특별시 서대문구 신촌로 129 (창천동)', '1522-3232', '37.556505', '126.940238', '리저브 매장 2번'], ['충정로역  ', '서울특별시 서대문구 충정로 23', '1522-3232', '37.56137', '126.963219', '리저브 매장 2번'], ['연대동문  ', '서울특별시 서대문구 성산로 565 (대신동)', '1522-3232', '37.566385', '126.946273', '리저브 매장 2번'], ['신촌명물거리  ', '서울특별시 서대문구 명물길 24, 1-5층 (창천동)', '1522-3232', '37.557796', '126.938095', '리저브 매장 2번'], ['충정타워  ', '서울특별시 서대문구 서소문로 21, 충정타워빌딩 1층 (충정로3가)', '1522-3232', '37.559869', '126.964110', '리저브 매장 2번'], ['방배로  ', '서울특별시 서초구 방배로 52 (방배동)', '1522-3232', '37.4793434', '126.9994968', '리저브 매장 2번'], ['강남교보타워R  ', '서울특별시 서초구 강남대로 465 (서초동)', '1522-3232', '37.503789', '127.024075', ''], ['방배다이치빌딩  ', '서울특별시 서초구 방배로 114 (방배동)', '1522-3232', '37.484329', '126.995872', '리저브 매장 2번'], ['센트럴F1  ', '서울특별시 서초구 신반포로 176 (반포동)', '1522-3232', '37.505148', '127.004395', '리저브 매장 2번'], ['서초역이화빌딩  ', '서울특별시 서초구 반포대로21길 3 (서초동)', '1522-3232', '37.487931', '127.009126', '리저브 매장 2번'], ['서초구청  ', '서울특별시 서초구 남부순환로 2557 (서초동)', '1522-3232', '37.484206', '127.030103', '리저브 매장 2번'], ['서초우성사거리  ', '서울특별시 서초구 강남대로 343 (서초동)', '1522-3232', '37.493545', '127.029430', '리저브 매장 2번'], ['이수역사거리  ', '서울특별시 서초구 서초대로 3-4 (방배동, 방배디오슈페리움1)', '1522-3232', '37.485850', '126.983027', '리저브 매장 2번'], ['강남대로신사  ', '서울특별시 서초구 강남대로 595 (잠원동)', '1522-3232', '37.514890', '127.019469', '리저브 매장 2번'], ['서울고속터미널  ', '서울특별시 서초구 신반포로 194 (반포동)', '1522-3232', '37.504406', '127.005648', '리저브 매장 2번'], ['강남대로논현R  ', '서울특별시 서초구 강남대로85길 5 (반포동)', '1522-3232', '37.507413', '127.022568', ''], ['방배  ', '서울특별시 서초구 방배로 211', '1522-3232', '37.491914', '126.99049739999998', '리저브 매장 2번'], ['방배카페거리  ', '서울특별시 서초구 방배중앙로 162 (방배동)', '1522-3232', '37.4934767', '126.9865297', '리저브 매장 2번'], ['서초법원  ', '서울특별시 서초구 서초대로 274 (서초동)', '1522-3232', '37.492970', '127.011875', '리저브 매장 2번'], ['청계산입구역  ', '서울특별시 서초구 청계산로 203 (신원동)', '1522-3232', '37.447323', '127.056250', '리저브 매장 2번'], ['사당로데오  ', '서울특별시 서초구 방배천로 5-4(방배동)', '1522-3232', '37.4772752', '126.98216049999996', '리저브 매장 2번'], ['파미에파크R  ', '서울특별시 서초구 사평대로 205 (반포동) CENTRALCITY', '1522-3232', '37.5030521', '127.004362', ''], ['교대역  ', '서울특별시 서초구 서초중앙로 138 (서초동) 우림빌딩', '1522-3232', '37.494207', '127.01394', '리저브 매장 2번'], ['양재역  ', '서울특별시 서초구 강남대로 202 (양재동) 모산빌딩', '1522-3232', '37.4820475', '127.0367682', ''], ['논현역  ', '서울특별시 서초구 강남대로 557 (잠원동) 1~2층', '1522-3232', '37.5111983', '127.0205875', '리저브 매장 2번'], ['이수역  ', '서울특별시 서초구 동작대로 112 (방배동)', '1522-3232', '37.4864664', '126.98274029999993', ''], ['내방역  ', '서울특별시 서초구 방배로 184 (방배동) 대풍빌딩', '1522-3232', '37.490004', '126.992455', '리저브 매장 2번'], ['서초파라곤  ', '서울특별시 서초구 서초대로74길 29 (서초동) 서초파라곤', '1522-3232', '37.494941', '127.027422', '리저브 매장 2번'], ['서울아트센터  ', '서울특별시 서초구 남부순환로 2395 (서초동) 호경빌딩', '1522-3232', '37.480866', '127.012368', '리저브 매장 2번'], ['서초중앙로  ', '서울특별시 서초구 서초중앙로 225', '1522-3232', '37.501691', '127.01152', '리저브 매장 2번'], ['센트럴시티  ', '서울특별시 서초구 신반포로 176 (반포동)', '1522-3232', '37.504707', '127.004459', '리저브 매장 2번'], ['강남삼성타운  ', '서울특별시 서초구 서초대로78길 24 (서초동)', '1522-3232', '37.49562035', '127.0277144', '리저브 매장 2번'], ['방배역  ', '서울특별시 서초구 방배로 84 (방배동)', '1522-3232', '37.48200755', '126.9976438', '리저브 매장 2번'], ['반포역  ', '서울특별시 서초구 신반포로 257 (잠원동) 신반포11차상가', '1522-3232', '37.508589', '127.011959', '리저브 매장 2번'], ['남부터미널  ', '서울특별시 서초구 서초중앙로 26, 래미안서초유니빌 1층 101호 (서초동)', '1522-3232', '37.48467334', '127.0169464', '리저브 매장 2번'], ['뉴코아강남  ', '서울특별시 서초구 잠원로 69 (잠원동) 킴스클럽', '1522-3232', '37.51031339', '127.0069582', '리저브 매장 2번'], ['강남2  ', '서울특별시 서초구 서초대로77길 27, 유빌딩 1,2층 (서초동)', '1522-3232', '37.5000875', '127.02549090000002', '리저브 매장 2번'], ['교대  ', '서울특별시 서초구 서초중앙로 118 (서초동)', '1522-3232', '37.4923611', '127.0142207', '리저브 매장 2번'], ['하이브랜드  ', '서울특별시 서초구 매헌로 16, 리빙관 101호 (양재동)', '1522-3232', '37.46330766', '127.0368447', '리저브 매장 2번'], ['신논현역  ', '서울특별시 서초구 강남대로 483 (반포동) 청호빌딩', '1522-3232', '37.50529', '127.023636', '리저브 매장 2번'], ['영동2교  ', '서울특별시 서초구 논현로 139, 대흥빌딩 (양재동)', '1522-3232', '37.48203954', '127.0425748', '리저브 매장 2번'], ['남부터미널2  ', '서울특별시 서초구 효령로 274 (서초동)', '1522-3232', '37.48436736', '127.0142192', '리저브 매장 2번'], ['서래마을입구  ', '서울특별시 서초구 서래로 48 (반포동)', '1522-3232', '37.49925284', '126.9984801', '리저브 매장 2번'], ['몬테소리  ', '서울특별시 서초구 강남대로 399 (서초동)', '1522-3232', '37.4982695', '127.026865', '리저브 매장 2번'], ['서초역  ', '서울특별시 서초구 반포대로 118 (서초동)', '1522-3232', '37.49067495', '127.0086118', '리저브 매장 2번'], ['예술의전당  ', '서울특별시 서초구 남부순환로323길 1, 1층 (서초동)', '1522-3232', '37.48115265', '127.0134724', '리저브 매장 2번'], ['교대법원  ', '서울특별시 서초구 서초중앙로 164 (서초동)', '1522-3232', '37.496329', '127.013336', '리저브 매장 2번'], ['강남GT타워  ', '서울특별시 서초구 서초대로 411, GT타워 (서초동)', '1522-3232', '37.498056', '127.02583300000003', '리저브 매장 2번'], ['서초동  ', '서울특별시 서초구 남부순환로339길 64, 현우빌딩 1층 (서초동)', '1522-3232', '37.485941', '127.021525', '리저브 매장 2번'], ['서울교대  ', '서울특별시 서초구 서초중앙로 64, 1층 (서초동)', '1522-3232', '37.487397', '127.015134', '리저브 매장 2번'], ['강남에비뉴  ', '서울특별시 서초구 서초대로77길 62, 강남역아이파크 B102~B105 (서초동)', '1522-3232', '37.5027', '127.023894', '리저브 매장 2번'], ['서울웨이브아트센터  ', '서울특별시 서초구 잠원로 145-35 (잠원동)', '1522-3232', '37.518807', '127.007040', '리저브 매장 2번'], ['길음역  ', '서울특별시 성북구 정릉로 376 (돈암동)', '1522-3232', '37.602139', '127.025271', '리저브 매장 2번'], ['미아이마트  ', '서울특별시 성북구 도봉로 17 ', '1522-3232', '37.610678', '127.029921', '리저브 매장 2번'], ['종암DT  ', '서울특별시 성북구 종암로 17 (종암동)', '1522-3232', '37.5919525', '127.0360401', ''], ['미아  ', '서울특별시 성북구 동소문로 314 (하월곡동)', '1522-3232', '37.607581', '127.029303', '리저브 매장 2번'], ['성신여대정문  ', '서울특별시 성북구 보문로34길 62 (동선동2가)', '1522-3232', '37.590910', '127.018800', '리저브 매장 2번'], ['종암  ', '서울특별시 성북구 종암로 122 (종암동)', '1522-3232', '37.601095', '127.033847', '리저브 매장 2번'], ['삼선교  ', '서울특별시 성북구 동소문로 10 (동소문동2가)', '1522-3232', '37.588696', '127.00732070000003', '리저브 매장 2번'], ['월곡역  ', '서울특별시 성북구 화랑로 76, 101-1호 (하월곡동)', '1522-3232', '37.601718', '127.040446', '리저브 매장 2번'], ['고대  ', '서울특별시 성북구 고려대로 24길 51 (안암동5가)', '1522-3232', '37.58397192', '127.0297352', '리저브 매장 2번'], ['현대미아  ', '서울특별시 성북구 동소문로 315, 현대백화점미아점 지하 1층 (길음동)', '1522-3232', '37.60837822', '127.0287483', '리저브 매장 2번'], ['성신여대  ', '서울특별시 성북구 동소문로24길 12 (동선동1가)', '1522-3232', '37.593135', '127.018379', '리저브 매장 2번'], ['안암역  ', '서울특별시 성북구 고려대로 102-2 (안암동5가)', '1522-3232', '37.586319', '127.030556', '리저브 매장 2번'], ['한성대입구역  ', '서울특별시 성북구 성북로 11 (성북동1가)', '1522-3232', '37.589054', '127.004839', '리저브 매장 2번'], ['송파나루역DT  ', '서울특별시 송파구 오금로 142 (송파동)', '1522-3232', '37.510793', '127.1102658', ''], ['송파헬리오시티  ', '서울특별시 송파구 송파대로 345 (가락동, 헬리오시티)', '1522-3232', '37.4978563', '127.1031325', '리저브 매장 2번'], ['잠실시그마타워  ', '서울특별시 송파구 올림픽로 289 (신천동)', '1522-3232', '37.514567', '127.102493', '리저브 매장 2번'], ['문정법원로R  ', '서울특별시 송파구 송파대로 201 (문정동)', '1522-3232', '37.487447', '127.119164', ''], ['송파개롱역  ', '서울특별시 송파구 오금로 420 (가락동)', '1522-3232', '37.496956', '127.13652', '리저브 매장 2번'], ['문정하비오  ', '서울특별시 송파구 송파대로 111 (문정동, 파크하비오) 204동 104호~107호', '1522-3232', '37.481925', '127.123446', '리저브 매장 2번'], ['문정역  ', '서울특별시 송파구 송파대로 167 (문정동)테라타워 B동 137호~139호,204호', '1522-3232', '37.484813', '127.122237', '리저브 매장 2번'], ['잠실대교남단R  ', '서울특별시 송파구 송파대로 570 타워 730 1층', '1522-3232', '37.515511', '127.099006', ''], ['송파위례  ', '서울특별시 송파구 위례광장로 230 (장지동, 위례2차아이파크)', '1522-3232', '37.478264', '127.144067', '리저브 매장 2번'], ['송파방이DT  ', '서울특별시 송파구 오금로 241 (방이동)', '1522-3232', '37.506564', '127.120495', ''], ['송파구청  ', '서울특별시 송파구 오금로 87 (방이동)', '1522-3232', '37.514573', '127.107404', '리저브 매장 2번'], ['올림픽평화의문  ', '서울특별시 송파구 위례성대로 38 (방이동) 해태그린피아빌라트', '1522-3232', '37.5156426', '127.11648190000005', '리저브 매장 2번'], ['송파아이파크  ', '서울특별시 송파구 법원로 55 (문정동)', '1522-3232', '37.479892', '127.122379', '리저브 매장 2번'], ['송파사거리  ', '서울특별시 송파구 송파대로 386 (송파동)', '1522-3232', '37.5022788', '127.1103904', '리저브 매장 2번'], ['석촌서호  ', '서울특별시 송파구 석촌호수로 176 (삼전동)', '1522-3232', '37.5063929', '127.0964684', '리저브 매장 2번'], ['문정로데오  ', '서울특별시 송파구 동남로 141 (가락동)', '1522-3232', '37.491905', '127.1262696', '리저브 매장 2번'], ['올림픽훼미리  ', '서울특별시 송파구 중대로 68 (문정동)', '1522-3232', '37.491626', '127.116308', '리저브 매장 2번'], ['올림픽공원남문  ', '서울특별시 송파구 위례성대로 102 (방이동)', '1522-3232', '37.5133', '127.123113', '리저브 매장 2번'], ['방이역  ', '서울특별시 송파구 마천로 53, 1~2층 (오금동)', '1522-3232', '37.508666', '127.126569', '리저브 매장 2번'], ['석촌호수  ', '서울특별시 송파구 석촌호수로 262 (송파동)', '1522-3232', '37.509581', '127.104993', '리저브 매장 2번'], ['잠실푸르지오월드  ', '서울특별시 송파구 올림픽로35가길 9, 잠실푸르지오월드마크 1층 (신천동)', '1522-3232', '37.517649', '127.103426', '리저브 매장 2번'], ['잠실새내역  ', '서울특별시 송파구 올림픽로 96 (잠실동)', '1522-3232', '37.511679', '127.081062', '리저브 매장 2번'], ['잠실역  ', '서울특별시 송파구 송파대로 562, 한빛프라자 1층, 2층 (신천동)', '1522-3232', '37.515272', '127.099231', '리저브 매장 2번'], ['갤러리아팰리스  ', '서울특별시 송파구 올림픽로 212, 갤러리아 팰리스 (잠실동)', '1522-3232', '37.51108365', '127.0938059', '리저브 매장 2번'], ['아시아선수촌  ', '서울특별시 송파구 백제고분로 69 (잠실동)', '1522-3232', '37.510590', '127.079047', '리저브 매장 2번'], ['올림픽아파트  ', '서울특별시 송파구 양재대로 1222 (방이동)', '1522-3232', '37.515315', '127.133237', '리저브 매장 2번'], ['가락본동  ', '서울특별시 송파구 송파대로30길 13 (가락동)', '1522-3232', '37.494895', '127.118785', '리저브 매장 2번'], ['석촌역  ', '서울특별시 송파구 백제고분로 358, 1층 (석촌동)', '1522-3232', '37.5042626', '127.10610769999994', '리저브 매장 2번'], ['가락시장역  ', '서울특별시 송파구 중대로 121, 롯데캐슬 파인힐 1층 (가락동)', '1522-3232', '37.494299', '127.121354', '리저브 매장 2번'], ['가든파이브  ', '서울특별시 송파구 충민로 10 (문정동) 가든파이브툴', '1522-3232', '37.4782316', '127.11937030000001', '리저브 매장 2번'], ['몽촌토성역  ', '서울특별시 송파구 위례성대로 6 ', '1522-3232', '37.516913', '127.113127', '리저브 매장 2번'], ['송파마천사거리DT  ', '서울특별시 송파구 거마로 78 (마천동)', '1522-3232', '37.499829', '127.147672', ''], ['목동파리공원  ', '서울특별시 양천구 목동동로 377 (목동)', '1522-3232', '37.535336', '126.878852', '리저브 매장 2번'], ['등촌역  ', '서울특별시 양천구 공항대로 566 (목동) 1층 2층', '1522-3232', '37.548884', '126.868070', '리저브 매장 2번'], ['목동행복한  ', '서울특별시 양천구 목동동로 309 (목동)', '1522-3232', '37.529147', '126.876099', '리저브 매장 2번'], ['신정DT  ', '서울특별시 양천구 신월로 341 (신정동)', '1522-3232', '37.521993', '126.858865', ''], ['목동역  ', '서울특별시 양천구 목동로 203 (신정동) 1층일부', '1522-3232', '37.526684', '126.863986', '리저브 매장 2번'], ['목동오목로  ', '서울특별시 양천구 오목로 279 (목동) 102,103,104,105호', '1522-3232', '37.525923', '126.868438', '리저브 매장 2번'], ['목동8단지  ', '서울특별시 양천구 목동서로 299 (신정동)', '1522-3232', '37.520518', '126.868841', '리저브 매장 2번'], ['오목교역  ', '서울특별시 양천구 오목로 354 (목동)', '1522-3232', '37.5235882', '126.87652120000007', '리저브 매장 2번'], ['신월IC DT  ', '서울특별시 양천구 남부순환로 430 (신월동)', '1522-3232', '37.5294984', '126.831983', ''], ['목동7단지  ', '서울특별시 양천구 목동서로 213 (목동) 세신비젼프라자', '1522-3232', '37.528012', '126.87053', '리저브 매장 2번'], ['목동5단지  ', '서울특별시 양천구 목동동로 411, 1동 116호(목동, 부영그린타운3차)', '1522-3232', '37.536706', '126.88212', '리저브 매장 2번'], ['목동  ', '서울특별시 양천구 목동서로 67 (목동) 우성에펠타운', '1522-3232', '37.53638383', '126.8785597', '리저브 매장 2번'], ['현대목동  ', '서울특별시 양천구 목동동로 257, 현대백화점목동점 지하 2층 (목동)', '1522-3232', '37.526848', '126.875023', '리저브 매장 2번'], ['목동파라곤  ', '서울특별시 양천구 목동서로 155, 목동파라곤 1층 (목동)', '1522-3232', '37.52947', '126.874996', '리저브 매장 2번'], ['목동트라팰리스  ', '서울특별시 양천구 오목로 299 (목동)', '1522-3232', '37.5255', '126.8702', '리저브 매장 2번'], ['타임스퀘어R  ', '서울특별시 영등포구 영중로 15 지하 1층 (영등포동4가)', '1522-3232', '37.517139', '126.903606', ''], ['샛강역  ', '서울특별시 영등포구 여의대방로 376 (여의도동)', '1522-3232', '37.5183551', '126.9312716', '리저브 매장 2번'], ['영등포역  ', '서울특별시 영등포구 경인로 870 (영등포동1가)', '1522-3232', '37.5169614', '126.9091390', '리저브 매장 2번'], ['당산대로  ', '서울특별시 영등포구 양평로 22 (당산동6가)', '1522-3232', '37.533121', '126.903804', '리저브 매장 2번'], ['여의도IFC몰(L1)R  ', '서울특별시 영등포구 국제금융로 10 (여의도동)  지하1층 178호', '1522-3232', '37.525127', '126.925508', ''], ['여의도KBS R  ', '서울특별시 영등포구 의사당대로 26 (여의도동)', '1522-3232', '37.526596', '126.918456', ''], ['여의도화재보험  ', '서울특별시 영등포구 국제금융로6길 38 (여의도동)', '1522-3232', '37.521345', '126.926004', '리저브 매장 2번'], ['국회대로  ', '서울특별시 영등포구 국회대로 786 (여의도동)', '1522-3232', '37.530260', '126.919549', '리저브 매장 2번'], ['영등포KT  ', '서울특별시 영등포구 영중로 119 (영등포동8가)', '1522-3232', '37.526419', '126.905314', '리저브 매장 2번'], ['여의도공원R  ', '서울특별시 영등포구 여의공원로 101 (여의도동)', '1522-3232', '37.529231', '126.924872', ''], ['국회의사당역  ', '서울특별시 영등포구 의사당대로 8 (여의도동)', '1522-3232', '37.527831', '126.916882', '리저브 매장 2번'], ['선유도역  ', '서울특별시 영등포구 양평로 115 (양평동4가)', '1522-3232', '37.537268', '126.894594', '리저브 매장 2번'], ['여의도역R  ', '서울특별시 영등포구 의사당대로 83 (여의도동) 1층', '1522-3232', '37.523328', '126.923439', ''], ['선유동이레빌딩  ', '서울특별시 영등포구 선유동2로 57 (양평제1동) 이레빌딩', '1522-3232', '37.534109', '126.896912', '리저브 매장 2번'], ['동여의도  ', '서울특별시 영등포구 국제금융로 86 (여의도동) 롯데캐슬 아이비', '1522-3232', '37.5199494', '126.9317957', '리저브 매장 2번'], ['여의도ABL타워  ', '서울특별시 영등포구 의사당대로 147 (여의도동) 알리안츠타워', '1522-3232', '37.518749', '126.92779', '리저브 매장 2번'], ['영등포신길DT  ', '서울특별시 영등포구 신길로 137 (신길동) 1,2층', '1522-3232', '37.504566', '126.910073', ''], ['문래역  ', '서울특별시 영등포구 당산로 34 (문래동3가)', '1522-3232', '37.517446', '126.895258', '리저브 매장 2번'], ['당산  ', '서울특별시 영등포구 양평로 64 (당산동6가)', '1522-3232', '37.535164', '126.899942', '리저브 매장 2번'], ['여의도한양증권  ', '서울특별시 영등포구 국제금융로6길 7 (여의도동) 한양증권', '1522-3232', '37.522418', '126.929093', '리저브 매장 2번'], ['여의도일신  ', '서울특별시 영등포구 은행로 11 (여의도동) 1층 1부', '1522-3232', '37.528', '126.920103', '리저브 매장 2번'], ['신세계타임스퀘어B2  ', '서울특별시 영등포구 영중로 9, 신세계타임스퀘어점 리빙관 지하2층 (영등포동4가)', '1522-3232', '37.517162', '126.905608', '리저브 매장 2번'], ['하이테크시티  ', '서울특별시 영등포구 경인로 775 (문래동3가) 에이스하이테크시티', '1522-3232', '37.51467062', '126.8986474', '리저브 매장 2번'], ['여의도  ', '서울특별시 영등포구 국제금융로2길 28 (여의도동)', '1522-3232', '37.52403519', '126.9245179', '리저브 매장 2번'], ['롯데캐슬여의도  ', '서울특별시 영등포구 의사당대로 127 (여의도동) 롯데캐슬앰파이어 1층 104호', '1522-3232', '37.52025214', '126.9263678', '리저브 매장 2번'], ['문래동  ', '서울특별시 영등포구 선유로 64, 대창타운빌 1층 (문래동3가)', '1522-3232', '37.519602', '126.889652', '리저브 매장 2번'], ['신세계타임스퀘어1F  ', '서울특별시 영등포구 영중로 9, 신세계백화점 리빙관 1층 (영등포동4가)', '1522-3232', '37.517162', '126.905608', '리저브 매장 2번'], ['여의도호성  ', '서울특별시 영등포구 여의대방로65길 24, 호성빌딩 1층 (여의도동)', '1522-3232', '37.520176', '126.929426', '리저브 매장 2번'], ['타임스퀘어B2  ', '서울특별시 영등포구 영중로 15, 지하2층 (영등포동4가)', '1522-3232', '37.516985', '126.903387', '리저브 매장 2번'], ['영등포본동  ', '서울특별시 영등포구 영등포로 254 (영등포동3가)', '1522-3232', '37.518713', '126.909559', '리저브 매장 2번'], ['타임스퀘어2F  ', '서울특별시 영등포구 영중로 15 지상2층 (영등포동4가)', '1522-3232', '37.516985', '126.903387', '리저브 매장 2번'], ['여의도의사당  ', '서울특별시 영등포구 국회대로74길 12, 남중빌딩 1층 (여의도동)', '1522-3232', '37.530023', '126.92109', '리저브 매장 2번'], ['여의도IFC(1F)  ', '서울특별시 영등포구 국제금융로 10 (여의도동)', '1522-3232', '37.525273', '126.924668', '리저브 매장 2번'], ['당산역사거리  ', '서울특별시 영등포구 양평로 47 (당산동5가)', '1522-3232', '37.533984', '126.901156', '리저브 매장 2번'], ['불광역  ', '서울특별시 은평구 통일로 715 ', '1522-3232', '37.6093820', '126.9303971', '리저브 매장 2번'], ['구파발사거리  ', '서울특별시 은평구 진관3로 21 은평엘크루 101동 105-108호', '1522-3232', '37.639617', '126.91881', '리저브 매장 2번'], ['연신내역사거리  ', '서울특별시 은평구 통일로 842 (불광동)', '1522-3232', '37.618620', '126.922062', '리저브 매장 2번'], ['연신내  ', '서울특별시 은평구 통일로 867 (갈현동)', '1522-3232', '37.620417', '126.919913', '리저브 매장 2번'], ['구파발역  ', '서울특별시 은평구 진관2로 12', '1522-3232', '37.63446', '126.918881', '리저브 매장 2번'], ['은평구청입구  ', '서울특별시 은평구 은평로 170 (응암동)', '1522-3232', '37.601042', '126.926789', '리저브 매장 2번'], ['은평이마트  ', '서울특별시 은평구 은평로 111 (응암동)', '1522-3232', '37.60037923', '126.9202735', '리저브 매장 2번'], ['구산역  ', '서울특별시 은평구 연서로 146 (대조동)', '1522-3232', '37.611745', '126.917678', '리저브 매장 2번'], ['연합뉴스  ', '서울특별시 종로구 율곡로2길 25 (수송동)', '1522-3232', '37.5743289', '126.9804590000005', '리저브 매장 2번'], ['혜화역  ', '서울특별시 종로구 대학로12길 4 1~2층', '1522-3232', '37.5824779', '127.0021850', '리저브 매장 2번'], ['경희궁로  ', '서울특별시 종로구 새문안로3길 15 (당주동)', '1522-3232', '37.571759', '126.972343', '리저브 매장 2번'], ['강북삼성병원  ', '서울특별시 종로구 새문안로 29 (평동)', '1522-3232', '37.568546', '126.967560', '리저브 매장 2번'], ['종로평창동  ', '서울특별시 종로구 평창12길 3 (평창동)', '1522-3232', '37.606149', '126.967213', '리저브 매장 2번'], ['광화문우체국  ', '서울특별시 종로구 종로 6 (서린동)', '1522-3232', '37.569854', '126.978083', '리저브 매장 2번'], ['더종로R  ', '서울특별시 종로구 종로 51 (종로2가)', '1522-3232', '37.570804', '126.983494', ''], ['독립문역  ', '서울특별시 종로구 송월길 155 경희궁자이 4단지 1층 팰리스애비뉴 4114~4119호', '1522-3232', '37.571432', '126.961269', '리저브 매장 2번'], ['정부서울청사R  ', '서울특별시 종로구 새문안로5가길 28 (적선동)', '1522-3232', '37.574411', '126.973571', ''], ['동묘앞역  ', '서울특별시 종로구 종로 344 (숭인동, 대우디오빌) 101호 일부, 201호 일부', '1522-3232', '37.572700', '127.016072', '리저브 매장 2번'], ['종로구청  ', '서울특별시 종로구 삼봉로 71 (수송동)', '1522-3232', '37.572662', '126.981138', '리저브 매장 2번'], ['북촌로  ', '서울특별시 종로구 북촌로4길 23 (계동)', '1522-3232', '37.579462', '126.986431', '리저브 매장 2번'], ['종로수송  ', '서울특별시 종로구 종로5길 30 (청진동) 1~3층', '1522-3232', '37.5714931', '126.9807831', '리저브 매장 2번'], ['새문안로  ', '서울특별시 종로구 새문안로 92 (신문로1가) 광화문오피시아빌딩', '1522-3232', '37.5696597', '126.9748903', '리저브 매장 2번'], ['안국  ', '서울특별시 종로구 북촌로 5-1 (재동)', '1522-3232', '37.577338', '126.985635', '리저브 매장 2번'], ['삼청동  ', '서울특별시 종로구 삼청로 111-1 (삼청동)', '1522-3232', '37.585381', '126.9817512', '리저브 매장 2번'], ['광화문D타워  ', '서울특별시 종로구 종로3길 17 (청진동) D타워', '1522-3232', '37.5714', '126.9788297', '리저브 매장 2번'], ['서울극장  ', '서울특별시 종로구 돈화문로 13 (관수동) 서울극장', '1522-3232', '37.56975769', '126.9917911', '리저브 매장 2번'], ['적선  ', '서울특별시 종로구 새문안로5길 55, 노스게이트빌딩 1층 (적선동)', '1522-3232', '37.57520431', '126.9739361', '리저브 매장 2번'], ['인사  ', '서울특별시 종로구 인사동길 14 (인사동)', '1522-3232', '37.5721293', '126.98703490000002', '리저브 매장 2번'], ['영풍문고  ', '서울특별시 종로구 청계천로 41 (서린동) 영풍빌딩', '1522-3232', '37.5695584', '126.9821243', '리저브 매장 2번'], ['광화문R  ', '서울특별시 종로구 세종대로 167, 현대해상본사사옥 별관내 (세종로)', '1522-3232', '37.5712293', '126.9762872', ''], ['성대입구  ', '서울특별시 종로구 창경궁로 235 (명륜3가)', '1522-3232', '37.582892', '126.998392', '리저브 매장 2번'], ['스페이스본  ', '서울특별시 종로구 사직로8길 4 (사직동) 광화문 풍림스페이스본', '1522-3232', '37.57532212', '126.9692494', '리저브 매장 2번'], ['주얼리시티  ', '서울특별시 종로구 종로 183 (인의동) 효성주얼리시티', '1522-3232', '37.57154914', '126.998705', '리저브 매장 2번'], ['종각  ', '서울특별시 종로구 종로 64 (종로2가)', '1522-3232', '37.5699183', '126.98452810000003', '리저브 매장 2번'], ['광교  ', '서울특별시 종로구 청계천로 59 (관철동)', '1522-3232', '37.568928', '126.9842163', '리저브 매장 2번'], ['동숭로아트  ', '서울특별시 종로구 동숭길 110 (동숭동)', '1522-3232', '37.582969', '127.003876', '리저브 매장 2번'], ['종로관철  ', '서울특별시 종로구 종로12길 21, 2층 (관철동)', '1522-3232', '37.569058', '126.986013', '리저브 매장 2번'], ['경복궁역  ', '서울특별시 종로구 자하문로4길 6, 1층 (통의동)', '1522-3232', '37.5771508', '126.97274530000004', '리저브 매장 2번'], ['이마빌딩  ', '서울특별시 종로구 종로1길 42 (수송동)', '1522-3232', '37.5738637', '126.97897149999994', '리저브 매장 2번'], ['마로니에공원  ', '서울특별시 종로구 대학로 116, 1-2층 (동숭동)', '1522-3232', '37.58154296', '127.0023412', '리저브 매장 2번'], ['종로3가  ', '서울특별시 종로구 종로 113-1, 1-4층 (종로3가)', '1522-3232', '37.5705527', '126.9902055', '리저브 매장 2번'], ['대학로  ', '서울특별시 종로구 대학로 57, 홍익대학교 대학로캠퍼스 內 (연건동)', '1522-3232', '37.576509', '127.001449', '리저브 매장 2번'], ['경복궁사거리  ', '서울특별시 종로구 율곡로 6, B동 101호(중학동, 트윈트리타워)', '1522-3232', '37.575578', '126.980581', '리저브 매장 2번'], ['종로관수  ', '서울특별시 종로구 삼일대로20길 13 (관수동)', '1522-3232', '37.569385', '126.988665', '리저브 매장 2번'], ['동숭길입구  ', '서울특별시 종로구 대학로 146 (혜화동)', '1522-3232', '37.584236', '127.002014', '리저브 매장 2번'], ['서울대치과병원  ', '서울특별시 종로구 대학로 101 서울대학교 치과병원 신관1층', '1522-3232', '37.57790', '126.99965', '리저브 매장 2번'], ['숭례문북창  ', '서울특별시 중구 세종대로12길 12 (남대문로4가)', '1522-3232', '37.561725', '126.976838', '리저브 매장 2번'], ['을지로4가역  ', '서울특별시 중구 을지로 170 (을지로4가)', '1522-3232', '37.566682', '126.997285', '리저브 매장 2번'], ['동대문두타  ', '서울특별시 중구 장충단로 275 (을지로6가)', '1522-3232', '37.56892512604548', '127.00878383484597', '리저브 매장 2번'], ['대한상공회의소R  ', '서울특별시 중구 세종대로 39 상공회의소회관 1층', '1522-3232', '37.560938', '126.973702', ''], ['명동센트럴  ', '서울특별시 중구 명동9길 16 (명동1가)', '1522-3232', '37.564669', '126.985233', '리저브 매장 2번'], ['국립중앙의료원  ', '서울특별시 중구 을지로 251 (을지로6가)', '1522-3232', '37.5665160', '127.0062376', '리저브 매장 2번'], ['동국대  ', '서울특별시 중구 서애로 1길 11', '1522-3232', '37.561542', '126.998437', '리저브 매장 2번'], ['신세계본점5F  ', '서울특별시 중구 소공로 63 (충무로1가)', '1522-3232', '37.560951', '126.981134', '리저브 매장 2번'], ['을지로내외빌딩R  ', '서울특별시 중구 을지로 51 (을지로2가)', '1522-3232', '37.566479', '126.983663', ''], ['대우재단빌딩  ', '서울특별시 중구 퇴계로 18 (남대문로5가)', '1522-3232', '37.556781', '126.975081', '리저브 매장 2번'], ['동대문공원  ', '서울특별시 중구 장충단로 229 (광희동1가)', '1522-3232', '37.565133', '127.007191', '리저브 매장 2번'], ['을지로국제빌딩  ', '서울특별시 중구 남대문로 109 (다동)', '1522-3232', '37.566952', '126.982219', '리저브 매장 2번'], ['동대입구역  ', '서울특별시 중구 장충단로 166 (장충동1가)', '1522-3232', '37.559593', '127.006142', '리저브 매장 2번'], ['신당역사거리  ', '서울특별시 중구 다산로 258 (흥인동)', '1522-3232', '37.565807', '127.016430', '리저브 매장 2번'], ['연세세브란스  ', '서울특별시 중구 통일로 10 (남대문로5가)', '1522-3232', '37.557207', '126.973540', '리저브 매장 2번'], ['회현역  ', '서울특별시 중구 퇴계로 72 (회현동) 리더스뷰남산', '1522-3232', '37.5589809', '126.98074670000005', '리저브 매장 2번'], ['을지로경기빌딩  ', '서울특별시 중구 남대문로10길 9 (삼각동) 경기빌딩', '1522-3232', '37.567172', '126.983156', '리저브 매장 2번'], ['을지로2가  ', '서울특별시 중구 삼일대로 358 (을지로2가)', '1522-3232', '37.566347', '126.988066', '리저브 매장 2번'], ['신세계본점6F  ', '서울특별시 중구 퇴계로 77 (충무로1가)', '1522-3232', '37.560381', '126.980758', '리저브 매장 2번'], ['서울중앙우체국  ', '서울특별시 중구 소공로 70 (충무로 1가) 서울 중앙 우체국', '1522-3232', '37.561678', '126.982117', '리저브 매장 2번'], ['한국프레스센터  ', '서울특별시 중구 세종대로 124 (태평로1가)', '1522-3232', '37.567381', '126.977859', '리저브 매장 2번'], ['명동중앙로  ', '서울특별시 중구 명동길 60 (명동 2가)', '1522-3232', '37.5637485', '126.9857723', '리저브 매장 2번'], ['약수역  ', '서울특별시 중구 다산로 129 (신당동)', '1522-3232', '37.555437', '127.0107253', '리저브 매장 2번'], ['중구저동  ', '서울특별시 중구 수표로 34 (저동2가)', '1522-3232', '37.5643686', '126.9903382', '리저브 매장 2번'], ['명동길  ', '서울특별시 중구 명동10길 41', '1522-3232', '37.5620695', '126.9858669', '리저브 매장 2번'], ['소공로북창  ', '서울특별시 중구 세종대로18길 32 (소공동) 삼원빌딩', '1522-3232', '37.5636856', '126.9789237', '리저브 매장 2번'], ['서소문로  ', '서울특별시 중구 서소문로 120 (서소문동) 대한빌딩', '1522-3232', '37.563006', '126.974546', ''], ['신당역  ', '서울특별시 중구 퇴계로 385, 1층 (흥인동)', '1522-3232', '37.565522', '127.014554', '리저브 매장 2번'], ['명동메트로  ', '서울특별시 중구 명동9가길 14 (을지로1가) 메트로호텔', '1522-3232', '37.565118', '126.983681', '리저브 매장 2번'], ['숭례문  ', '서울특별시 중구 세종대로 17, 와이즈타워 1층 (남대문로5가)', '1522-3232', '37.55874473', '126.9730952', '리저브 매장 2번'], ['순화동더샵  ', '서울특별시 중구 칠패로 27, 1층 (순화동)', '1522-3232', '37.560072', '126.971931', '리저브 매장 2번'], ['대한극장  ', '서울특별시 중구 퇴계로 212 (필동 2가)', '1522-3232', '37.56105065', '126.9952735', '리저브 매장 2번'], ['환구단  ', '서울특별시 중구 소공로 112 (소공동)', '1522-3232', '37.564448', '126.979157', '리저브 매장 2번'], ['무교동  ', '서울특별시 중구 무교로 21 (무교동) 코오롱빌딩 1층', '1522-3232', '37.56781712', '126.978738', '리저브 매장 2번'], ['문화일보  ', '서울특별시 중구 새문안로 22 (충정로1가) 문화일보', '1522-3232', '37.56712291', '126.9686642', '리저브 매장 2번'], ['태평로  ', '서울특별시 중구 세종대로 72, 대영빌딩 1층 (태평로2가)', '1522-3232', '37.56248285', '126.9767928', '리저브 매장 2번'], ['퍼시픽타워  ', '서울특별시 중구 세종대로9길 41, 퍼시픽타워 1층 (서소문동)', '1522-3232', '37.56132157', '126.9730264', '리저브 매장 2번'], ['남산단암  ', '서울특별시 중구 소월로 10, 단암빌딩 (남대문로5가)', '1522-3232', '37.55853622', '126.9754585', '리저브 매장 2번'], ['황학캐슬  ', '서울특별시 중구 청계천로 400 (황학동) 롯데캐슬베네치아', '1522-3232', '37.57124', '127.022905', '리저브 매장 2번'], ['서소문  ', '서울특별시 중구 서소문로 130 (서소문동)', '1522-3232', '37.5633773', '126.97551290000001', '리저브 매장 2번'], ['을지로삼화타워  ', '서울특별시 중구 을지로5길 16 삼화타워1층', '1522-3232', '37.566902', '126.984707', '리저브 매장 2번'], ['소공로  ', '서울특별시 중구 남대문로7길 19, 삼영빌딩 1층 일부 (소공동)', '1522-3232', '37.5637273', '126.98076809999998', '리저브 매장 2번'], ['서소문배재  ', '서울특별시 중구 서소문로 99 (서소문동)', '1522-3232', '37.5628481', '126.97216639999999', '리저브 매장 2번'], ['을지로한국빌딩  ', '서울특별시 중구 을지로 50, 1층 (을지로 2가)', '1522-3232', '37.565722', '126.98329', '리저브 매장 2번'], ['순화동에이스  ', '서울특별시 중구 통일로 92 (순화동) KG타워', '1522-3232', '37.563528', '126.969144', '리저브 매장 2번'], ['시청  ', '서울특별시 중구 을지로 19, 삼성화재삼성빌딩 1층 (을지로1가)', '1522-3232', '37.566290', '126.979808', '리저브 매장 2번'], ['시청플러스  ', '서울특별시 중구 을지로 19, 삼성화재삼성빌딩 1층 (을지로1가)', '1522-3232', '37.566338', '126.980055', '리저브 매장 2번'], ['충무로역  ', '서울특별시 중구 퇴계로 197, 충무빌딩 1층 (필동 2가)', '1522-3232', '37.561499', '126.993864', '리저브 매장 2번'], ['명동역  ', '서울특별시 중구 퇴계로 101, 건물 전체 (충무로 1가)', '1522-3232', '37.560832', '126.983095', '리저브 매장 2번'], ['남산스테이트  ', '서울특별시 중구 퇴계로 100 (회현동2가)', '1522-3232', '37.560205', '126.982791', '리저브 매장 2번'], ['명동입구  ', '서울특별시 중구 남대문로 68-1 (명동2가)', '1522-3232', '37.563319', '126.982242', '리저브 매장 2번'], ['무교로  ', '서울특별시 중구 무교로 15 (무교동)', '1522-3232', '37.567399', '126.978900', '리저브 매장 2번'], ['숭례문SG타워  ', '서울특별시 중구 세종대로 14 (남대문로5가)', '1522-3232', '37.5581293', '126.9742637', '리저브 매장 2번'], ['명동남산  ', '서울특별시 중구 퇴계로 132 (남산동3가)', '1522-3232', '37.560809', '126.986397', '리저브 매장 2번'], ['명일역  ', '서울특별시 강동구 양재대로 1647 (명일동)', '1522-3232', '37.552580', '127.143799', '리저브 매장 2번'], ['강동구청DT  ', '서울특별시 강동구 성내로 32 (성내동)', '1522-3232', '37.529437', '127.123835', ''], ['강동암사DT  ', '서울특별시 강동구 고덕로 43 (암사동)', '1522-3232', '37.555054', '127.130065', ''], ['굽은다리역  ', '서울특별시 강동구 양재대로 1568 (명일동)', '1522-3232', '37.545403', '127.143101', '리저브 매장 2번'], ['강동역  ', '서울특별시 강동구 천호대로 1089 (천호동, 강동 헤르셔)', '1522-3232', '37.536047', '127.133086', '리저브 매장 2번'], ['둔촌동  ', '서울특별시 강동구 양재대로 1303 (성내동) 평원빌딩', '1522-3232', '37.522724', '127.133943', '리저브 매장 2번'], ['천호로데오  ', '서울특별시 강동구 천호대로 1037 (천호동)', '1522-3232', '37.5378069', '127.12730940000006', ''], ['천호이마트  ', '서울특별시 강동구 천호대로 1015-14 (천호동) 이마트별관', '1522-3232', '37.538933', '127.125214', '리저브 매장 2번'], ['길동역  ', '서울특별시 강동구 양재대로 1487 (길동)', '1522-3232', '37.5387433', '127.1399879', '리저브 매장 2번'], ['상일동  ', '서울특별시 강동구 상일로10길 36, 1~2층 (상일동)', '1522-3232', '37.550072', '127.174258', '리저브 매장 2번'], ['올림픽공원북문  ', '서울특별시 강동구 강동대로 171 (성내동)', '1522-3232', '37.525403', '127.125932', '리저브 매장 2번'], ['천호역  ', '서울특별시 강동구 천호대로 1012, 태승빌딩 (성내동)', '1522-3232', '37.53795191', '127.1245793', '리저브 매장 2번'], ['명일이마트  ', '서울특별시 강동구 동남로75길 5 (명일동) 명일이마트별관주차장', '1522-3232', '37.553991', '127.155984', '리저브 매장 2번'], ['상일동역  ', '서울특별시 강동구 고덕로 399 (고덕동, 고덕센트럴푸르지오)', '1522-3232', '37.55754181615496', '127.17072672474717', '리저브 매장 2번'], ['천호사거리  ', '서울특별시 강동구 올림픽로 651 ', '1522-3232', '37.539702', '127.123542', '리저브 매장 2번'], ['천호대로길동  ', '서울특별시 강동구 천호대로 1131 거산 유팰리스', '1522-3232', '37.534651', '127.137210', '리저브 매장 2번'], ['신도림  ', '서울특별시 구로구 경인로 610 (신도림동)', '1522-3232', '37.505517', '126.883953', '리저브 매장 2번'], ['구로디지털타워  ', '서울특별시 구로구 디지털로32길 30 (구로동)', '1522-3232', '37.483432', '126.896480', '리저브 매장 2번'], ['오류동역  ', '서울특별시 구로구 경인로 216 (오류동)', '1522-3232', '37.4962155', '126.8448614', '리저브 매장 2번'], ['구로디지털로  ', '서울특별시 구로구 디지털로33길 11, 에이스테크노8차 1층 (구로동)', '1522-3232', '37.485911', '126.895587', '리저브 매장 2번'], ['신세계아이앤씨  ', '서울특별시 구로구 디지털로31길 61, 드림마크원데이터센타 1층 (구로동)', '1522-3232', '37.48587904', '126.8916127', '리저브 매장 2번'], ['구로에이스  ', '서울특별시 구로구 디지털로 285, 에이스트윈타워1차 103호 (구로동)', '1522-3232', '37.48448329', '126.8944957', '리저브 매장 2번'], ['구로하이엔드  ', '서울특별시 구로구 디지털로26길 5, 에이스하이엔드타워1차 103호 (구로동)', '1522-3232', '37.481618', '126.893136', '리저브 매장 2번'], ['현대디큐브2F  ', '서울특별시 구로구 경인로 662 (신도림동)', '1522-3232', '37.508636', '126.889225', '리저브 매장 2번'], ['구로호텔  ', '서울특별시 구로구 디지털로32길 72, 구로호텔 1층 (구로동)', '1522-3232', '37.4831293', '126.89885909999998', '리저브 매장 2번'], ['현대디큐브B2  ', '서울특별시 구로구 경인로 662 (신도림동)', '1522-3232', '37.508828', '126.889488', '리저브 매장 2번'], ['구로NC  ', '서울특별시 구로구 구로중앙로 152 (구로동) 구로NC', '1522-3232', '37.501219', '126.882798', '리저브 매장 2번'], ['답십리역  ', '서울특별시 동대문구 천호대로 263 (답십리동)', '1522-3232', '37.568466', '127.051106', '리저브 매장 2번'], ['경희대삼거리  ', '서울특별시 동대문구 회기로 141 (회기동)', '1522-3232', '37.591531', '127.052017', '리저브 매장 2번'], ['외대정문  ', '서울특별시 동대문구 이문로 93 (이문동)', '1522-3232', '37.5953464', '127.0590302', '리저브 매장 2번'], ['신설동역  ', '서울특별시 동대문구 왕산로 19 (신설동)', '1522-3232', '37.5767228', '127.0255446', '리저브 매장 2번'], ['회기역사거리  ', '서울특별시 동대문구 이문로 37 (회기동)', '1522-3232', '37.590784', '127.056098', '리저브 매장 2번'], ['외대  ', '서울특별시 동대문구 휘경로 12-1 (이문동)', '1522-3232', '37.59575188', '127.0614002', '리저브 매장 2번'], ['장한평역  ', '서울특별시 동대문구 장한로 10 (장안동)', '1522-3232', '37.562337', '127.065511', '리저브 매장 2번'], ['경희대  ', '서울특별시 동대문구 경희대로 16-1 (회기동)', '1522-3232', '37.5928812', '127.05280849999997', '리저브 매장 2번'], ['서울숲역  ', '서울특별시 성동구 왕십리로50 1층 일부', '1522-3232', '37.542075', '127.044961', '리저브 매장 2번'], ['금호역  ', '서울특별시 성동구 동호로 99 ', '1522-3232', '37.5479939', '127.0153343', '리저브 매장 2번'], ['뚝섬역  ', '서울특별시 성동구 아차산로 42 (성수동1가)', '1522-3232', '37.546432', '127.049042', '리저브 매장 2번'], ['황학사거리  ', '서울특별시 성동구 왕십리로 410 (하왕십리동, 센트라스)', '1522-3232', '37.567644', '127.023697', '리저브 매장 2번'], ['성수역  ', '서울특별시 성동구 성수이로 94 (성수동2가)', '1522-3232', '37.543193', '127.056943', '리저브 매장 2번'], ['상왕십리역  ', '서울특별시 성동구 왕십리로 382 (하왕십리동)', '1522-3232', '37.565169', '127.027907', '리저브 매장 2번'], ['왕십리역  ', '서울특별시 성동구 왕십리로 326 (도선동)', '1522-3232', '37.5627541', '127.0339072', '리저브 매장 2번'], ['한양대  ', '서울특별시 성동구 왕십리로 225 (행당동)', '1522-3232', '37.55726984', '127.0421649', '리저브 매장 2번'], ['엔터식스  ', '서울특별시 성동구 왕십리광장로 17 (행당동)', '1522-3232', '37.56175811', '127.0383328', '리저브 매장 2번'], ['성수이마트  ', '서울특별시 성동구 뚝섬로 379 (성수동2가) 이마트 성수점', '1522-3232', '37.5396996', '127.0530083', '리저브 매장 2번'], ['성수낙낙  ', '서울시 성동구 광나루로8길 31 성수SKV1 2동 1층 101~107호', '1522-3232', '37.547326', '127.066367', '리저브 매장 2번'], ['효창공원앞역  ', '서울특별시 용산구 백범로 313 (효창동, 용산 롯데캐슬 센터포레)', '1522-3232', '37.539305', '126.963060', '리저브 매장 2번'], ['서울역서부  ', '서울특별시 용산구 만리재로 202 (서계동)', '1522-3232', '37.555165', '126.968446', '리저브 매장 2번'], ['이태원역  ', '서울특별시 용산구 이태원로 188 (이태원동)', '1522-3232', '37.534273', '126.994789', '리저브 매장 2번'], ['한강진역R  ', '서울특별시 용산구 이태원로 252 (한남동)', '1522-3232', '37.537131', '127.000980', ''], ['용산역써밋R  ', '서울특별시 용산구 한강대로 69 (한강로2가, 용산푸르지오써밋)', '1522-3232', '37.527586', '126.965401', ''], ['이촌  ', '서울특별시 용산구 이촌로 276 (이촌동)', '1522-3232', '37.518605', '126.977271', '리저브 매장 2번'], ['신용산역  ', '서울특별시 용산구 한강대로 95 (한강로2가, 래미안용산)', '1522-3232', '37.528702', '126.966757', '리저브 매장 2번'], ['용산파크타워  ', '서울특별시 용산구 서빙고로 67 (용산동5가, 파크타워)', '1522-3232', '37.523818', '126.970389', '리저브 매장 2번'], ['남영동  ', '서울특별시 용산구 한강대로 275 (갈월동)', '1522-3232', '37.542831', '126.972242', '리저브 매장 2번'], ['한남동R  ', '서울특별시 용산구 독서당로 94 (한남동)', '1522-3232', '37.534850', '127.010919', ''], ['서울타워  ', '서울특별시 용산구 남산공원길 105 (용산동2가) YTN서울타워 1층', '1522-3232', '37.551102', '126.988317', '리저브 매장 2번'], ['서울역동자동  ', '서울특별시 용산구 한강대로 372 (동자동)', '1522-3232', '37.551752', '126.972694', '리저브 매장 2번'], ['순천향입구  ', '서울특별시 용산구 대사관로 67 (한남동)', '1522-3232', '37.533394', '127.00563', '리저브 매장 2번'], ['숙대  ', '서울특별시 용산구 청파로47길 57 (청파동3가)', '1522-3232', '37.54460479', '126.9672252', '리저브 매장 2번'], ['동빙고  ', '서울특별시 용산구 장문로 12 (동빙고동)', '1522-3232', '37.5289857', '126.991782', '리저브 매장 2번'], ['숙대입구역  ', '서울특별시 용산구 한강대로 291 (갈월동)', '1522-3232', '37.544118', '126.971891', '리저브 매장 2번'], ['용산아이파크몰  ', '서울특별시 용산구 한강대로23길 55', '1522-3232', '37.5288539', '126.96404469999993', '리저브 매장 2번'], ['동부이촌동  ', '서울특별시 용산구 이촌로 198 (이촌동)', '1522-3232', '37.52111', '126.96905', '리저브 매장 2번'], ['용산해링턴스퀘어  ', '서울특별시 용산구 서빙고로 17 (한강로3가)', '1522-3232', '37.5258562', '126.9676442', '리저브 매장 2번'], ['용산리첸시아  ', '서울특별시 용산구 백범로 341 (원효로1가, 리첸시아 용산)', '1522-3232', '37.538571', '126.967409', '리저브 매장 2번'], ['상봉  ', '서울특별시 중랑구 상봉로 131 (상봉동, 상봉 듀오트리스 주상복합)', '1522-3232', '37.597842', '127.092509', '리저브 매장 2번'], ['중랑역  ', '서울특별시 중랑구 망우로30길 3 (상봉동)', '1522-3232', '37.5930326', '127.07473579999998', '리저브 매장 2번'], ['중랑구청  ', '서울특별시 중랑구 신내로 72', '1522-3232', '37.60538908', '127.0957558', '리저브 매장 2번'], ['사가정역  ', '서울특별시 중랑구 면목로 310', '1522-3232', '37.579594', '127.087966', '리저브 매장 2번'], ['상봉역  ', '서울특별시 중랑구 망우로 307, ,3,4번지 (상봉동)', '1522-3232', '37.59689', '127.08647', '리저브 매장 2번'], ['묵동이마트  ', '서울특별시 중랑구 동일로 932, 묵동이마트 B1층 (묵동)', '1522-3232', '37.613433', '127.077484', '리저브 매장 2번'], ['묵동  ', '서울특별시 중랑구 동일로 952 ', '1522-3232', '37.615368', '127.076633', '리저브 매장 2번'], ['중화역  ', '서울특별시 중랑구 봉화산로 35 1,2층', '1522-3232', '37.60170912407773', '127.07841136432036', '리저브 매장 2번']]\n"
     ]
    }
   ],
   "source": [
    "# 전체 매장 데이터 크롤링\n",
    "sb_seoul = soup.select('#mCSB_3_container > ul > li')\n",
    "data = []\n",
    "for sb in sb_seoul:\n",
    "    name = sb.select('strong')[0].text\n",
    "    addr = str(sb.select('p.result_details')[0]).split('<br/>')[0].split('>')[1]\n",
    "    tel = str(sb.select('p.result_details')[0]).split('<br/>')[1].split('<')[0]\n",
    "    lat = sb['data-lat']\n",
    "    long = sb['data-long']\n",
    "    try:\n",
    "        store_type = sb.select('i.pin_general')[0].text\n",
    "    except:\n",
    "        store_type = ''\n",
    "    data.append([name,addr,tel,lat,long,store_type])\n",
    "print(data)\n"
   ]
  },
  {
   "cell_type": "markdown",
   "metadata": {},
   "source": [
    "# 3. 인스타그램 크롤링"
   ]
  },
  {
   "cell_type": "markdown",
   "metadata": {},
   "source": [
    "### 3-1 로그인"
   ]
  },
  {
   "cell_type": "code",
   "execution_count": 59,
   "metadata": {},
   "outputs": [],
   "source": [
    "from selenium import webdriver\n",
    "driver = webdriver.Chrome('c:/scrap/chromedriver.exe')\n",
    "\n",
    "import time\n",
    "\n",
    "driver.get('https://www.instagram.com')\n",
    "time.sleep(3)"
   ]
  },
  {
   "cell_type": "code",
   "execution_count": 64,
   "metadata": {},
   "outputs": [],
   "source": [
    "email = '계정'\n",
    "input_id = driver.find_elements_by_css_selector('#loginForm > div > div:nth-child(1) > div > label > input')[0]\n",
    "input_id.clear()\n",
    "input_id.send_keys(email)\n",
    "\n",
    "password = '비밀번호'\n",
    "input_pw = driver.find_elements_by_css_selector('#loginForm > div > div:nth-child(2) > div > label > input')[0]\n",
    "input_pw.send_keys(password)\n",
    "input_pw.submit() # 엔터\n",
    "\n",
    "time.sleep(3)\n"
   ]
  },
  {
   "cell_type": "markdown",
   "metadata": {},
   "source": [
    "### 3-2 검색어 입력"
   ]
  },
  {
   "cell_type": "code",
   "execution_count": 65,
   "metadata": {},
   "outputs": [],
   "source": [
    "def insta_searching(word):\n",
    "    url='https://www.instagram.com/explore/tags/'+word\n",
    "    return url"
   ]
  },
  {
   "cell_type": "code",
   "execution_count": 67,
   "metadata": {},
   "outputs": [],
   "source": [
    "word = '부산맛집'\n",
    "url = insta_searching(word)\n",
    "driver.get(url)"
   ]
  },
  {
   "cell_type": "markdown",
   "metadata": {},
   "source": [
    "### 3-3 첫 번째 게시글 선택"
   ]
  },
  {
   "cell_type": "code",
   "execution_count": 68,
   "metadata": {},
   "outputs": [],
   "source": [
    "def select_first(driver):\n",
    "    first = driver.find_elements_by_css_selector('div._9AhH0')[0]\n",
    "    first.click()\n",
    "    time.sleep(3)"
   ]
  },
  {
   "cell_type": "code",
   "execution_count": 69,
   "metadata": {},
   "outputs": [],
   "source": [
    "select_first(driver)"
   ]
  },
  {
   "cell_type": "markdown",
   "metadata": {},
   "source": [
    "### 3-4 첫 게시글 내용 크롤링"
   ]
  },
  {
   "cell_type": "code",
   "execution_count": 76,
   "metadata": {},
   "outputs": [],
   "source": [
    "import re"
   ]
  },
  {
   "cell_type": "code",
   "execution_count": 85,
   "metadata": {},
   "outputs": [],
   "source": [
    "def getContente(drive):\n",
    "    html = driver.page_source\n",
    "    soup = BeautifulSoup(html,'html.parser')\n",
    "    content = soup.select('div.EtaWk > ul > div > li')[0].text\n",
    "    tags =re.findall('#[^\\s,]+',content) \n",
    "    date = soup.select('div.k_Q0X.NnvRN > a > time')[0].text\n",
    "    data = [content,tags,date]\n",
    "    return data"
   ]
  },
  {
   "cell_type": "code",
   "execution_count": 86,
   "metadata": {},
   "outputs": [
    {
     "data": {
      "text/plain": [
       "['changwontravel🍕부산 해운대에 치즈터진다는 치즈이불피자🍕#포르타나 @해운대구 우동 532-18퐁신퐁신 도우에 치즈로운 비쥬얼 대박💕피자 한조각이 내 얼굴보다 큰거같애><@나중에 꼭.#부산맛집 #부산맛집추천 #해운대맛집 #해운대맛집추천 #부산가볼만한곳22시간',\n",
       " ['#포르타나', '#부산맛집', '#부산맛집추천', '#해운대맛집', '#해운대맛집추천', '#부산가볼만한곳22시간'],\n",
       " '22시간 전']"
      ]
     },
     "execution_count": 86,
     "metadata": {},
     "output_type": "execute_result"
    }
   ],
   "source": [
    "getContente(driver)"
   ]
  },
  {
   "cell_type": "code",
   "execution_count": null,
   "metadata": {},
   "outputs": [],
   "source": []
  }
 ],
 "metadata": {
  "kernelspec": {
   "display_name": "Python 3",
   "language": "python",
   "name": "python3"
  },
  "language_info": {
   "codemirror_mode": {
    "name": "ipython",
    "version": 3
   },
   "file_extension": ".py",
   "mimetype": "text/x-python",
   "name": "python",
   "nbconvert_exporter": "python",
   "pygments_lexer": "ipython3",
   "version": "3.7.6"
  }
 },
 "nbformat": 4,
 "nbformat_minor": 4
}
