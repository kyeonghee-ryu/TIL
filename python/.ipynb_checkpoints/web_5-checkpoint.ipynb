{
 "cells": [
  {
   "cell_type": "markdown",
   "metadata": {},
   "source": [
    "# 1. 다나와 웹사이트 무선청소기 정보 크롤링"
   ]
  },
  {
   "cell_type": "code",
   "execution_count": 1,
   "metadata": {},
   "outputs": [],
   "source": [
    "from selenium import webdriver\n",
    "driver = webdriver.Chrome('c:/scrap/chromedriver.exe')\n",
    "url = 'http://search.danawa.com/dsearch.php?query=무선청소기&tab=main'"
   ]
  },
  {
   "cell_type": "code",
   "execution_count": 2,
   "metadata": {},
   "outputs": [],
   "source": [
    "driver.get(url)"
   ]
  },
  {
   "cell_type": "code",
   "execution_count": 3,
   "metadata": {},
   "outputs": [],
   "source": [
    "from bs4 import BeautifulSoup\n",
    "html = driver.page_source\n",
    "soup = BeautifulSoup(html,'html.parser')"
   ]
  },
  {
   "cell_type": "markdown",
   "metadata": {},
   "source": [
    "### 1-1. 리스트에 있는 데이터만 가져오기"
   ]
  },
  {
   "cell_type": "code",
   "execution_count": 29,
   "metadata": {},
   "outputs": [
    {
     "name": "stdout",
     "output_type": "stream",
     "text": [
      "<li class=\"prod_item\" id=\"productItem9781572\">\n",
      "<input id=\"productItem_categoryInfo_9781572\" type=\"hidden\" value=\"생활가전_청소기\"/>\n",
      "<input id=\"min_price_9781572\" type=\"hidden\" value=\"147160\"/>\n",
      "<div class=\"prod_main_info\">\n",
      "<div class=\"thumb_image\">\n",
      "<a class=\"thumb_link\" href=\"http://prod.danawa.com/info/?pcode=9781572&amp;keyword=무선청소기&amp;cate=103740\" id=\"thumbLink_9781572\" onmousedown=\"_trkEventLog('통합검색_상품블로그_유입');\" target=\"_blank\">\n",
      "<img alt=\"V10\" class=\"click_log_product_standard_img_\" src=\"http://img.danawa.com/prod_img/500000/572/781/img/9781572_1.jpg?shrink=160:160&amp;_v=20210110210436\"/>\n",
      "</a>\n",
      "<a class=\"btn_view_zoom\" data-assemblygallerycategory=\"N\" href=\"#\" id=\"imageZoom_9781572\" onclick=\"return false;\">\n",
      "<span class=\"ico i_zoom_vw\"></span>이미지보기\n",
      "\t\t\t\t\t\t\t</a>\n",
      "<input id=\"hidden_cate_sub_c1\" type=\"hidden\" value=\"72\"/>\n",
      "<input id=\"hidden_cate_sub_c2\" type=\"hidden\" value=\"80\"/>\n",
      "<input id=\"hidden_cate_sub_c3\" type=\"hidden\" value=\"81\"/>\n",
      "</div>\n",
      "<div class=\"prod_info\">\n",
      "<p class=\"prod_name\">\n",
      "<a class=\"click_log_product_standard_title_\" href=\"http://prod.danawa.com/info/?pcode=9781572&amp;keyword=무선청소기&amp;cate=103740\" onmousedown=\"_trkEventLog('통합검색_상품블로그_유입'); doCTR('%EB%AC%B4%EC%84%A0%EC%B2%AD%EC%86%8C%EA%B8%B0','9781572',1);\" target=\"_blank\">샤오미 드리미 V10</a>\n",
      "</p>\n",
      "<dl class=\"prod_spec_set\">\n",
      "<dt class=\"screen_out\">상세 스펙</dt>\n",
      "<dd>\n",
      "<div class=\"spec_list\"><a class=\"view_dic\" href=\"#\" onclick=\"$.termDicViewLink(8501,'view',this,0,72,80); return false;\">핸디/스틱<b>청소기</b></a> / <a class=\"view_dic\" href=\"#\" onclick=\"$.termDicViewLink(7445,'view',this,0,72,80); return false;\">핸디+스틱형</a> / <a class=\"view_dic\" href=\"#\" onclick=\"$.termDicViewLink(14900,'view',this,0,72,80); return false;\">무선형</a> / <a class=\"view_dic\" href=\"#\" onclick=\"$.termDicViewLink(213565,'view',this,0,72,80); return false;\">전압</a>: <a class=\"view_dic\" href=\"#\" onclick=\"$.termDicViewLink(213565,'view',this,0,72,80); return false;\">25.2V</a> / <a class=\"view_dic\" href=\"#\" onclick=\"$.termDicViewLink(14801,'view',this,0,72,80); return false;\">헤파필터</a> / <a class=\"view_dic\" href=\"#\" onclick=\"$.termDicViewLink(14801,'view',this,0,72,80); return false;\">H12급</a> / <a class=\"view_dic\" href=\"#\" onclick=\"$.termDicViewLink(30024,'view',this,0,72,80); return false;\">5단계여과</a> / <a class=\"view_dic\" href=\"#\" onclick=\"$.termDicViewLink(3996,'view',this,0,72,80); return false;\">흡입력</a>: <a class=\"view_dic\" href=\"#\" onclick=\"$.termDicViewLink(3996,'view',this,0,72,80); return false;\">140AW</a> / <a class=\"view_dic\" href=\"#\" onclick=\"$.termDicViewLink(3996,'view',this,0,72,80); return false;\">흡입력</a>: <a class=\"view_dic\" href=\"#\" onclick=\"$.termDicViewLink(3996,'view',this,0,72,80); return false;\">22000Pa</a> / <a class=\"view_dic\" href=\"#\" onclick=\"$.termDicViewLink(214653,'view',this,0,72,80); return false;\">먼지통용량</a>: <a class=\"view_dic\" href=\"#\" onclick=\"$.termDicViewLink(214653,'view',this,0,72,80); return false;\">0.5L</a> / <a class=\"view_dic\" href=\"#\" onclick=\"$.termDicViewLink(14921,'view',this,0,72,80); return false;\">충전시간</a>: <a class=\"view_dic\" href=\"#\" onclick=\"$.termDicViewLink(14921,'view',this,0,72,80); return false;\">3시간30분</a> / <a class=\"view_dic\" href=\"#\" onclick=\"$.termDicViewLink(8515,'view',this,0,72,80); return false;\">사용시간</a>: <a class=\"view_dic\" href=\"#\" onclick=\"$.termDicViewLink(8515,'view',this,0,72,80); return false;\">1시간</a> / <a class=\"view_dic\" href=\"#\" onclick=\"$.termDicViewLink(214659,'view',this,0,72,80); return false;\">용량</a>: <a class=\"view_dic\" href=\"#\" onclick=\"$.termDicViewLink(214659,'view',this,0,72,80); return false;\">2500mAh</a> / 구성: <a class=\"view_dic\" href=\"#\" onclick=\"$.termDicViewLink(18333,'view',this,0,72,80); return false;\">바닥</a>, <a class=\"view_dic\" href=\"#\" onclick=\"$.termDicViewLink(18453,'view',this,0,72,80); return false;\">침구</a>, <a class=\"view_dic\" href=\"#\" onclick=\"$.termDicViewLink(18442,'view',this,0,72,80); return false;\">솔형</a>, <a class=\"view_dic\" href=\"#\" onclick=\"$.termDicViewLink(18436,'view',this,0,72,80); return false;\">틈새</a>, <a class=\"view_dic\" href=\"#\" onclick=\"$.termDicViewLink(27313,'view',this,0,72,80); return false;\">연장툴</a>, <a class=\"view_dic\" href=\"#\" onclick=\"$.termDicViewLink(30019,'view',this,0,72,80); return false;\">거치대</a> / <a class=\"view_dic\" href=\"#\" onclick=\"$.termDicViewLink(27312,'view',this,0,72,80); return false;\">무게</a>: <a class=\"view_dic\" href=\"#\" onclick=\"$.termDicViewLink(27312,'view',this,0,72,80); return false;\">1.5kg</a> / <a class=\"view_dic\" href=\"#\" onclick=\"$.termDicViewLink(14771,'view',this,0,72,80); return false;\">색상:화이트</a> / <a class=\"view_dic\" href=\"#\" onclick=\"$.termDicViewLink(1743,'view',this,0,72,80); return false;\">소비전력</a>: <a class=\"view_dic\" href=\"#\" onclick=\"$.termDicViewLink(1743,'view',this,0,72,80); return false;\">450W</a> </div>\n",
      "</dd>\n",
      "</dl>\n",
      "<div class=\"relation_goods_unit\" id=\"relation_goods_unit_9781572\"><dl class=\"unit_goods_list\"><dt class=\"title_unit\">관련용품▶</dt><dd class=\"unit_lists\"><a class=\"unit_link view_dic\" data-relationcode=\"10560216\" href=\"#\" onclick=\"return false;\">헤파필터</a><span class=\"ucomma\">,</span><a class=\"unit_link view_dic\" data-relationcode=\"10526325\" href=\"#\" onclick=\"return false;\">롤브러쉬</a></dd></dl></div>\n",
      "<div class=\"prod_sub_info\">\n",
      "<div class=\"prod_sub_meta\">\n",
      "<dl class=\"meta_item mt_date\">\n",
      "<dt>등록월</dt>\n",
      "<dd>2019.10</dd>\n",
      "</dl>\n",
      "<dl class=\"meta_item mt_comment\">\n",
      "<dt><span class=\"dt_behind\">상품의견</span></dt>\n",
      "<dd>\n",
      "<div class=\"cnt_star\">\n",
      "<div class=\"point_type_list\">\n",
      "<div class=\"mask\" style=\"width:92%\">\n",
      "</div>\n",
      "</div>\n",
      "<div class=\"point_num\">\n",
      "<strong>4.6</strong>점\n",
      "\t\t\t\t\t\t\t\t\t\t\t\t\t\t</div>\n",
      "</div>\n",
      "<div class=\"cnt_opinion\">\n",
      "\t\t\t\t\t\t\t\t\t\t\t\t\t\t(<a class=\"click_log_prod_content_count\" href=\"http://prod.danawa.com/info/?pcode=9781572&amp;keyword=무선청소기&amp;cate=103740#bookmark_cm_opinion\" onmousedown=\"_trkEventLog('통합검색_상품블로그_유입');\" target=\"_blank\"><strong>766</strong></a>건)\n",
      "\t\t\t\t\t\t\t\t\t\t\t\t\t</div>\n",
      "</dd>\n",
      "</dl>\n",
      "<dl class=\"meta_item\">\n",
      "<dt class=\"screen_out\">관심상품</dt>\n",
      "<dd>\n",
      "<a class=\"click_log_wishList\" href=\"#\" onclick=\"javascript:$.danawaAddProductToWishList(this, '9781572',' search', '', '', '147160');return false;\" onmousedown=\"doCTR('%EB%AC%B4%EC%84%A0%EC%B2%AD%EC%86%8C%EA%B8%B0','9781572',4);\" title=\"관심상품에 담기\">관심상품</a>\n",
      "</dd>\n",
      "<input id=\"wishListBundleVal_9781572\" type=\"hidden\" value=\"//샤오미 드리미 V10\"/>\n",
      "</dl>\n",
      "</div>\n",
      "<dl class=\"prod_category_location\">\n",
      "<dt class=\"screen_out\">상품분류</dt>\n",
      "<dd>\n",
      "<a href=\"http://prod.danawa.com/list/?cate=103740\" onmousedown=\"80\" target=\"doCTR('%EB%AC%B4%EC%84%A0%EC%B2%AD%EC%86%8C%EA%B8%B0',9781572,3);\"><span>생활가전</span> &gt; <span>청소기</span> &gt; <span>핸디/스틱</span></a> <div class=\"more_cate_layer\" style=\"display: none; z-index: 1;\">\n",
      "<ul class=\"list_category_location\">\n",
      "</ul>\n",
      "</div>\n",
      "</dd>\n",
      "</dl>\n",
      "</div>\n",
      "</div>\n",
      "<div class=\"prod_pricelist\" data-cate=\"72|80|81|0\">\n",
      "<ul>\n",
      "<li class=\"rank_one\" id=\"productInfoDetail_9781572\">\n",
      "<p class=\"chk_sect\">\n",
      "\t\t\t\t\t\t\t\t\t\t180몰\n",
      "\t\t\t\t\t\t\t\t\t\t\t\t\t\t\t\t\t\t\t\t\t<label for=\"prodCompareCheck_9781572\">\n",
      "<input id=\"prodCompareCheck_9781572\" type=\"checkbox\"/><strong>상품비교</strong>\n",
      "</label>\n",
      "<input name=\"compareValue\" type=\"hidden\" value=\"9781572\"/>\n",
      "<input name=\"compareRepValue\" type=\"hidden\" value=\"9781572\"/>\n",
      "</p>\n",
      "<p class=\"price_sect\">\n",
      "<a class=\"click_log_product_standard_price_\" href=\"http://prod.danawa.com/info/?pcode=9781572&amp;keyword=무선청소기&amp;cate=103740\" onmousedown=\"doCTR('%EB%AC%B4%EC%84%A0%EC%B2%AD%EC%86%8C%EA%B8%B0','9781572',1);; _trkEventLog('통합검색_상품블로그_유입'); \" target=\"_blank\">\n",
      "<strong>147,160</strong>원\t\t\t\t\t\t\t\t\t\t</a>\n",
      "<span class=\"more_btn_wrap\">\n",
      "<button class=\"ico i_more\">가격정보 더보기</button>\n",
      "<span class=\"layer_price_more\" id=\"layer_price_more_9781572\"></span>\n",
      "<span class=\"sep_line\"></span>\n",
      "</span>\n",
      "</p>\n",
      "<p class=\"memory_sect\">\n",
      "\t\t\t\t\t\t\t\t\t\t\t\t\t\t\t\t\t\t\t\t\t\t\t해외구매\t\t\t\t\t\t\t\t\t\t\t\t\t\t\t\t\t\t\t\t\t\t<a href=\"http://prod.danawa.com/info/?pcode=9781572&amp;keyword=무선청소기&amp;cate=103740\" onmousedown=\"doCTR('%EB%AC%B4%EC%84%A0%EC%B2%AD%EC%86%8C%EA%B8%B0','9781572',1);\" target=\"_blank\">\n",
      "</a>\n",
      "</p>\n",
      "</li>\n",
      "</ul>\n",
      "</div>\n",
      "</div>\n",
      "</li>\n"
     ]
    }
   ],
   "source": [
    "# 첫 번째 데이터 확인\n",
    "prod_item = soup.select('#productListArea > div.main_prodlist.main_prodlist_list > ul > li')[0]\n",
    "print(prod_item)"
   ]
  },
  {
   "cell_type": "code",
   "execution_count": 32,
   "metadata": {},
   "outputs": [
    {
     "name": "stdout",
     "output_type": "stream",
     "text": [
      "\n",
      "샤오미 드리미 V10\n",
      "\n",
      "\n",
      "샤오미 드리미 V10\n",
      "\n"
     ]
    }
   ],
   "source": [
    "#제품명\n",
    "name = prod_item.select('p.prod_name')[0].text\n",
    "print(name)"
   ]
  },
  {
   "cell_type": "code",
   "execution_count": 11,
   "metadata": {},
   "outputs": [
    {
     "name": "stdout",
     "output_type": "stream",
     "text": [
      "2019.10\n"
     ]
    }
   ],
   "source": [
    "#등록월\n",
    "date = prod_item.select('dl.meta_item.mt_date > dd')[0].text\n",
    "print(date)"
   ]
  },
  {
   "cell_type": "code",
   "execution_count": 16,
   "metadata": {},
   "outputs": [
    {
     "name": "stdout",
     "output_type": "stream",
     "text": [
      "147,160\n"
     ]
    }
   ],
   "source": [
    "# 가격\n",
    "price = prod_item.select('p.price_sect strong')[0].text\n",
    "print(price)"
   ]
  },
  {
   "cell_type": "code",
   "execution_count": 18,
   "metadata": {},
   "outputs": [
    {
     "name": "stdout",
     "output_type": "stream",
     "text": [
      "핸디/스틱청소기 / 핸디+스틱형 / 무선형 / 전압: 25.2V / 헤파필터 / H12급 / 5단계여과 / 흡입력: 140AW / 흡입력: 22000Pa / 먼지통용량: 0.5L / 충전시간: 3시간30분 / 사용시간: 1시간 / 용량: 2500mAh / 구성: 바닥, 침구, 솔형, 틈새, 연장툴, 거치대 / 무게: 1.5kg / 색상:화이트 / 소비전력: 450W \n"
     ]
    }
   ],
   "source": [
    "# 스펙\n",
    "spec = prod_item.select('div.spec_list')[0].text\n",
    "print(spec)"
   ]
  },
  {
   "cell_type": "code",
   "execution_count": 33,
   "metadata": {},
   "outputs": [
    {
     "name": "stdout",
     "output_type": "stream",
     "text": [
      "[['\\n샤오미 드리미 V10\\n', '2019.10', '147,160', '핸디/스틱청소기 / 핸디+스틱형 / 무선형 / 전압: 25.2V / 헤파필터 / H12급 / 5단계여과 / 흡입력: 140AW / 흡입력: 22000Pa / 먼지통용량: 0.5L / 충전시간: 3시간30분 / 사용시간: 1시간 / 용량: 2500mAh / 구성: 바닥, 침구, 솔형, 틈새, 연장툴, 거치대 / 무게: 1.5kg / 색상:화이트 / 소비전력: 450W '], ['\\nLG전자 코드제로 ThinQ A9S A9700\\n', '2020.03', '960,260', '핸디/스틱청소기 / 핸디+스틱형 / 무선형 / 헤파필터 / 2중터보싸이클론 / 5단계여과 / 인버터모터 / 흡입력: 200W / 충전시간: 4시간 / 사용시간: 2시간 / 배터리: 리튬이온 (2개) / 구성: 바닥, 물걸레, 침구, 솔형, 굳은먼지, 상부청소, 틈새, 긴틈새, 매트리스, 연장툴, 거치대 / 자동물공급 / 디스플레이표시창 / 배터리잔량표시 / WiFi / 색상:판타지실버 / 소비전력: 590W / 미세먼지인증(SLG) / 크기(가로x세로x깊이): 250x1120x260mm\\t\\t\\t\\t\\t\\t\\t\\t'], ['\\n샤오미 CLEANFLY 차량용 무선 청소기 3세대 (해외구매)\\n', '2020.02', '49,900', '차량용청소기 / 무선 / 흡입력: 16,800Pa / 최대출력: 120W / 헤파필터 / 추가노즐: 틈새, 솔브러쉬, 연장호스 / 사용시간: 25분 / 크기 : 369x72mm / 무게 : 560g\\t\\t\\t\\t\\t\\t\\t\\t'], ['\\n삼성전자 제트 VS15R8500BF\\n', '2020.10', '387,310', '핸디/스틱청소기 / 핸디+스틱형 / 무선형 / 전압: 21.6V / 헤파필터 / 싸이클론 / 5단계여과 / 인버터모터 / 흡입력: 150W / 먼지통용량: 0.5L / 충전시간: 3시간30분 / 사용시간: 40분 / 배터리: 리튬이온 / 구성: 바닥, 솔형, 틈새, 거치대 / 디스플레이표시창 / 프리볼트 / 무게: 2.57kg / 색상:틸민트 / 소비전력: 410W / 알레르기인증(BAF) / 미세먼지인증(SLG) / 크기(가로x세로x깊이): 250x1123x215mm\\t\\t\\t\\t\\t\\t\\t\\t'], ['\\nLG전자 코드제로 ThinQ A9S A9570\\n', '2020.04', '879,710', '핸디/스틱청소기 / 핸디+스틱형 / 무선형 / 헤파필터 / 2중터보싸이클론 / 5단계여과 / 인버터모터 / 흡입력: 200W / 충전시간: 4시간 / 사용시간: 2시간 / 배터리: 리튬이온 (2개) / 구성: 바닥, 물걸레, 침구, 솔형, 굳은먼지, 틈새, 매트리스, 거치대 / 자동물공급 / 디스플레이표시창 / 배터리잔량표시 / WiFi / 색상:판타지실버 / 소비전력: 590W / 미세먼지인증(SLG) / 크기(가로x세로x깊이): 250x1120x260mm\\t\\t\\t\\t\\t\\t\\t\\t'], ['\\nFQwsLzckeD\\n', '', '651177', '\\n\\t\\t\\t\\t\\t\\t\\t\\tFQwsLzckeD651177\\n\\t\\t\\t\\t\\t\\t\\t'], ['\\n다이슨 V8 플러피\\n', '2019.05', '426,910', '핸디/스틱청소기 / 핸디+스틱형 / 무선형 / 전압: 21.6V / 싸이클론 / 흡입력: 155AW / 충전시간: 5시간 / 사용시간: 40분 / 배터리: 리튬이온 / 구성: 소프트롤러, 미니모터, 솔형, 더스팅, 틈새, 매트리스, 연장툴, 도킹스테이션 / 무게: 2.58kg / 소비전력: 485W / 크기(가로x세로x깊이): 250x1264x224mm\\t\\t\\t\\t\\t\\t\\t\\t'], ['\\n삼성전자 제트 VS20T9258SDCS\\n', '2020.09', '848,990', '핸디/스틱청소기 / 핸디+스틱형 / 무선형 / 전압: 21.6V / 헤파필터 / 싸이클론 / 5단계여과 / 인버터모터 / 흡입력: 200W / 먼지통용량: 0.5L / 충전시간: 3시간30분 / 사용시간: 2시간 / 배터리: 리튬이온 (2개) / 구성: 바닥, 물걸레, 침구, 솔형, 틈새, 연장툴, 거치대 / 디스플레이표시창 / 프리볼트 / 무게: 2.64kg / 색상:티탄+그레이 / 소비전력: 550W / 알레르기인증(BAF) / 미세먼지인증(SLG) / 크기(가로x세로x깊이): 250x1123x215mm / [VCA-SAE90A] 청정스테이션 / 색상: 블랙 / 크기(가로x세로x깊이): 185x600x180mm\\t\\t\\t\\t\\t\\t\\t\\t'], ['\\nLG전자 코드제로 A9 A9100\\n', '2020.11', '513,770', '핸디/스틱청소기 / 핸디+스틱형 / 무선형 / 헤파필터 / 2중터보싸이클론 / 5단계여과 / 인버터모터 / 충전시간: 3시간30분 / 사용시간: 40분 / 배터리: 리튬이온 / 구성: 바닥, 솔형, 틈새, 거치대 / 배터리잔량표시 / 색상:판타지실버 / 소비전력: 450W / 알레르기인증(BAF) / 미세먼지인증(SLG) / 크기(가로x세로x깊이): 250x1120x260mm\\t\\t\\t\\t\\t\\t\\t\\t'], ['\\n샤오미 드리미 V11\\n', '2020.06', '254,310', '핸디/스틱청소기 / 핸디+스틱형 / 무선형 / 전압: 25.2V / 멀티싸이클론 / 5단계여과 / BLDC모터 / 흡입력: 150AW / 흡입력: 25000Pa / 먼지통용량: 0.5L / 충전시간: 4시간 / 사용시간: 1시간30분 / 용량: 3000mAh / 구성: 바닥, 침구, 솔형, 틈새, 연장툴, 거치대 / 디스플레이표시창 / 무게: 1.6kg / 색상:레드 / 소비전력: 450W / 크기(가로x세로): 202x1221mm\\t\\t\\t\\t\\t\\t\\t\\t'], ['\\n일렉트로룩스 WELL Q6 WQ61-1OGG\\n', '2020.09', '166,980', '핸디/스틱청소기 / 핸디+스틱형 / 무선형 / 전압: 18V / 싸이클론 / 5단계여과 / 먼지통용량: 0.3L / 충전시간: 4시간30분 / 사용시간: 45분 / 배터리: 리튬이온 / 구성: 바닥, 솔형, 틈새, 거치대 / 브러쉬자동청소 / 셀프스탠딩 / LED라이트 / 배터리잔량표시 / 무게: 2.65kg / 색상:그라나이트그레이 / 크기(가로x세로x깊이): 386x692x146mm\\t\\t\\t\\t\\t\\t\\t\\t'], ['\\n삼성전자 제트 VS20T9257SECS\\n', '2020.09', '746,680', '핸디/스틱청소기 / 핸디+스틱형 / 무선형 / 전압: 21.6V / 헤파필터 / 싸이클론 / 5단계여과 / 인버터모터 / 흡입력: 200W / 먼지통용량: 0.5L / 충전시간: 3시간30분 / 사용시간: 2시간 / 배터리: 리튬이온 (2개) / 구성: 바닥, 물걸레, 솔형, 틈새, 연장툴, 거치대 / 디스플레이표시창 / 프리볼트 / 무게: 2.64kg / 색상:티탄+민트 / 소비전력: 550W / 알레르기인증(BAF) / 미세먼지인증(SLG) / 크기(가로x세로x깊이): 250x1123x215mm / [VCA-SAE90A] 청정스테이션 / 색상: 블랙 / 크기(가로x세로x깊이): 185x600x180mm\\t\\t\\t\\t\\t\\t\\t\\t'], ['\\n다이슨 V10 카본파이버\\n', '2018.09', '588,550', '핸디/스틱청소기 / 핸디+스틱형 / 무선형 / 전압: 25.2V / 싸이클론 / 흡입력: 160AW / 충전시간: 3시간30분 / 사용시간: 1시간 / 배터리: 리튬이온 / 구성: 소프트롤러, 토크드라이브, 미니모터, 솔형, 더스팅, 틈새, 긴틈새, 연장툴, 도킹스테이션 / 무게: 2.5kg / 소비전력: 525W / 크기(가로x세로x깊이): 250x1241x256mm\\t\\t\\t\\t\\t\\t\\t\\t'], ['\\n삼성전자 제트 VS20T9213QDCSP\\n', '2020.12', '716,040', '핸디/스틱청소기 / 핸디+스틱형 / 무선형 / 전압: 21.6V / 헤파필터 / 싸이클론 / 5단계여과 / 인버터모터 / 흡입력: 200W / 먼지통용량: 0.5L / 충전시간: 3시간30분 / 사용시간: 1시간 / 배터리: 리튬이온 (2개) / 구성: 바닥, 솔형, 틈새, 거치대 / 디스플레이표시창 / 프리볼트 / 무게: 2.64kg / 색상:티탄+그레이 / 소비전력: 550W / 알레르기인증(BAF) / 미세먼지인증(SLG) / 크기(가로x세로x깊이): 250x1123x215mm / [VCA-SAE90A] 청정스테이션 / 색상: 블랙 / 크기(가로x세로x깊이): 185x600x180mm\\t\\t\\t\\t\\t\\t\\t\\t'], ['\\n다이슨 디지털 슬림 플러피+\\n', '2020.07', '691,360', '핸디/스틱청소기 / 핸디+스틱형 / 무선형 / 싸이클론 / 5단계여과 / 흡입력: 100AW / 먼지통용량: 0.3L / 충전시간: 3시간30분 / 사용시간: 40분 / 구성: 슬림소프트롤러, 미니모터, 솔형, 스터번더트, 틈새, 매트리스, 연장툴, 거치대, 도킹스테이션 / 디스플레이표시창 / 무게: 1.9kg / 색상:오렌지 / 크기(가로x세로x깊이): 250x1100x250mm\\t\\t\\t\\t\\t\\t\\t\\t'], ['\\nLG전자 코드제로 ThinQ A9S A9470\\n', '2020.05', '1,006,830', '핸디/스틱청소기 / 핸디+스틱형 / 무선형 / 헤파필터 / 2중터보싸이클론 / 5단계여과 / 인버터모터 / 충전시간: 4시간 / 사용시간: 2시간 / 배터리: 리튬이온 (2개) / 구성: 바닥, 물걸레, 솔형, 틈새, 거치대 / 자동물공급 / 디스플레이표시창 / 배터리잔량표시 / WiFi / 색상:아이언그레이 / 소비전력: 590W / 미세먼지인증(SLG) / 크기(가로x세로x깊이): 250x1120x260mm\\t\\t\\t\\t\\t\\t\\t\\t'], ['\\nLG전자 코드제로 ThinQ A9S A9500\\n', '2020.05', '820,010', '핸디/스틱청소기 / 핸디+스틱형 / 무선형 / 헤파필터 / 2중터보싸이클론 / 5단계여과 / 인버터모터 / 흡입력: 200W / 충전시간: 4시간 / 사용시간: 2시간 / 배터리: 리튬이온 (2개) / 구성: 바닥, 침구, 솔형, 굳은먼지, 틈새, 매트리스, 거치대 / 디스플레이표시창 / 배터리잔량표시 / WiFi / 색상:아이언그레이 / 소비전력: 590W / 미세먼지인증(SLG) / 크기(가로x세로x깊이): 250x1120x260mm\\t\\t\\t\\t\\t\\t\\t\\t'], ['\\n다이슨 V11 컴플리트\\n', '2019.04', '799,700', '핸디/스틱청소기 / 핸디+스틱형 / 무선형 / 싸이클론 / 흡입력: 185AW / 먼지통용량: 0.54L / 충전시간: 4시간30분 / 사용시간: 1시간 / 구성: 하이토크, 소프트롤러, 미니모터, 솔형, 더스팅, 스터번더트, 틈새, 매트리스, 거치대, 도킹스테이션 / 디스플레이표시창 / 무게: 2.95kg / 색상:니켈블루 / 크기(가로x세로x깊이): 250x1280x261mm\\t\\t\\t\\t\\t\\t\\t\\t'], ['\\n샤오미 SHUNZAO 차량용 무선청소기 2세대 Z1 PRO (해외구매)\\n', '2019.10', '42,140', '차량용청소기 / 무선 / 흡입력: 12,000Pa / 최대출력: 120W / 2중필터 / 추가노즐: 틈새, 솔브러쉬 / LED라이트 / 사용시간: 30분 / 충전시간: 2시간30분 / 충전방식: USB C타입 / 크기: 73x76x336mm / 무게: 610g\\t\\t\\t\\t\\t\\t\\t\\t'], ['\\n다이슨 옴니 글라이드 컴플리트+\\n', '2020.10', '558,480', '핸디/스틱청소기 / 핸디+스틱형 / 무선형 / 싸이클론 / 5단계여과 / 흡입력: 50AW / 먼지통용량: 0.2L / 충전시간: 3시간30분 / 사용시간: 20분 / 배터리: 리튬이온 / 구성: 전방향플러피, 미니모터, 솔형, 틈새, 서페이스, 연장툴, 거치대, 도킹스테이션 / 무게: 1.9kg / 색상:퍼플 / 크기(가로x세로x깊이): 208x1077x92mm\\t\\t\\t\\t\\t\\t\\t\\t'], ['\\n일렉트로룩스 PURE Q9 PQ91-3EM\\n', '2019.09', '334,960', '핸디/스틱청소기 / 핸디+스틱형 / 무선형 / 전압: 25.2V / 싸이클론 / 5단계여과 / 먼지통용량: 0.3L / 충전시간: 4시간 / 사용시간: 55분 / 배터리: 리튬이온 / 구성: 바닥, 솔형, 틈새, 긴틈새, 거치대 / 브러쉬자동청소 / 셀프스탠딩 / LED라이트 / 무게: 2.75kg / 색상:마호가니브론즈 / 크기(가로x세로x깊이): 256x1100x130mm\\t\\t\\t\\t\\t\\t\\t\\t'], ['\\n다이슨 옴니 글라이드+\\n', '2020.10', '482,290', '핸디/스틱청소기 / 핸디+스틱형 / 무선형 / 싸이클론 / 5단계여과 / 흡입력: 50AW / 먼지통용량: 0.2L / 충전시간: 3시간30분 / 사용시간: 20분 / 배터리: 리튬이온 / 구성: 전방향플러피, 미니모터, 솔형, 틈새, 서페이스, 도킹스테이션 / 무게: 1.9kg / 색상:골드 / 크기(가로x세로x깊이): 208x1077x92mm\\t\\t\\t\\t\\t\\t\\t\\t'], ['\\n삼성전자 제트 VS20T9213QDCSW\\n', '2020.10', '755,540', '핸디/스틱청소기 / 핸디+스틱형 / 무선형 / 전압: 21.6V / 헤파필터 / 싸이클론 / 5단계여과 / 인버터모터 / 흡입력: 200W / 먼지통용량: 0.5L / 충전시간: 3시간30분 / 사용시간: 1시간 / 배터리: 리튬이온 / 구성: 바닥, 물걸레, 솔형, 틈새, 거치대 / 디스플레이표시창 / 프리볼트 / 무게: 2.64kg / 색상:티탄+그레이 / 소비전력: 550W / 알레르기인증(BAF) / 미세먼지인증(SLG) / 크기(가로x세로x깊이): 250x1123x215mm / [VCA-SAE90A] 청정스테이션 / 색상: 블랙 / 크기(가로x세로x깊이): 185x600x180mm\\t\\t\\t\\t\\t\\t\\t\\t'], ['\\nLG전자 코드제로 A9S A9300\\n', '2020.05', '696,350', '핸디/스틱청소기 / 핸디+스틱형 / 무선형 / 헤파필터 / 2중터보싸이클론 / 5단계여과 / 인버터모터 / 흡입력: 200W / 충전시간: 4시간 / 사용시간: 1시간 / 배터리: 리튬이온 / 구성: 바닥, 솔형, 굳은먼지, 틈새, 매트리스, 거치대 / 디스플레이표시창 / 배터리잔량표시 / WiFi / 색상:아이언그레이 / 소비전력: 590W / 미세먼지인증(SLG) / 크기(가로x세로x깊이): 250x1120x260mm\\t\\t\\t\\t\\t\\t\\t\\t'], ['\\nLG전자 코드제로 ThinQ A9S A9400\\n', '2020.05', '793,440', '핸디/스틱청소기 / 핸디+스틱형 / 무선형 / 헤파필터 / 2중터보싸이클론 / 5단계여과 / 인버터모터 / 흡입력: 200W / 충전시간: 4시간 / 사용시간: 2시간 / 배터리: 리튬이온 (2개) / 구성: 바닥, 솔형, 굳은먼지, 틈새, 매트리스, 거치대 / 디스플레이표시창 / 배터리잔량표시 / WiFi / 색상:판타지실버 / 소비전력: 590W / 미세먼지인증(SLG) / 크기(가로x세로x깊이): 250x1120x260mm\\t\\t\\t\\t\\t\\t\\t\\t'], ['\\n샤오미 SHUNZAO Z11\\n', '2020.01', '159,000', '핸디/스틱청소기 / 핸디+스틱형 / 무선형 / 전압: 25.2V / 헤파필터 / 싸이클론 / 5단계여과 / 흡입력: 150AW / 흡입력: 26000Pa / 먼지통용량: 0.5L / 충전시간: 3시간 / 사용시간: 1시간 / 배터리: 리튬이온 / 용량: 2500mAh / 구성: 바닥, 침구, 솔형, 틈새, 연장툴, 거치대 / 디스플레이표시창 / 배터리잔량표시 / 색상:화이트 '], ['\\n휴스톰 HS-10000\\n', '2019.03', '137,240', '물걸레청소기 / 스틱형 / 회전식 / 무선형 / 전압: 14.6V / 충전시간: 2시간30분 / 사용시간: 30분 / 배터리: 리튬이온 / 용량: 2750mAh / LED라이트 / 가구손상방지 / 각도조절 / 셀프스탠딩 / 배터리잔량표시 / 프리볼트 / 무게: 3.7kg / 색상:블랙 / 모터과열방지 / 과충전방지 / 오토스토핑 / 패드: 극세사(벨크로형) / 크기(가로x세로x깊이): 410x1180x205mm\\t\\t\\t\\t\\t\\t\\t\\t'], ['\\nDIBEA TSX-25000A\\n', '2019.12', '190,890', '핸디/스틱청소기 / 핸디+스틱형 / 무선형 / 전압: 29.6V / 헤파필터 / H13급 / 싸이클론 / BLDC모터 / 흡입력: 25000Pa / 먼지통용량: 0.5L / 충전시간: 2시간 / 사용시간: 45분 / 배터리: 리튬이온 / 용량: 2000mAh / 구성: 바닥, 침구, 솔형, 틈새, 연장툴, 거치대 / LED라이트 / 무게: 1.35kg / 색상:블랙 / 소비전력: 400W / 크기(가로x세로x깊이): 256x1172x217xmm\\t\\t\\t\\t\\t\\t\\t\\t'], ['\\n신일산업 SVC-D900RK\\n', '2020.03', '27,950', '핸디/스틱청소기 / 핸디형 / 무선형 / 전압: 7.5V / 먼지통용량: 0.4L / 물통용량: 0.1L / 충전시간: 6시간30분 / 사용시간: 15분 / 용량: 300mAh / 구성: 틈새 / 프리볼트 / 무게: 1kg / 색상:화이트 / 소비전력: 40W / 건습식 / 크기(가로x세로x깊이): 137x405x144mm\\t\\t\\t\\t\\t\\t\\t\\t'], ['\\n일렉트로룩스 WELL Q7 WQ71-2OIB\\n', '2020.09', '237,550', '핸디/스틱청소기 / 핸디+스틱형 / 무선형 / 전압: 21.6V / 싸이클론 / 5단계여과 / 먼지통용량: 0.3L / 충전시간: 4시간30분 / 사용시간: 50분 / 배터리: 리튬이온 / 구성: 바닥, 솔형, 더스팅, 틈새, 거치대 / 브러쉬자동청소 / 셀프스탠딩 / LED라이트 / 배터리잔량표시 / 무게: 2.8kg / 색상:인디고블루 / 크기(가로x세로x깊이): 386x692x140mm\\t\\t\\t\\t\\t\\t\\t\\t'], ['\\n삼성전자 VC-H22\\n', '2018.07', '29,130', '핸디/스틱청소기 / 핸디형 / 무선형 / 충전시간: 8시간 / 사용시간: 10분 / 배터리: 니켈수소 / 무게: 0.76kg / 소비전력: 48W / 크기(가로x세로x깊이): 103x317x174mm\\t\\t\\t\\t\\t\\t\\t\\t'], ['\\n일렉트로룩스 PURE Q9 PQ92-3OBF\\n', '2020.05', '314,840', '핸디/스틱청소기 / 핸디+스틱형 / 무선형 / 전압: 25.2V / 싸이클론 / 5단계여과 / 먼지통용량: 0.3L / 충전시간: 4시간 / 사용시간: 53분 / 배터리: 리튬이온 / 구성: 바닥, 솔형, 더스팅, 틈새, 거치대 / 셀프스탠딩 / LED라이트 / 배터리잔량표시 / 무게: 2.89kg / 색상:인디고블루 / 크기(가로x세로x깊이): 256x1097x155mm\\t\\t\\t\\t\\t\\t\\t\\t'], ['\\n삼성전자 제트 VS15R8543S1CW\\n', '2020.03', '487,490', '핸디/스틱청소기 / 핸디+스틱형 / 무선형 / 전압: 21.6V / 헤파필터 / 싸이클론 / 5단계여과 / 인버터모터 / 흡입력: 150W / 먼지통용량: 0.5L / 충전시간: 3시간30분 / 사용시간: 40분 / 배터리: 리튬이온 / 구성: 바닥, 솔형, 틈새, 연장툴, 거치대 / 디스플레이표시창 / 프리볼트 / 무게: 2.57kg / 색상:틸민트 / 소비전력: 410W / 알레르기인증(BAF) / 미세먼지인증(SLG) / 크기(가로x세로x깊이): 250x1123x215mm / [VCA-SAE90A] 청정스테이션 / 색상: 화이트 / 크기(가로x세로x깊이): 185x600x180mm\\t\\t\\t\\t\\t\\t\\t\\t'], ['\\n샤오미 드리미 V9\\n', '2019.02', '286,080', '핸디/스틱청소기 / 핸디+스틱형 / 무선형 / 전압: 25.2V / 헤파필터 / 싸이클론 / 5단계여과 / 흡입력: 120AW / 흡입력: 20000Pa / 먼지통용량: 0.5L / 충전시간: 3시간30분 / 사용시간: 60분 / 용량: 2500mAh / 구성: 바닥, 침구, 솔형, 틈새, 연장툴, 거치대 / 무게: 1.5kg / 색상:화이트 / 소비전력: 400W '], ['\\nLG전자 코드제로 A9S A9370\\n', '2020.06', '704,220', '핸디/스틱청소기 / 핸디+스틱형 / 무선형 / 헤파필터 / 2중터보싸이클론 / 5단계여과 / 인버터모터 / 충전시간: 4시간 / 사용시간: 1시간 / 배터리: 리튬이온 / 구성: 바닥, 물걸레, 솔형, 틈새, 거치대 / 자동물공급 / 디스플레이표시창 / 배터리잔량표시 / WiFi / 색상:아이언그레이 / 소비전력: 590W / 미세먼지인증(SLG) / 크기(가로x세로x깊이): 250x1120x260mm\\t\\t\\t\\t\\t\\t\\t\\t'], ['\\n샤오미 미지아 차량용 핸디 무선 청소기 (해외구매)\\n', '2020.09', '33,520', '차량용청소기 / 무선 / 흡입력: 13,000Pa / 최대출력: 120W / 헤파필터 / 추가노즐: 틈새, 솔브러쉬 / 사용시간: 9~30분 / 버튼 잠금 장치 / 2단 세기 조절 / 크기: 55x267mm / 무게: 500g\\t\\t\\t\\t\\t\\t\\t\\t'], ['\\n삼성전자 제트 VS20R9078S2\\n', '2019.02', '673,490', '핸디/스틱청소기 / 핸디+스틱형 / 무선형 / 전압: 21.9V / 헤파필터 / 싸이클론 / 5단계여과 / 인버터모터 / 흡입력: 200W / 먼지통용량: 0.5L / 충전시간: 3시간30분 / 사용시간: 2시간 / 배터리: 리튬이온 (2개) / 구성: 바닥, 물걸레, 침구, 솔형, 틈새, 연장툴, 거치대 / 물걸레 / 디스플레이표시창 / 프리볼트 / 무게: 2.7kg / 색상:티탄+블루 / 소비전력: 550W / 알레르기인증(BAF) / 미세먼지인증(SLG) / 크기(가로x세로x깊이): 250x1136x215mm\\t\\t\\t\\t\\t\\t\\t\\t'], ['\\n샤오미 SWDK-D260\\n', '2017.08', '104,710', '물걸레청소기 / 스틱형 / 왕복식 / 무선형 / 전압: 12.6V / 충전시간: 3시간 / 사용시간: 50분 / 배터리: 리튬이온 / 용량: 2000mAh / 물분사 / LED라이트 / 프리볼트 / 무게: 2.4kg / 색상:화이트 / 110V / 변환어댑터: 필요\\t\\t\\t\\t\\t\\t\\t\\t'], ['\\n다이슨 V8 카본파이버\\n', '2017.09', '460,560', '핸디/스틱청소기 / 핸디+스틱형 / 무선형 / 싸이클론 / 흡입력: 155W / 충전시간: 5시간 / 사용시간: 40분 / 배터리: 리튬이온 / 구성: 소프트롤러, 다이렉트드라이브, 미니모터, 솔형, 더스팅, 틈새, 긴틈새, 매트리스, 연장툴, 업탑어댑터, 도킹스테이션 / 무게: 2.63kg / 소비전력: 485W / 크기(가로x세로x깊이): 250x1244x210mm\\t\\t\\t\\t\\t\\t\\t\\t'], ['\\n샤오미 TROUVER TECH SOLO10\\n', '2020.11', '94,760', '핸디/스틱청소기 / 핸디+스틱형 / 무선형 / 전압: 21.6V / 5단계여과 / BLDC모터 / 흡입력: 85AW / 흡입력: 18000Pa / 먼지통용량: 0.4L / 충전시간: 3시간30분 / 사용시간: 48분 / 용량: 2000mAh / 구성: 바닥, 솔형, 틈새 / 디스플레이표시창 / 배터리잔량표시 / 무게: 1.4kg / 색상:화이트+레드 / 소비전력: 300W '], ['\\n일렉트로룩스 라피도 ZB6114\\n', '2017.05', '77,130', '핸디/스틱청소기 / 핸디형 / 무선형 / 전압: 14.4V / 싸이클론 / 3단계여과 / 충전시간: 4시간 / 사용시간: 24분 / 배터리: 리튬이온 / 구성: 거치대 / 무게: 1.13kg / 색상:텅스텐메탈릭 / 5단계각도조절 / 바퀴 / 크기(가로x세로x깊이): 124x410x137mm\\t\\t\\t\\t\\t\\t\\t\\t']]\n"
     ]
    }
   ],
   "source": [
    "# 모든 리스트 불러오기\n",
    "prod_item = soup.select('#productListArea > div.main_prodlist.main_prodlist_list > ul > li')\n",
    "data = []\n",
    "\n",
    "for i in prod_item:\n",
    "    try: \n",
    "        name = i.select('p.prod_name')[0].text\n",
    "    except:\n",
    "        name = ''\n",
    "    try: \n",
    "        date = i.select('dl.meta_item.mt_date > dd')[0].text\n",
    "    except:\n",
    "        date = ''\n",
    "    try: \n",
    "        price = i.select('p.price_sect strong')[0].text\n",
    "    except:\n",
    "        price = ''\n",
    "    try: \n",
    "        spec = i.select('div.spec_list')[0].text\n",
    "    except:\n",
    "        spec = ''\n",
    "    data.append([name,date,price,spec])\n",
    "print(data)"
   ]
  },
  {
   "cell_type": "markdown",
   "metadata": {},
   "source": [
    "### 1-2. 한 페이지 내의 모든 데이터 가져오기"
   ]
  },
  {
   "cell_type": "code",
   "execution_count": 52,
   "metadata": {},
   "outputs": [
    {
     "name": "stdout",
     "output_type": "stream",
     "text": [
      "<li class=\"prod_item\" id=\"productItem9781572\">\n",
      "<input id=\"productItem_categoryInfo_9781572\" type=\"hidden\" value=\"생활가전_청소기\"/>\n",
      "<input id=\"min_price_9781572\" type=\"hidden\" value=\"147160\"/>\n",
      "<div class=\"prod_main_info\">\n",
      "<div class=\"thumb_image\">\n",
      "<a class=\"thumb_link\" href=\"http://prod.danawa.com/info/?pcode=9781572&amp;keyword=무선청소기&amp;cate=103740\" id=\"thumbLink_9781572\" onmousedown=\"_trkEventLog('통합검색_상품블로그_유입');\" target=\"_blank\">\n",
      "<img alt=\"V10\" class=\"click_log_product_standard_img_\" src=\"http://img.danawa.com/prod_img/500000/572/781/img/9781572_1.jpg?shrink=160:160&amp;_v=20210110210436\"/>\n",
      "</a>\n",
      "<a class=\"btn_view_zoom\" data-assemblygallerycategory=\"N\" href=\"#\" id=\"imageZoom_9781572\" onclick=\"return false;\">\n",
      "<span class=\"ico i_zoom_vw\"></span>이미지보기\n",
      "\t\t\t\t\t\t\t</a>\n",
      "<input id=\"hidden_cate_sub_c1\" type=\"hidden\" value=\"72\"/>\n",
      "<input id=\"hidden_cate_sub_c2\" type=\"hidden\" value=\"80\"/>\n",
      "<input id=\"hidden_cate_sub_c3\" type=\"hidden\" value=\"81\"/>\n",
      "</div>\n",
      "<div class=\"prod_info\">\n",
      "<p class=\"prod_name\">\n",
      "<a class=\"click_log_product_standard_title_\" href=\"http://prod.danawa.com/info/?pcode=9781572&amp;keyword=무선청소기&amp;cate=103740\" onmousedown=\"_trkEventLog('통합검색_상품블로그_유입'); doCTR('%EB%AC%B4%EC%84%A0%EC%B2%AD%EC%86%8C%EA%B8%B0','9781572',1);\" target=\"_blank\">샤오미 드리미 V10</a>\n",
      "</p>\n",
      "<dl class=\"prod_spec_set\">\n",
      "<dt class=\"screen_out\">상세 스펙</dt>\n",
      "<dd>\n",
      "<div class=\"spec_list\"><a class=\"view_dic\" href=\"#\" onclick=\"$.termDicViewLink(8501,'view',this,0,72,80); return false;\">핸디/스틱<b>청소기</b></a> / <a class=\"view_dic\" href=\"#\" onclick=\"$.termDicViewLink(7445,'view',this,0,72,80); return false;\">핸디+스틱형</a> / <a class=\"view_dic\" href=\"#\" onclick=\"$.termDicViewLink(14900,'view',this,0,72,80); return false;\">무선형</a> / <a class=\"view_dic\" href=\"#\" onclick=\"$.termDicViewLink(213565,'view',this,0,72,80); return false;\">전압</a>: <a class=\"view_dic\" href=\"#\" onclick=\"$.termDicViewLink(213565,'view',this,0,72,80); return false;\">25.2V</a> / <a class=\"view_dic\" href=\"#\" onclick=\"$.termDicViewLink(14801,'view',this,0,72,80); return false;\">헤파필터</a> / <a class=\"view_dic\" href=\"#\" onclick=\"$.termDicViewLink(14801,'view',this,0,72,80); return false;\">H12급</a> / <a class=\"view_dic\" href=\"#\" onclick=\"$.termDicViewLink(30024,'view',this,0,72,80); return false;\">5단계여과</a> / <a class=\"view_dic\" href=\"#\" onclick=\"$.termDicViewLink(3996,'view',this,0,72,80); return false;\">흡입력</a>: <a class=\"view_dic\" href=\"#\" onclick=\"$.termDicViewLink(3996,'view',this,0,72,80); return false;\">140AW</a> / <a class=\"view_dic\" href=\"#\" onclick=\"$.termDicViewLink(3996,'view',this,0,72,80); return false;\">흡입력</a>: <a class=\"view_dic\" href=\"#\" onclick=\"$.termDicViewLink(3996,'view',this,0,72,80); return false;\">22000Pa</a> / <a class=\"view_dic\" href=\"#\" onclick=\"$.termDicViewLink(214653,'view',this,0,72,80); return false;\">먼지통용량</a>: <a class=\"view_dic\" href=\"#\" onclick=\"$.termDicViewLink(214653,'view',this,0,72,80); return false;\">0.5L</a> / <a class=\"view_dic\" href=\"#\" onclick=\"$.termDicViewLink(14921,'view',this,0,72,80); return false;\">충전시간</a>: <a class=\"view_dic\" href=\"#\" onclick=\"$.termDicViewLink(14921,'view',this,0,72,80); return false;\">3시간30분</a> / <a class=\"view_dic\" href=\"#\" onclick=\"$.termDicViewLink(8515,'view',this,0,72,80); return false;\">사용시간</a>: <a class=\"view_dic\" href=\"#\" onclick=\"$.termDicViewLink(8515,'view',this,0,72,80); return false;\">1시간</a> / <a class=\"view_dic\" href=\"#\" onclick=\"$.termDicViewLink(214659,'view',this,0,72,80); return false;\">용량</a>: <a class=\"view_dic\" href=\"#\" onclick=\"$.termDicViewLink(214659,'view',this,0,72,80); return false;\">2500mAh</a> / 구성: <a class=\"view_dic\" href=\"#\" onclick=\"$.termDicViewLink(18333,'view',this,0,72,80); return false;\">바닥</a>, <a class=\"view_dic\" href=\"#\" onclick=\"$.termDicViewLink(18453,'view',this,0,72,80); return false;\">침구</a>, <a class=\"view_dic\" href=\"#\" onclick=\"$.termDicViewLink(18442,'view',this,0,72,80); return false;\">솔형</a>, <a class=\"view_dic\" href=\"#\" onclick=\"$.termDicViewLink(18436,'view',this,0,72,80); return false;\">틈새</a>, <a class=\"view_dic\" href=\"#\" onclick=\"$.termDicViewLink(27313,'view',this,0,72,80); return false;\">연장툴</a>, <a class=\"view_dic\" href=\"#\" onclick=\"$.termDicViewLink(30019,'view',this,0,72,80); return false;\">거치대</a> / <a class=\"view_dic\" href=\"#\" onclick=\"$.termDicViewLink(27312,'view',this,0,72,80); return false;\">무게</a>: <a class=\"view_dic\" href=\"#\" onclick=\"$.termDicViewLink(27312,'view',this,0,72,80); return false;\">1.5kg</a> / <a class=\"view_dic\" href=\"#\" onclick=\"$.termDicViewLink(14771,'view',this,0,72,80); return false;\">색상:화이트</a> / <a class=\"view_dic\" href=\"#\" onclick=\"$.termDicViewLink(1743,'view',this,0,72,80); return false;\">소비전력</a>: <a class=\"view_dic\" href=\"#\" onclick=\"$.termDicViewLink(1743,'view',this,0,72,80); return false;\">450W</a> </div>\n",
      "</dd>\n",
      "</dl>\n",
      "<div class=\"relation_goods_unit\" id=\"relation_goods_unit_9781572\"><dl class=\"unit_goods_list\"><dt class=\"title_unit\">관련용품▶</dt><dd class=\"unit_lists\"><a class=\"unit_link view_dic\" data-relationcode=\"10560216\" href=\"#\" onclick=\"return false;\">헤파필터</a><span class=\"ucomma\">,</span><a class=\"unit_link view_dic\" data-relationcode=\"10526325\" href=\"#\" onclick=\"return false;\">롤브러쉬</a></dd></dl></div>\n",
      "<div class=\"prod_sub_info\">\n",
      "<div class=\"prod_sub_meta\">\n",
      "<dl class=\"meta_item mt_date\">\n",
      "<dt>등록월</dt>\n",
      "<dd>2019.10</dd>\n",
      "</dl>\n",
      "<dl class=\"meta_item mt_comment\">\n",
      "<dt><span class=\"dt_behind\">상품의견</span></dt>\n",
      "<dd>\n",
      "<div class=\"cnt_star\">\n",
      "<div class=\"point_type_list\">\n",
      "<div class=\"mask\" style=\"width:92%\">\n",
      "</div>\n",
      "</div>\n",
      "<div class=\"point_num\">\n",
      "<strong>4.6</strong>점\n",
      "\t\t\t\t\t\t\t\t\t\t\t\t\t\t</div>\n",
      "</div>\n",
      "<div class=\"cnt_opinion\">\n",
      "\t\t\t\t\t\t\t\t\t\t\t\t\t\t(<a class=\"click_log_prod_content_count\" href=\"http://prod.danawa.com/info/?pcode=9781572&amp;keyword=무선청소기&amp;cate=103740#bookmark_cm_opinion\" onmousedown=\"_trkEventLog('통합검색_상품블로그_유입');\" target=\"_blank\"><strong>766</strong></a>건)\n",
      "\t\t\t\t\t\t\t\t\t\t\t\t\t</div>\n",
      "</dd>\n",
      "</dl>\n",
      "<dl class=\"meta_item\">\n",
      "<dt class=\"screen_out\">관심상품</dt>\n",
      "<dd>\n",
      "<a class=\"click_log_wishList\" href=\"#\" onclick=\"javascript:$.danawaAddProductToWishList(this, '9781572',' search', '', '', '147160');return false;\" onmousedown=\"doCTR('%EB%AC%B4%EC%84%A0%EC%B2%AD%EC%86%8C%EA%B8%B0','9781572',4);\" title=\"관심상품에 담기\">관심상품</a>\n",
      "</dd>\n",
      "<input id=\"wishListBundleVal_9781572\" type=\"hidden\" value=\"//샤오미 드리미 V10\"/>\n",
      "</dl>\n",
      "</div>\n",
      "<dl class=\"prod_category_location\">\n",
      "<dt class=\"screen_out\">상품분류</dt>\n",
      "<dd>\n",
      "<a href=\"http://prod.danawa.com/list/?cate=103740\" onmousedown=\"80\" target=\"doCTR('%EB%AC%B4%EC%84%A0%EC%B2%AD%EC%86%8C%EA%B8%B0',9781572,3);\"><span>생활가전</span> &gt; <span>청소기</span> &gt; <span>핸디/스틱</span></a> <div class=\"more_cate_layer\" style=\"display: none; z-index: 1;\">\n",
      "<ul class=\"list_category_location\">\n",
      "</ul>\n",
      "</div>\n",
      "</dd>\n",
      "</dl>\n",
      "</div>\n",
      "</div>\n",
      "<div class=\"prod_pricelist\" data-cate=\"72|80|81|0\">\n",
      "<ul>\n",
      "<li class=\"rank_one\" id=\"productInfoDetail_9781572\">\n",
      "<p class=\"chk_sect\">\n",
      "\t\t\t\t\t\t\t\t\t\t180몰\n",
      "\t\t\t\t\t\t\t\t\t\t\t\t\t\t\t\t\t\t\t\t\t<label for=\"prodCompareCheck_9781572\">\n",
      "<input id=\"prodCompareCheck_9781572\" type=\"checkbox\"/><strong>상품비교</strong>\n",
      "</label>\n",
      "<input name=\"compareValue\" type=\"hidden\" value=\"9781572\"/>\n",
      "<input name=\"compareRepValue\" type=\"hidden\" value=\"9781572\"/>\n",
      "</p>\n",
      "<p class=\"price_sect\">\n",
      "<a class=\"click_log_product_standard_price_\" href=\"http://prod.danawa.com/info/?pcode=9781572&amp;keyword=무선청소기&amp;cate=103740\" onmousedown=\"doCTR('%EB%AC%B4%EC%84%A0%EC%B2%AD%EC%86%8C%EA%B8%B0','9781572',1);; _trkEventLog('통합검색_상품블로그_유입'); \" target=\"_blank\">\n",
      "<strong>147,160</strong>원\t\t\t\t\t\t\t\t\t\t</a>\n",
      "<span class=\"more_btn_wrap\">\n",
      "<button class=\"ico i_more\">가격정보 더보기</button>\n",
      "<span class=\"layer_price_more\" id=\"layer_price_more_9781572\"></span>\n",
      "<span class=\"sep_line\"></span>\n",
      "</span>\n",
      "</p>\n",
      "<p class=\"memory_sect\">\n",
      "\t\t\t\t\t\t\t\t\t\t\t\t\t\t\t\t\t\t\t\t\t\t\t해외구매\t\t\t\t\t\t\t\t\t\t\t\t\t\t\t\t\t\t\t\t\t\t<a href=\"http://prod.danawa.com/info/?pcode=9781572&amp;keyword=무선청소기&amp;cate=103740\" onmousedown=\"doCTR('%EB%AC%B4%EC%84%A0%EC%B2%AD%EC%86%8C%EA%B8%B0','9781572',1);\" target=\"_blank\">\n",
      "</a>\n",
      "</p>\n",
      "</li>\n",
      "</ul>\n",
      "</div>\n",
      "</div>\n",
      "</li>\n"
     ]
    }
   ],
   "source": [
    "prod_item = soup.select('li.prod_item')[1]\n",
    "print(prod_item)\n"
   ]
  },
  {
   "cell_type": "code",
   "execution_count": 53,
   "metadata": {},
   "outputs": [
    {
     "name": "stdout",
     "output_type": "stream",
     "text": [
      "\n",
      "샤오미 드리미 V10\n",
      "\n"
     ]
    }
   ],
   "source": [
    "name = prod_item.select('p.prod_name')[0].text\n",
    "print(name)"
   ]
  },
  {
   "cell_type": "code",
   "execution_count": 56,
   "metadata": {},
   "outputs": [
    {
     "name": "stdout",
     "output_type": "stream",
     "text": [
      "[]\n"
     ]
    }
   ],
   "source": [
    "price = prod_item.select('p.price_sect > strong')\n",
    "print(price)"
   ]
  },
  {
   "cell_type": "code",
   "execution_count": null,
   "metadata": {},
   "outputs": [],
   "source": []
  }
 ],
 "metadata": {
  "kernelspec": {
   "display_name": "Python 3",
   "language": "python",
   "name": "python3"
  },
  "language_info": {
   "codemirror_mode": {
    "name": "ipython",
    "version": 3
   },
   "file_extension": ".py",
   "mimetype": "text/x-python",
   "name": "python",
   "nbconvert_exporter": "python",
   "pygments_lexer": "ipython3",
   "version": "3.7.6"
  }
 },
 "nbformat": 4,
 "nbformat_minor": 4
}
